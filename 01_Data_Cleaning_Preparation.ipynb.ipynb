{
 "cells": [
  {
   "cell_type": "markdown",
   "metadata": {},
   "source": [
    "# #7DaysOfCode - Ciência de Dados\n",
    "\n",
    "Este notebook faz parte do desafio [7 Days of Code](https://7daysofcode.io/).\n",
    "O objetivo é explorar e transformar os dados utilizando Pandas.\n",
    "\n",
    "Para este projeto, utilizamos os **Dados Abertos do CEAPS** (Cota para Exercício da Atividade Parlamentar), referente ao ano de 2022, disponíveis no site oficial do Senado Federal:  \n",
    "🔗 [ Dados Abertos CEAPS](https://www12.senado.leg.br/transparencia/dados-abertos-transparencia/dados-abertos-ceaps)  "
   ]
  },
  {
   "cell_type": "markdown",
   "metadata": {},
   "source": [
    "# Dia 1: Limpeza e Preparação de Dados"
   ]
  },
  {
   "cell_type": "markdown",
   "metadata": {},
   "source": [
    "# 0.0 Importações"
   ]
  },
  {
   "cell_type": "markdown",
   "metadata": {},
   "source": [
    "## 0.1 Bibliotecas"
   ]
  },
  {
   "cell_type": "code",
   "execution_count": 12,
   "metadata": {},
   "outputs": [],
   "source": [
    "# Importando as bibliotecas necessárias para análise\n",
    "import pandas as pd"
   ]
  },
  {
   "cell_type": "markdown",
   "metadata": {},
   "source": [
    "## 0.2 Dados\n",
    "\n",
    "O arquivo `despesa_ceaps_2022.csv` contém informações sobre despesas parlamentares.  \n",
    "Os ajustes no `read_csv` incluem:\n",
    "- **`encoding='latin1'`** → Define a codificação correta para evitar problemas com caracteres especiais.  \n",
    "- **`sep=';'`** → Define o ponto e vírgula como separador de colunas, já que o formato CSV brasileiro usa `;` em vez de `,`.  \n",
    "- **`quotechar='\"'`** → Define aspas duplas como delimitador de valores textuais, garantindo que campos com `;` internos sejam interpretados corretamente.  \n",
    "- **`skiprows=1`** → Pula a primeira linha do arquivo, que pode conter informações extras fora do cabeçalho.  \n",
    "- **`decimal=','`** → Define que números decimais utilizam `,` em vez de `.` para garantir a conversão correta."
   ]
  },
  {
   "cell_type": "code",
   "execution_count": 13,
   "metadata": {},
   "outputs": [
    {
     "name": "stdout",
     "output_type": "stream",
     "text": [
      "✅ Dados carregados! O dataset contém 16805 linhas e 11 colunas.\n",
      "\n"
     ]
    },
    {
     "data": {
      "text/html": [
       "<div>\n",
       "<style scoped>\n",
       "    .dataframe tbody tr th:only-of-type {\n",
       "        vertical-align: middle;\n",
       "    }\n",
       "\n",
       "    .dataframe tbody tr th {\n",
       "        vertical-align: top;\n",
       "    }\n",
       "\n",
       "    .dataframe thead th {\n",
       "        text-align: right;\n",
       "    }\n",
       "</style>\n",
       "<table border=\"1\" class=\"dataframe\">\n",
       "  <thead>\n",
       "    <tr style=\"text-align: right;\">\n",
       "      <th></th>\n",
       "      <th>ANO</th>\n",
       "      <th>MES</th>\n",
       "      <th>SENADOR</th>\n",
       "      <th>TIPO_DESPESA</th>\n",
       "      <th>CNPJ_CPF</th>\n",
       "      <th>FORNECEDOR</th>\n",
       "      <th>DOCUMENTO</th>\n",
       "      <th>DATA</th>\n",
       "      <th>DETALHAMENTO</th>\n",
       "      <th>VALOR_REEMBOLSADO</th>\n",
       "      <th>COD_DOCUMENTO</th>\n",
       "    </tr>\n",
       "  </thead>\n",
       "  <tbody>\n",
       "    <tr>\n",
       "      <th>0</th>\n",
       "      <td>2022</td>\n",
       "      <td>1</td>\n",
       "      <td>ACIR GURGACZ</td>\n",
       "      <td>Aluguel de imóveis para escritório político, c...</td>\n",
       "      <td>004.948.028-63</td>\n",
       "      <td>GILBERTO PISELO DO NASCIMENTO</td>\n",
       "      <td>001/22</td>\n",
       "      <td>03/01/2022</td>\n",
       "      <td>Despesa com pagamento de aluguel de imóvel par...</td>\n",
       "      <td>6000.00</td>\n",
       "      <td>2173614</td>\n",
       "    </tr>\n",
       "    <tr>\n",
       "      <th>1</th>\n",
       "      <td>2022</td>\n",
       "      <td>1</td>\n",
       "      <td>ACIR GURGACZ</td>\n",
       "      <td>Divulgação da atividade parlamentar</td>\n",
       "      <td>26.320.603/0001-64</td>\n",
       "      <td>INFORMANAHORA</td>\n",
       "      <td>000000000000310/A</td>\n",
       "      <td>04/01/2022</td>\n",
       "      <td>Despesa com divulgação da atividade parlamenta...</td>\n",
       "      <td>1500.00</td>\n",
       "      <td>2173615</td>\n",
       "    </tr>\n",
       "    <tr>\n",
       "      <th>2</th>\n",
       "      <td>2022</td>\n",
       "      <td>1</td>\n",
       "      <td>ACIR GURGACZ</td>\n",
       "      <td>Divulgação da atividade parlamentar</td>\n",
       "      <td>13.659.201/0001-47</td>\n",
       "      <td>LINHA PURPURA FOTO E VIDEO LTDA</td>\n",
       "      <td>107</td>\n",
       "      <td>14/01/2022</td>\n",
       "      <td>Despesa com produção de texto e edição de víde...</td>\n",
       "      <td>6000.00</td>\n",
       "      <td>2173616</td>\n",
       "    </tr>\n",
       "    <tr>\n",
       "      <th>3</th>\n",
       "      <td>2022</td>\n",
       "      <td>1</td>\n",
       "      <td>ACIR GURGACZ</td>\n",
       "      <td>Divulgação da atividade parlamentar</td>\n",
       "      <td>23.652.846/0001-01</td>\n",
       "      <td>ROBERTO GUTIERREZ DA ROCHA M.E.I.</td>\n",
       "      <td>187</td>\n",
       "      <td>18/01/2022</td>\n",
       "      <td>Divulgação da atividade parlamentar</td>\n",
       "      <td>1000.00</td>\n",
       "      <td>2173618</td>\n",
       "    </tr>\n",
       "    <tr>\n",
       "      <th>4</th>\n",
       "      <td>2022</td>\n",
       "      <td>1</td>\n",
       "      <td>ACIR GURGACZ</td>\n",
       "      <td>Divulgação da atividade parlamentar</td>\n",
       "      <td>08.941.827/0001-01</td>\n",
       "      <td>RONDONIA DINÂMICA COM. E SERV. DE INFORMÁTICA ...</td>\n",
       "      <td>000000000001772/A</td>\n",
       "      <td>17/01/2022</td>\n",
       "      <td>Divulgação da atividade parlamentar</td>\n",
       "      <td>2000.00</td>\n",
       "      <td>2173617</td>\n",
       "    </tr>\n",
       "    <tr>\n",
       "      <th>...</th>\n",
       "      <td>...</td>\n",
       "      <td>...</td>\n",
       "      <td>...</td>\n",
       "      <td>...</td>\n",
       "      <td>...</td>\n",
       "      <td>...</td>\n",
       "      <td>...</td>\n",
       "      <td>...</td>\n",
       "      <td>...</td>\n",
       "      <td>...</td>\n",
       "      <td>...</td>\n",
       "    </tr>\n",
       "    <tr>\n",
       "      <th>16800</th>\n",
       "      <td>2022</td>\n",
       "      <td>12</td>\n",
       "      <td>ZEQUINHA MARINHO</td>\n",
       "      <td>Passagens aéreas, aquáticas e terrestres nacio...</td>\n",
       "      <td>22.052.777/0001-32</td>\n",
       "      <td>Exceller Tour</td>\n",
       "      <td>WIXHAI</td>\n",
       "      <td>06/12/2022</td>\n",
       "      <td>Companhia Aérea: LATAM, Localizador: WIXHAI. P...</td>\n",
       "      <td>2893.04</td>\n",
       "      <td>2191398</td>\n",
       "    </tr>\n",
       "    <tr>\n",
       "      <th>16801</th>\n",
       "      <td>2022</td>\n",
       "      <td>12</td>\n",
       "      <td>ZEQUINHA MARINHO</td>\n",
       "      <td>Passagens aéreas, aquáticas e terrestres nacio...</td>\n",
       "      <td>22.052.777/0001-32</td>\n",
       "      <td>Exceller Tour</td>\n",
       "      <td>WITOLM</td>\n",
       "      <td>09/12/2022</td>\n",
       "      <td>Companhia Aérea: GOL, Localizador: WITOLM. Pas...</td>\n",
       "      <td>1180.19</td>\n",
       "      <td>2192272</td>\n",
       "    </tr>\n",
       "    <tr>\n",
       "      <th>16802</th>\n",
       "      <td>2022</td>\n",
       "      <td>12</td>\n",
       "      <td>ZEQUINHA MARINHO</td>\n",
       "      <td>Passagens aéreas, aquáticas e terrestres nacio...</td>\n",
       "      <td>22.052.777/0001-32</td>\n",
       "      <td>Exceller Tour</td>\n",
       "      <td>THPKVQ</td>\n",
       "      <td>20/12/2022</td>\n",
       "      <td>Companhia Aérea: TAM, Localizador: THPKVQ. Pas...</td>\n",
       "      <td>2671.90</td>\n",
       "      <td>2192274</td>\n",
       "    </tr>\n",
       "    <tr>\n",
       "      <th>16803</th>\n",
       "      <td>2022</td>\n",
       "      <td>12</td>\n",
       "      <td>ZEQUINHA MARINHO</td>\n",
       "      <td>Passagens aéreas, aquáticas e terrestres nacio...</td>\n",
       "      <td>22.052.777/0001-32</td>\n",
       "      <td>Exceller Tour</td>\n",
       "      <td>QNN9HX</td>\n",
       "      <td>21/12/2022</td>\n",
       "      <td>Companhia Aérea: AZUL, Localizador: QNN9HX. Pa...</td>\n",
       "      <td>1334.31</td>\n",
       "      <td>2192244</td>\n",
       "    </tr>\n",
       "    <tr>\n",
       "      <th>16804</th>\n",
       "      <td>2022</td>\n",
       "      <td>12</td>\n",
       "      <td>ZEQUINHA MARINHO</td>\n",
       "      <td>Passagens aéreas, aquáticas e terrestres nacio...</td>\n",
       "      <td>22.052.777/0001-32</td>\n",
       "      <td>Exceller Tour</td>\n",
       "      <td>WMQWBX</td>\n",
       "      <td>30/12/2022</td>\n",
       "      <td>Companhia Aérea: TAM, Localizador: WMQWBX. Pas...</td>\n",
       "      <td>2250.72</td>\n",
       "      <td>2193622</td>\n",
       "    </tr>\n",
       "  </tbody>\n",
       "</table>\n",
       "<p>16805 rows × 11 columns</p>\n",
       "</div>"
      ],
      "text/plain": [
       "        ANO  MES           SENADOR  \\\n",
       "0      2022    1      ACIR GURGACZ   \n",
       "1      2022    1      ACIR GURGACZ   \n",
       "2      2022    1      ACIR GURGACZ   \n",
       "3      2022    1      ACIR GURGACZ   \n",
       "4      2022    1      ACIR GURGACZ   \n",
       "...     ...  ...               ...   \n",
       "16800  2022   12  ZEQUINHA MARINHO   \n",
       "16801  2022   12  ZEQUINHA MARINHO   \n",
       "16802  2022   12  ZEQUINHA MARINHO   \n",
       "16803  2022   12  ZEQUINHA MARINHO   \n",
       "16804  2022   12  ZEQUINHA MARINHO   \n",
       "\n",
       "                                            TIPO_DESPESA            CNPJ_CPF  \\\n",
       "0      Aluguel de imóveis para escritório político, c...      004.948.028-63   \n",
       "1                    Divulgação da atividade parlamentar  26.320.603/0001-64   \n",
       "2                    Divulgação da atividade parlamentar  13.659.201/0001-47   \n",
       "3                    Divulgação da atividade parlamentar  23.652.846/0001-01   \n",
       "4                    Divulgação da atividade parlamentar  08.941.827/0001-01   \n",
       "...                                                  ...                 ...   \n",
       "16800  Passagens aéreas, aquáticas e terrestres nacio...  22.052.777/0001-32   \n",
       "16801  Passagens aéreas, aquáticas e terrestres nacio...  22.052.777/0001-32   \n",
       "16802  Passagens aéreas, aquáticas e terrestres nacio...  22.052.777/0001-32   \n",
       "16803  Passagens aéreas, aquáticas e terrestres nacio...  22.052.777/0001-32   \n",
       "16804  Passagens aéreas, aquáticas e terrestres nacio...  22.052.777/0001-32   \n",
       "\n",
       "                                              FORNECEDOR          DOCUMENTO  \\\n",
       "0                          GILBERTO PISELO DO NASCIMENTO             001/22   \n",
       "1                                          INFORMANAHORA  000000000000310/A   \n",
       "2                        LINHA PURPURA FOTO E VIDEO LTDA                107   \n",
       "3                      ROBERTO GUTIERREZ DA ROCHA M.E.I.                187   \n",
       "4      RONDONIA DINÂMICA COM. E SERV. DE INFORMÁTICA ...  000000000001772/A   \n",
       "...                                                  ...                ...   \n",
       "16800                                      Exceller Tour             WIXHAI   \n",
       "16801                                      Exceller Tour             WITOLM   \n",
       "16802                                      Exceller Tour             THPKVQ   \n",
       "16803                                      Exceller Tour             QNN9HX   \n",
       "16804                                      Exceller Tour             WMQWBX   \n",
       "\n",
       "             DATA                                       DETALHAMENTO  \\\n",
       "0      03/01/2022  Despesa com pagamento de aluguel de imóvel par...   \n",
       "1      04/01/2022  Despesa com divulgação da atividade parlamenta...   \n",
       "2      14/01/2022  Despesa com produção de texto e edição de víde...   \n",
       "3      18/01/2022                Divulgação da atividade parlamentar   \n",
       "4      17/01/2022                Divulgação da atividade parlamentar   \n",
       "...           ...                                                ...   \n",
       "16800  06/12/2022  Companhia Aérea: LATAM, Localizador: WIXHAI. P...   \n",
       "16801  09/12/2022  Companhia Aérea: GOL, Localizador: WITOLM. Pas...   \n",
       "16802  20/12/2022  Companhia Aérea: TAM, Localizador: THPKVQ. Pas...   \n",
       "16803  21/12/2022  Companhia Aérea: AZUL, Localizador: QNN9HX. Pa...   \n",
       "16804  30/12/2022  Companhia Aérea: TAM, Localizador: WMQWBX. Pas...   \n",
       "\n",
       "       VALOR_REEMBOLSADO  COD_DOCUMENTO  \n",
       "0                6000.00        2173614  \n",
       "1                1500.00        2173615  \n",
       "2                6000.00        2173616  \n",
       "3                1000.00        2173618  \n",
       "4                2000.00        2173617  \n",
       "...                  ...            ...  \n",
       "16800            2893.04        2191398  \n",
       "16801            1180.19        2192272  \n",
       "16802            2671.90        2192274  \n",
       "16803            1334.31        2192244  \n",
       "16804            2250.72        2193622  \n",
       "\n",
       "[16805 rows x 11 columns]"
      ]
     },
     "metadata": {},
     "output_type": "display_data"
    }
   ],
   "source": [
    "# Carregando o dataset e visualizando as primeiras linhas\n",
    "df_ceaps = pd.read_csv('data/despesa_ceaps_2022.csv', encoding='latin1', sep=';', quotechar='\"', skiprows=1,  decimal=',')\n",
    "print(f\"✅ Dados carregados! O dataset contém {df_ceaps.shape[0]} linhas e {df_ceaps.shape[1]} colunas.\\n\")\n",
    "display(df_ceaps)\n"
   ]
  },
  {
   "cell_type": "markdown",
   "metadata": {},
   "source": [
    "# 1 Limpeza dos dados"
   ]
  },
  {
   "cell_type": "markdown",
   "metadata": {},
   "source": [
    "## 1.1 Remoção de duplicatas e colunas vazias"
   ]
  },
  {
   "cell_type": "code",
   "execution_count": 14,
   "metadata": {},
   "outputs": [
    {
     "name": "stdout",
     "output_type": "stream",
     "text": [
      "✅ Removidas duplicatas. Linhas restantes: 16805\n",
      "\n"
     ]
    }
   ],
   "source": [
    "# Removendo valores ausentes para garantir qualidade nos dados\n",
    "df_ceaps = df_ceaps.dropna(axis=1, how='all').drop_duplicates()\n",
    "print(f\"✅ Removidas duplicatas. Linhas restantes: {df_ceaps.shape[0]}\\n\")"
   ]
  },
  {
   "cell_type": "markdown",
   "metadata": {},
   "source": [
    "## 1.2 Tratamento de dados nulos"
   ]
  },
  {
   "cell_type": "code",
   "execution_count": 15,
   "metadata": {},
   "outputs": [
    {
     "name": "stdout",
     "output_type": "stream",
     "text": [
      "Valores nulos por coluna:\n",
      " ANO                     0\n",
      "MES                     0\n",
      "SENADOR                 0\n",
      "TIPO_DESPESA            0\n",
      "CNPJ_CPF                0\n",
      "FORNECEDOR              0\n",
      "DOCUMENTO             934\n",
      "DATA                    0\n",
      "DETALHAMENTO         7743\n",
      "VALOR_REEMBOLSADO       0\n",
      "COD_DOCUMENTO           0\n"
     ]
    }
   ],
   "source": [
    "print(\"Valores nulos por coluna:\\n\", df_ceaps.isnull().sum().to_string()) #Conta os nulos por coluna"
   ]
  },
  {
   "cell_type": "code",
   "execution_count": 16,
   "metadata": {},
   "outputs": [
    {
     "name": "stdout",
     "output_type": "stream",
     "text": [
      "✅ Valores nulos preenchidos!\n",
      "\n"
     ]
    }
   ],
   "source": [
    "#Preenchendo valores nulos\n",
    "df_ceaps['DOCUMENTO'] = df_ceaps['DOCUMENTO'].fillna('Desconhecido')\n",
    "df_ceaps['DETALHAMENTO'] = df_ceaps['DETALHAMENTO'].fillna('Não informado')\n",
    "print(\"✅ Valores nulos preenchidos!\\n\")"
   ]
  },
  {
   "cell_type": "markdown",
   "metadata": {},
   "source": [
    "## 1.3 Revisão dos tipos de dados\n",
    "\n",
    "- **`VALOR_REEMBOLSADO` → `float`**  \n",
    "  - Utilizamos `pd.to_numeric()` para garantir que os valores sejam numéricos, convertendo qualquer erro em `NaN` (`errors='coerce'`).  \n",
    "  - Isso evita problemas com valores mal formatados no dataset.  \n",
    "\n",
    "- **`DATA` → `datetime64`**  \n",
    "  - Utilizamos `pd.to_datetime()` para transformar a coluna de data no formato correto.  \n",
    "  - O parâmetro `dayfirst=True` garante que o formato seja **DD/MM/YYYY** (padrão brasileiro).  \n",
    "  - Caso alguma data esteja inválida, ela será convertida para `NaT` (nulo).  \n",
    "\n",
    "- **Conversão de colunas para `string`**  \n",
    "  - Definimos explicitamente que algumas colunas são texto (`string`) para evitar problemas de interpretação.  \n",
    "  - Isso garante que colunas como `SENADOR`, `TIPO_DESPESA`, `CNPJ_CPF`, `FORNECEDOR`, `DOCUMENTO` e `DETALHAMENTO` sejam tratadas corretamente como texto.  "
   ]
  },
  {
   "cell_type": "code",
   "execution_count": 17,
   "metadata": {},
   "outputs": [
    {
     "name": "stdout",
     "output_type": "stream",
     "text": [
      "ANO                    int64\n",
      "MES                    int64\n",
      "SENADOR               object\n",
      "TIPO_DESPESA          object\n",
      "CNPJ_CPF              object\n",
      "FORNECEDOR            object\n",
      "DOCUMENTO             object\n",
      "DATA                  object\n",
      "DETALHAMENTO          object\n",
      "VALOR_REEMBOLSADO    float64\n",
      "COD_DOCUMENTO          int64\n",
      "dtype: object\n"
     ]
    }
   ],
   "source": [
    "print(df_ceaps.dtypes)  # Checar os tipos de dados"
   ]
  },
  {
   "cell_type": "code",
   "execution_count": 18,
   "metadata": {},
   "outputs": [
    {
     "name": "stdout",
     "output_type": "stream",
     "text": [
      "✅ Tipos de dados ajustados.\n",
      "\n"
     ]
    },
    {
     "data": {
      "text/plain": [
       "ANO                           int64\n",
       "MES                           int64\n",
       "SENADOR              string[python]\n",
       "TIPO_DESPESA         string[python]\n",
       "CNPJ_CPF             string[python]\n",
       "FORNECEDOR           string[python]\n",
       "DOCUMENTO            string[python]\n",
       "DATA                 datetime64[ns]\n",
       "DETALHAMENTO         string[python]\n",
       "VALOR_REEMBOLSADO           float64\n",
       "COD_DOCUMENTO                 int64\n",
       "dtype: object"
      ]
     },
     "metadata": {},
     "output_type": "display_data"
    }
   ],
   "source": [
    "# Convertendo tipos de dados para facilitar a análise\n",
    "df_ceaps['VALOR_REEMBOLSADO'] = pd.to_numeric(df_ceaps['VALOR_REEMBOLSADO'], errors='coerce')  # Garante que os valores de reembolso sejam float\n",
    "df_ceaps['DATA'] = pd.to_datetime(df_ceaps['DATA'], errors='coerce', dayfirst=True)  # Converte datas\n",
    "df_ceaps = df_ceaps.astype({\n",
    "    'SENADOR': 'string', 'TIPO_DESPESA': 'string', 'CNPJ_CPF': 'string',\n",
    "    'FORNECEDOR': 'string', 'DOCUMENTO': 'string', 'DETALHAMENTO': 'string'\n",
    "}) # Padroniza colunas como string\n",
    "print(\"✅ Tipos de dados ajustados.\\n\")\n",
    "display(df_ceaps.dtypes)  # Checar os tipos de dados após as alterações"
   ]
  },
  {
   "cell_type": "markdown",
   "metadata": {},
   "source": [
    "### 1.3.1 Normalização de CNPJ/CPF\n",
    "\n",
    "#### Etapas realizadas:\n",
    "1. Removemos caracteres especiais (pontos, traços, barras) para manter apenas os números.   \n",
    "2. Contamos a distribuição dos tamanhos dos valores após a normalização.  \n",
    "3. Identificamos possíveis erros filtrando registros com tamanhos inválidos (diferentes de 11 para CPF ou 14 para CNPJ).  \n",
    "4. Exibimos uma mensagem de alerta caso valores inválidos sejam encontrados."
   ]
  },
  {
   "cell_type": "code",
   "execution_count": 19,
   "metadata": {},
   "outputs": [
    {
     "name": "stdout",
     "output_type": "stream",
     "text": [
      "Distribuição dos tamanhos de CNPJ/CPF:\n",
      " CNPJ_CPF_LIMPO\n",
      "14    16383\n",
      "11      422\n",
      "Name: count, dtype: Int64 \n",
      "\n",
      "✅ Todos os CNPJs/CPFs possuem tamanhos corretos (11 ou 14 caracteres).\n",
      "\n"
     ]
    }
   ],
   "source": [
    "df_ceaps['CNPJ_CPF_LIMPO'] = df_ceaps['CNPJ_CPF'].str.replace(r'\\D', '', regex=True)\n",
    "# Contagem de caracteres após a limpeza\n",
    "tamanhos = df_ceaps['CNPJ_CPF_LIMPO'].str.len().value_counts()\n",
    "print(\"Distribuição dos tamanhos de CNPJ/CPF:\\n\", tamanhos, \"\\n\")\n",
    "\n",
    "# Identificar valores inválidos\n",
    "df_erro = df_ceaps[~df_ceaps['CNPJ_CPF_LIMPO'].str.len().isin([11, 14])]\n",
    "if not df_erro.empty:\n",
    "    print(\"⚠️ Valores inválidos detectados em CNPJ/CPF:\")\n",
    "    print(df_erro[['CNPJ_CPF', 'CNPJ_CPF_LIMPO']].head())\n",
    "else:\n",
    "    print(\"✅ Todos os CNPJs/CPFs possuem tamanhos corretos (11 ou 14 caracteres).\\n\")\n"
   ]
  },
  {
   "cell_type": "markdown",
   "metadata": {},
   "source": [
    "## 1.3 Correção de valores monetários"
   ]
  },
  {
   "cell_type": "markdown",
   "metadata": {},
   "source": [
    "### 1.3.1 Análise estatística básica"
   ]
  },
  {
   "cell_type": "code",
   "execution_count": 20,
   "metadata": {},
   "outputs": [
    {
     "name": "stdout",
     "output_type": "stream",
     "text": [
      "Estatísticas básicas de VALOR_REEMBOLSADO:\n",
      " count    16805.000000\n",
      "mean      1625.914093\n",
      "std       3363.993049\n",
      "min          0.010000\n",
      "25%        200.000000\n",
      "50%        481.440000\n",
      "75%       2000.000000\n",
      "max      77012.000000\n",
      "Name: VALOR_REEMBOLSADO, dtype: float64 \n",
      "\n"
     ]
    }
   ],
   "source": [
    "descricao = df_ceaps['VALOR_REEMBOLSADO'].describe()\n",
    "print(\"Estatísticas básicas de VALOR_REEMBOLSADO:\\n\", descricao, \"\\n\")\n",
    "#display(df_ceaps[df_ceaps['VALOR_REEMBOLSADO'] < 0])  # Confere se há valores negativos"
   ]
  },
  {
   "cell_type": "markdown",
   "metadata": {},
   "source": [
    "### 1.3.2 Identificar outliers"
   ]
  },
  {
   "cell_type": "code",
   "execution_count": 21,
   "metadata": {},
   "outputs": [
    {
     "data": {
      "text/html": [
       "<div>\n",
       "<style scoped>\n",
       "    .dataframe tbody tr th:only-of-type {\n",
       "        vertical-align: middle;\n",
       "    }\n",
       "\n",
       "    .dataframe tbody tr th {\n",
       "        vertical-align: top;\n",
       "    }\n",
       "\n",
       "    .dataframe thead th {\n",
       "        text-align: right;\n",
       "    }\n",
       "</style>\n",
       "<table border=\"1\" class=\"dataframe\">\n",
       "  <thead>\n",
       "    <tr style=\"text-align: right;\">\n",
       "      <th></th>\n",
       "      <th>count</th>\n",
       "      <th>mean</th>\n",
       "      <th>std</th>\n",
       "      <th>min</th>\n",
       "      <th>25%</th>\n",
       "      <th>50%</th>\n",
       "      <th>75%</th>\n",
       "      <th>max</th>\n",
       "    </tr>\n",
       "    <tr>\n",
       "      <th>TIPO_DESPESA</th>\n",
       "      <th></th>\n",
       "      <th></th>\n",
       "      <th></th>\n",
       "      <th></th>\n",
       "      <th></th>\n",
       "      <th></th>\n",
       "      <th></th>\n",
       "      <th></th>\n",
       "    </tr>\n",
       "  </thead>\n",
       "  <tbody>\n",
       "    <tr>\n",
       "      <th>Aluguel de imóveis para escritório político, compreendendo despesas concernentes a eles.</th>\n",
       "      <td>3322.0</td>\n",
       "      <td>1197.030981</td>\n",
       "      <td>1654.827671</td>\n",
       "      <td>0.20</td>\n",
       "      <td>198.295</td>\n",
       "      <td>449.42</td>\n",
       "      <td>1407.560</td>\n",
       "      <td>15000.00</td>\n",
       "    </tr>\n",
       "    <tr>\n",
       "      <th>Aquisição de material de consumo para uso no escritório político, inclusive aquisição ou locação de software, despesas postais, aquisição de publicações, locação de móveis e de equipamentos.</th>\n",
       "      <td>1226.0</td>\n",
       "      <td>802.371794</td>\n",
       "      <td>1301.944036</td>\n",
       "      <td>5.09</td>\n",
       "      <td>110.750</td>\n",
       "      <td>281.00</td>\n",
       "      <td>729.735</td>\n",
       "      <td>10000.00</td>\n",
       "    </tr>\n",
       "    <tr>\n",
       "      <th>Contratação de consultorias, assessorias, pesquisas, trabalhos técnicos e outros serviços de apoio ao exercício do mandato parlamentar</th>\n",
       "      <td>1043.0</td>\n",
       "      <td>6060.866759</td>\n",
       "      <td>8973.857893</td>\n",
       "      <td>3.90</td>\n",
       "      <td>979.275</td>\n",
       "      <td>2000.00</td>\n",
       "      <td>8000.000</td>\n",
       "      <td>77012.00</td>\n",
       "    </tr>\n",
       "    <tr>\n",
       "      <th>Divulgação da atividade parlamentar</th>\n",
       "      <td>1038.0</td>\n",
       "      <td>3223.425202</td>\n",
       "      <td>5847.458499</td>\n",
       "      <td>60.00</td>\n",
       "      <td>800.000</td>\n",
       "      <td>1500.00</td>\n",
       "      <td>2800.000</td>\n",
       "      <td>72923.16</td>\n",
       "    </tr>\n",
       "    <tr>\n",
       "      <th>Locomoção, hospedagem, alimentação, combustíveis e lubrificantes</th>\n",
       "      <td>6769.0</td>\n",
       "      <td>777.068032</td>\n",
       "      <td>1903.469792</td>\n",
       "      <td>0.03</td>\n",
       "      <td>126.870</td>\n",
       "      <td>240.62</td>\n",
       "      <td>406.700</td>\n",
       "      <td>20011.00</td>\n",
       "    </tr>\n",
       "    <tr>\n",
       "      <th>Passagens aéreas, aquáticas e terrestres nacionais</th>\n",
       "      <td>3383.0</td>\n",
       "      <td>2194.397319</td>\n",
       "      <td>1152.354058</td>\n",
       "      <td>0.01</td>\n",
       "      <td>1372.115</td>\n",
       "      <td>2139.12</td>\n",
       "      <td>2857.705</td>\n",
       "      <td>10871.78</td>\n",
       "    </tr>\n",
       "    <tr>\n",
       "      <th>Serviços de Segurança Privada</th>\n",
       "      <td>24.0</td>\n",
       "      <td>509.273333</td>\n",
       "      <td>203.592827</td>\n",
       "      <td>219.00</td>\n",
       "      <td>440.240</td>\n",
       "      <td>492.22</td>\n",
       "      <td>551.980</td>\n",
       "      <td>1090.00</td>\n",
       "    </tr>\n",
       "  </tbody>\n",
       "</table>\n",
       "</div>"
      ],
      "text/plain": [
       "                                                     count         mean  \\\n",
       "TIPO_DESPESA                                                              \n",
       "Aluguel de imóveis para escritório político, co...  3322.0  1197.030981   \n",
       "Aquisição de material de consumo para uso no es...  1226.0   802.371794   \n",
       "Contratação de consultorias, assessorias, pesqu...  1043.0  6060.866759   \n",
       "Divulgação da atividade parlamentar                 1038.0  3223.425202   \n",
       "Locomoção, hospedagem, alimentação, combustívei...  6769.0   777.068032   \n",
       "Passagens aéreas, aquáticas e terrestres nacionais  3383.0  2194.397319   \n",
       "Serviços de Segurança Privada                         24.0   509.273333   \n",
       "\n",
       "                                                            std     min  \\\n",
       "TIPO_DESPESA                                                              \n",
       "Aluguel de imóveis para escritório político, co...  1654.827671    0.20   \n",
       "Aquisição de material de consumo para uso no es...  1301.944036    5.09   \n",
       "Contratação de consultorias, assessorias, pesqu...  8973.857893    3.90   \n",
       "Divulgação da atividade parlamentar                 5847.458499   60.00   \n",
       "Locomoção, hospedagem, alimentação, combustívei...  1903.469792    0.03   \n",
       "Passagens aéreas, aquáticas e terrestres nacionais  1152.354058    0.01   \n",
       "Serviços de Segurança Privada                        203.592827  219.00   \n",
       "\n",
       "                                                         25%      50%  \\\n",
       "TIPO_DESPESA                                                            \n",
       "Aluguel de imóveis para escritório político, co...   198.295   449.42   \n",
       "Aquisição de material de consumo para uso no es...   110.750   281.00   \n",
       "Contratação de consultorias, assessorias, pesqu...   979.275  2000.00   \n",
       "Divulgação da atividade parlamentar                  800.000  1500.00   \n",
       "Locomoção, hospedagem, alimentação, combustívei...   126.870   240.62   \n",
       "Passagens aéreas, aquáticas e terrestres nacionais  1372.115  2139.12   \n",
       "Serviços de Segurança Privada                        440.240   492.22   \n",
       "\n",
       "                                                         75%       max  \n",
       "TIPO_DESPESA                                                            \n",
       "Aluguel de imóveis para escritório político, co...  1407.560  15000.00  \n",
       "Aquisição de material de consumo para uso no es...   729.735  10000.00  \n",
       "Contratação de consultorias, assessorias, pesqu...  8000.000  77012.00  \n",
       "Divulgação da atividade parlamentar                 2800.000  72923.16  \n",
       "Locomoção, hospedagem, alimentação, combustívei...   406.700  20011.00  \n",
       "Passagens aéreas, aquáticas e terrestres nacionais  2857.705  10871.78  \n",
       "Serviços de Segurança Privada                        551.980   1090.00  "
      ]
     },
     "execution_count": 21,
     "metadata": {},
     "output_type": "execute_result"
    }
   ],
   "source": [
    "df_ceaps.groupby('TIPO_DESPESA')['VALOR_REEMBOLSADO'].describe()  # Outliers entre tipo de despesa e valor reembolsado"
   ]
  },
  {
   "cell_type": "markdown",
   "metadata": {},
   "source": [
    "### 1.3.3 Remoção de outliers com Intervalo Interquartil (IQR)"
   ]
  },
  {
   "cell_type": "code",
   "execution_count": 22,
   "metadata": {},
   "outputs": [
    {
     "name": "stdout",
     "output_type": "stream",
     "text": [
      "Removendo outliers...\n",
      "Linhas antes: 16805\n",
      "Linhas depois: 15626\n",
      "Removidos: 1179 outliers.\n",
      "\n",
      "✅ Dados limpos e prontos para análise! 🚀\n",
      "\n"
     ]
    }
   ],
   "source": [
    "# Definir limites para outliers\n",
    "Q1 = df_ceaps['VALOR_REEMBOLSADO'].quantile(0.25)  # Primeiro quartil (25%)\n",
    "Q3 = df_ceaps['VALOR_REEMBOLSADO'].quantile(0.75)  # Terceiro quartil (75%)\n",
    "IQR = Q3 - Q1  # Intervalo interquartil\n",
    "\n",
    "# Definir os limites inferior e superior\n",
    "limite_inferior = Q1 - 1.5 * IQR\n",
    "limite_superior = Q3 + 1.5 * IQR\n",
    "\n",
    "# Filtrar os dados, removendo outliers\n",
    "df_ceaps_limpo = df_ceaps[\n",
    "    (df_ceaps['VALOR_REEMBOLSADO'] >= limite_inferior) & \n",
    "    (df_ceaps['VALOR_REEMBOLSADO'] <= limite_superior)\n",
    "]\n",
    "\n",
    "# Ver quantas linhas sobraram\n",
    "print(f\"Removendo outliers...\\nLinhas antes: {len(df_ceaps)}\\nLinhas depois: {len(df_ceaps_limpo)}\\nRemovidos: {len(df_ceaps) - len(df_ceaps_limpo)} outliers.\\n\")\n",
    "print(\"✅ Dados limpos e prontos para análise! 🚀\\n\")"
   ]
  },
  {
   "cell_type": "markdown",
   "metadata": {},
   "source": [
    "\n",
    "## 📌 Conclusão\n",
    "\n",
    "- Neste primeiro dia do desafio, realizamos a limpeza e preparação dos dados.\n",
    "- Removemos valores ausentes e ajustamos os tipos de dados para garantir qualidade na análise.\n",
    "- Agora, com os dados tratados, podemos fazer uma primeira análise na base e tentar entender como os dados estão relacionados.\n",
    "\n",
    "🔜 **Próximos passos:**  \n",
    "A próxima etapa será a **análise exploratória**, que nos ajudará a conhecer os dados melhor e montar uma narrativa ao redor deles. 🚀"
   ]
  }
 ],
 "metadata": {
  "kernelspec": {
   "display_name": "venv",
   "language": "python",
   "name": "python3"
  },
  "language_info": {
   "codemirror_mode": {
    "name": "ipython",
    "version": 3
   },
   "file_extension": ".py",
   "mimetype": "text/x-python",
   "name": "python",
   "nbconvert_exporter": "python",
   "pygments_lexer": "ipython3",
   "version": "3.11.4"
  }
 },
 "nbformat": 4,
 "nbformat_minor": 2
}
