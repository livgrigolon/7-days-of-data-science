{
 "cells": [
  {
   "cell_type": "markdown",
   "metadata": {},
   "source": [
    "# #7DaysOfCode - Data Science"
   ]
  },
  {
   "cell_type": "markdown",
   "metadata": {},
   "source": [
    "# Projeto 1: Análise dos gastos parlamentares (CEAPS) - 2018 a 2022  \n",
    "\n",
    "Este notebook faz parte do desafio [7 Days of Code](https://7daysofcode.io/), com foco em explorar e transformar dados utilizando a biblioteca **Pandas**.  \n",
    "\n",
    "O conjunto de dados utilizado contém informações sobre a **Cota para Exercício da Atividade Parlamentar (CEAPS)** no período de **2018 a 2022**, disponibilizados pelo Senado Federal:  \n",
    "🔗 **Fonte oficial:** [Dados Abertos CEAPS](https://www12.senado.leg.br/transparencia/dados-abertos-transparencia/dados-abertos-ceaps)  \n",
    "\n",
    "### Objetivos\n",
    "O objetivo deste estudo é compreender como os parlamentares utilizam a cota parlamentar ao longo dos anos, buscando responder às seguintes questões:  \n",
    "- Quais são as principais categorias de gastos?\n",
    "- Existe um padrão sazonal nos gastos ao longo dos anos?\n",
    "- Há parlamentares que gastam significativamente mais do que a média?\n",
    "\n",
    "O CEAPS é um dos mecanismos de transparência do Legislativo, permitindo que qualquer cidadão acompanhe como os recursos públicos estão sendo utilizados. Essa análise pode revelar padrões interessantes e fornecer insights sobre a distribuição desses gastos.  \n",
    "\n",
    "### Sumário\n",
    "Notebook 1: Limpeza e preparação dos dados  \n",
    "- Importação e concatenação dos arquivos de despesas (2018-2022)  \n",
    "- Remoção de duplicatas e tratamento de valores nulos  \n",
    "- Ajuste de tipos de dados e normalização de campos (CNPJ/CPF, fornecedores, meses)  \n",
    "- Identificação e remoção de outliers  \n",
    "- Exportação dos dados limpos para análise  \n",
    "\n",
    "Notebook 2: Análise exploratória e storytelling  \n",
    "- Estatísticas descritivas e identificação de padrões de gastos  \n",
    "- Comparação entre categorias de despesas e parlamentares  \n",
    "- Investigação de tendências e sazonalidade nos gastos  \n",
    "- Criação de visualizações e dashboards para ilustrar insights  \n",
    "- Construção de uma narrativa baseada nos dados  \n",
    "\n",
    "Notebook 3: Forecasting (previsão de gastos)  \n",
    "- Análise temporal dos gastos ao longo dos anos  \n",
    "- Modelagem estatística para projeção de despesas futuras  \n",
    "- Uso de algoritmos como ARIMA, Prophet ou modelos de regressão  \n",
    "- Avaliação da precisão dos modelos e interpretação dos resultados  "
   ]
  },
  {
   "cell_type": "markdown",
   "metadata": {},
   "source": [
    "# Dia 1: Limpeza e preparação dos dados"
   ]
  },
  {
   "cell_type": "markdown",
   "metadata": {},
   "source": [
    "# Importações"
   ]
  },
  {
   "cell_type": "markdown",
   "metadata": {},
   "source": [
    "## 0.1 Bibliotecas e módulos"
   ]
  },
  {
   "cell_type": "code",
   "execution_count": 2,
   "metadata": {},
   "outputs": [],
   "source": [
    "# Importando as bibliotecas e módulos necessários para análise\n",
    "import pandas as pd\n",
    "import glob\n",
    "import os\n",
    "import re\n",
    "from unidecode import unidecode"
   ]
  },
  {
   "cell_type": "markdown",
   "metadata": {},
   "source": [
    "## 0.2 Dados\n",
    "\n",
    "\n",
    "#### O que foi feito:\n",
    "O código concatena arquivos CSV de 2018 a 2022 sobre despesas parlamentares e os salva em uma pasta de dados processados.\n",
    "1. **Definição de caminhos**: Especifica as pastas de dados brutos e processados.\n",
    "    -  Parâmetros no `read_csv`:\n",
    "        - **`encoding='latin1'`**: Evita problemas com caracteres especiais.\n",
    "        - **`sep=';'`**: Usa ponto e vírgula como separador de colunas (padrão no Brasil).\n",
    "        - **`quotechar='\"'`**: Define aspas duplas como delimitador de valores textuais.\n",
    "        - **`skiprows=1`**: Ignora a primeira linha, que pode ter informações extras.\n",
    "        - **`decimal=','`**: Usa vírgula como separador decimal.\n",
    "2. **Leitura dos arquivos CSV**: Usa `glob` para pegar todos os arquivos `despesa_ceaps_*.csv`.\n",
    "3. **Concatenação**: Combina os dados de todos os arquivos em um único DataFrame.\n",
    "4. **Salvamento**: Cria a pasta `processed` (se não existir) e salva o arquivo concatenado como `despesa_ceaps_2018_2022.csv`."
   ]
  },
  {
   "cell_type": "code",
   "execution_count": 3,
   "metadata": {},
   "outputs": [
    {
     "name": "stdout",
     "output_type": "stream",
     "text": [
      "Arquivos compilados e salvos com sucesso!\n"
     ]
    }
   ],
   "source": [
    "raw_path = \"/Users/liviagrigolon/Documents/GitHub/7-days-of-data-science/data/raw/ceaps\"\n",
    "processed_path = \"data/processed\"\n",
    "\n",
    "# Encontrar os arquivos CSV na pasta raw\n",
    "arquivos = glob.glob(os.path.join(raw_path, 'despesa_ceaps_*.csv'))\n",
    "\n",
    "# Carregar e concatenar os arquivos\n",
    "df_ceaps = pd.concat([pd.read_csv(arquivo, encoding='latin1', sep=';', quotechar='\"', skiprows=1, decimal=',') for arquivo in arquivos], ignore_index=True)\n",
    "\n",
    "# Criar a pasta processed se não existir\n",
    "os.makedirs(processed_path, exist_ok=True)\n",
    "\n",
    "# Salvar o DataFrame final\n",
    "df_ceaps.to_csv(os.path.join(processed_path, \"despesa_ceaps_2018_2022.csv\"), index=False)\n",
    "\n",
    "print(\"Arquivos compilados e salvos com sucesso!\")"
   ]
  },
  {
   "cell_type": "markdown",
   "metadata": {},
   "source": [
    "# 1 Limpeza dos dados"
   ]
  },
  {
   "cell_type": "markdown",
   "metadata": {},
   "source": [
    "## 1.1 Remoção de duplicatas e colunas vazias"
   ]
  },
  {
   "cell_type": "code",
   "execution_count": 4,
   "metadata": {},
   "outputs": [
    {
     "name": "stdout",
     "output_type": "stream",
     "text": [
      "✅ Removidas duplicatas. Linhas restantes: 93848\n",
      "\n"
     ]
    }
   ],
   "source": [
    "# Removendo valores ausentes para garantir qualidade nos dados\n",
    "df_ceaps = df_ceaps.dropna(axis=1, how='all').drop_duplicates()\n",
    "print(f\"✅ Removidas duplicatas. Linhas restantes: {df_ceaps.shape[0]}\\n\")"
   ]
  },
  {
   "cell_type": "markdown",
   "metadata": {},
   "source": [
    "## 1.2 Tratamento de dados nulos"
   ]
  },
  {
   "cell_type": "code",
   "execution_count": 5,
   "metadata": {},
   "outputs": [
    {
     "name": "stdout",
     "output_type": "stream",
     "text": [
      "Valores nulos por coluna:\n",
      " ANO                      0\n",
      "MES                      0\n",
      "SENADOR                  0\n",
      "TIPO_DESPESA             0\n",
      "CNPJ_CPF                 0\n",
      "FORNECEDOR               0\n",
      "DOCUMENTO             3979\n",
      "DATA                     0\n",
      "DETALHAMENTO         36383\n",
      "VALOR_REEMBOLSADO        0\n",
      "COD_DOCUMENTO            0\n"
     ]
    }
   ],
   "source": [
    "print(\"Valores nulos por coluna:\\n\", df_ceaps.isnull().sum().to_string()) #Conta os nulos por coluna"
   ]
  },
  {
   "cell_type": "code",
   "execution_count": 6,
   "metadata": {},
   "outputs": [
    {
     "name": "stdout",
     "output_type": "stream",
     "text": [
      "✅ Valores nulos preenchidos!\n",
      "\n"
     ]
    }
   ],
   "source": [
    "#Preenchendo valores nulos\n",
    "df_ceaps['DOCUMENTO'] = df_ceaps['DOCUMENTO'].fillna('Desconhecido')\n",
    "df_ceaps['DETALHAMENTO'] = df_ceaps['DETALHAMENTO'].fillna('Não informado')\n",
    "print(\"✅ Valores nulos preenchidos!\\n\")"
   ]
  },
  {
   "cell_type": "markdown",
   "metadata": {},
   "source": [
    "## 1.3 Revisão dos tipos de dados"
   ]
  },
  {
   "cell_type": "markdown",
   "metadata": {},
   "source": [
    "\n",
    "#### O que foi feito:\n",
    "- **`VALOR_REEMBOLSADO` → `float`**  \n",
    "  - Utilizamos `pd.to_numeric()` para garantir que os valores sejam numéricos, convertendo qualquer erro em `NaN` (`errors='coerce'`).  \n",
    "  - Isso evita problemas com valores mal formatados no dataset.  \n",
    "\n",
    "- **`DATA` → `datetime64`**  \n",
    "  - Utilizamos `pd.to_datetime()` para transformar a coluna de data no formato correto.  \n",
    "  - O parâmetro `dayfirst=True` garante que o formato seja **DD/MM/YYYY** (padrão brasileiro).  \n",
    "  - Caso alguma data esteja inválida, ela será convertida para `NaT` (nulo).  \n",
    "\n",
    "- **Conversão de colunas para `string`**  \n",
    "  - Definimos explicitamente que algumas colunas são texto (`string`) para evitar problemas de interpretação.  \n",
    "  - Isso garante que colunas como `SENADOR`, `TIPO_DESPESA`, `CNPJ_CPF`, `FORNECEDOR`, `DOCUMENTO` e `DETALHAMENTO` sejam tratadas corretamente como texto.  "
   ]
  },
  {
   "cell_type": "code",
   "execution_count": 7,
   "metadata": {},
   "outputs": [
    {
     "name": "stdout",
     "output_type": "stream",
     "text": [
      "ANO                    int64\n",
      "MES                    int64\n",
      "SENADOR               object\n",
      "TIPO_DESPESA          object\n",
      "CNPJ_CPF              object\n",
      "FORNECEDOR            object\n",
      "DOCUMENTO             object\n",
      "DATA                  object\n",
      "DETALHAMENTO          object\n",
      "VALOR_REEMBOLSADO    float64\n",
      "COD_DOCUMENTO          int64\n",
      "dtype: object\n"
     ]
    }
   ],
   "source": [
    "print(df_ceaps.dtypes)  # Checar os tipos de dados"
   ]
  },
  {
   "cell_type": "code",
   "execution_count": 8,
   "metadata": {},
   "outputs": [
    {
     "name": "stdout",
     "output_type": "stream",
     "text": [
      "✅ Tipos de dados ajustados.\n",
      "\n"
     ]
    },
    {
     "data": {
      "text/plain": [
       "ANO                           int64\n",
       "MES                  string[python]\n",
       "SENADOR              string[python]\n",
       "TIPO_DESPESA         string[python]\n",
       "CNPJ_CPF             string[python]\n",
       "FORNECEDOR           string[python]\n",
       "DOCUMENTO            string[python]\n",
       "DATA                 datetime64[ns]\n",
       "DETALHAMENTO         string[python]\n",
       "VALOR_REEMBOLSADO           float64\n",
       "COD_DOCUMENTO                 int64\n",
       "dtype: object"
      ]
     },
     "metadata": {},
     "output_type": "display_data"
    }
   ],
   "source": [
    "# Convertendo tipos de dados para facilitar a análise\n",
    "df_ceaps['VALOR_REEMBOLSADO'] = pd.to_numeric(df_ceaps['VALOR_REEMBOLSADO'], errors='coerce')  # Garante que os valores de reembolso sejam float\n",
    "df_ceaps['DATA'] = pd.to_datetime(df_ceaps['DATA'], errors='coerce', dayfirst=True)  # Converte datas\n",
    "df_ceaps = df_ceaps.astype({\n",
    "    'SENADOR': 'string', 'TIPO_DESPESA': 'string', 'CNPJ_CPF': 'string',\n",
    "    'FORNECEDOR': 'string', 'DOCUMENTO': 'string', 'DETALHAMENTO': 'string', 'MES': 'string'\n",
    "}) # Padroniza colunas como string\n",
    "print(\"✅ Tipos de dados ajustados.\\n\")\n",
    "display(df_ceaps.dtypes)  # Checar os tipos de dados após as alterações"
   ]
  },
  {
   "cell_type": "markdown",
   "metadata": {},
   "source": [
    "## 1.4 Normalização de CNPJ/CPF"
   ]
  },
  {
   "cell_type": "markdown",
   "metadata": {},
   "source": [
    "#### O que foi feito:\n",
    "1. Removemos caracteres especiais (pontos, traços, barras) para manter apenas os números.   \n",
    "2. Contamos a distribuição dos tamanhos dos valores após a normalização.  \n",
    "3. Identificamos possíveis erros filtrando registros com tamanhos inválidos (diferentes de 11 para CPF ou 14 para CNPJ).  \n",
    "4. Exibimos uma mensagem de alerta caso valores inválidos sejam encontrados."
   ]
  },
  {
   "cell_type": "code",
   "execution_count": 9,
   "metadata": {},
   "outputs": [
    {
     "name": "stdout",
     "output_type": "stream",
     "text": [
      "Distribuição dos tamanhos de CNPJ/CPF:\n",
      " CNPJ_CPF\n",
      "14    91739\n",
      "11     2109\n",
      "Name: count, dtype: Int64 \n",
      "\n",
      "✅ Todos os CNPJs/CPFs possuem tamanhos corretos (11 ou 14 caracteres).\n",
      "\n"
     ]
    }
   ],
   "source": [
    "# Limpeza diretamente na coluna existente\n",
    "df_ceaps['CNPJ_CPF'] = df_ceaps['CNPJ_CPF'].str.replace(r'\\D', '', regex=True)\n",
    "\n",
    "# Contagem de caracteres após a limpeza\n",
    "tamanhos = df_ceaps['CNPJ_CPF'].str.len().value_counts()\n",
    "print(\"Distribuição dos tamanhos de CNPJ/CPF:\\n\", tamanhos, \"\\n\")\n",
    "\n",
    "# Identificar valores inválidos\n",
    "df_erro = df_ceaps[~df_ceaps['CNPJ_CPF'].str.len().isin([11, 14])]\n",
    "if not df_erro.empty:\n",
    "    print(\"⚠️ Valores inválidos detectados em CNPJ/CPF:\")\n",
    "    print(df_erro[['CNPJ_CPF']].head())\n",
    "else:\n",
    "    print(\"✅ Todos os CNPJs/CPFs possuem tamanhos corretos (11 ou 14 caracteres).\\n\")"
   ]
  },
  {
   "cell_type": "markdown",
   "metadata": {},
   "source": [
    "## 1.5 Conversão de meses numéricos para nomes de meses"
   ]
  },
  {
   "cell_type": "markdown",
   "metadata": {},
   "source": [
    "#### O que foi feito:\n",
    "Foi utilizada a função `map` do pandas para aplicar essa transformação na coluna `MES` do DataFrame, melhorando a legibilidade dos dados e tornando as análises mais intuitivas.\n",
    "1. Criação de um dicionário que associa números (1 a 12) aos nomes dos meses.\n",
    "2. Substituição dos valores na coluna `MES` pelo nome correspondente utilizando o método `map`.\n",
    "3. Verificação do resultado para garantir que a transformação foi aplicada corretamente."
   ]
  },
  {
   "cell_type": "code",
   "execution_count": 10,
   "metadata": {},
   "outputs": [
    {
     "name": "stdout",
     "output_type": "stream",
     "text": [
      "    ANO        MES\n",
      "0  2018    Janeiro\n",
      "1  2018    Janeiro\n",
      "2  2018    Janeiro\n",
      "3  2018    Janeiro\n",
      "4  2018  Fevereiro\n"
     ]
    }
   ],
   "source": [
    "# Dicionário para mapear números de meses para nomes de meses\n",
    "meses_map = {\n",
    "    '1': 'Janeiro', '2': 'Fevereiro', '3': 'Março', '4': 'Abril', '5': 'Maio', '6': 'Junho',\n",
    "    '7': 'Julho', '8': 'Agosto', '9': 'Setembro', '10': 'Outubro', '11': 'Novembro', '12': 'Dezembro'\n",
    "}\n",
    "\n",
    "# Substituindo os números de mês pelos nomes dos meses\n",
    "df_ceaps['MES'] = df_ceaps['MES'].map(meses_map).astype('string')\n",
    "\n",
    "# Verificando a mudança\n",
    "print(df_ceaps[['ANO', 'MES']].head())\n"
   ]
  },
  {
   "cell_type": "markdown",
   "metadata": {},
   "source": [
    "## 1.6 Padronizar nomes dos fornecedores"
   ]
  },
  {
   "cell_type": "code",
   "execution_count": 11,
   "metadata": {},
   "outputs": [
    {
     "name": "stdout",
     "output_type": "stream",
     "text": [
      "FORNECEDOR\n",
      "adria viagens e turismo                                                                         6515\n",
      "latam                                                                                           2554\n",
      "gol                                                                                             1329\n",
      "telefonica brasil                                                                                894\n",
      "claro                                                                                            866\n",
      "uber do brasil tecnologia                                                                        835\n",
      "lm turismo                                                                                       645\n",
      "sindicato dos permissionarios de taxis e motoristas auxiliares do distrito federal sinpetaxi     617\n",
      "azul                                                                                             594\n",
      "posto de gasolina e garagem echeverria                                                           547\n",
      "Name: count, dtype: int64\n"
     ]
    }
   ],
   "source": [
    "# Ajustar tipo da coluna para evitar problemas com pandas string dtype\n",
    "df_ceaps[\"FORNECEDOR\"] = df_ceaps[\"FORNECEDOR\"].astype(str)\n",
    "\n",
    "# Função para normalizar nomes de fornecedores\n",
    "def normalizar_fornecedor(nome):\n",
    "    nome = nome.strip().lower()  # Remover espaços extras e converter para minúsculas\n",
    "    nome = unidecode(nome)  # Remover acentos\n",
    "    nome = re.sub(r\"[^\\w\\s]\", \"\", nome)  # Remove pontuação (pontos, vírgulas, etc.)\n",
    "    nome = re.sub(r\"\\b(ltda|eireli|me|sa|s/a|s.a)\\b\", \"\", nome, flags=re.IGNORECASE)  # Remove tipos de empresa\n",
    "    nome = re.sub(r\"\\s+\", \" \", nome)  # Substituir múltiplos espaços por um único\n",
    "    return nome.strip()  # Retorna o nome limpo\n",
    "\n",
    "# Aplicar a normalização\n",
    "df_ceaps[\"FORNECEDOR\"] = df_ceaps[\"FORNECEDOR\"].apply(normalizar_fornecedor)\n",
    "\n",
    "# Verificar os valores normalizados\n",
    "print(df_ceaps[\"FORNECEDOR\"].value_counts().head(10))  # Mostra os 10 mais frequentes"
   ]
  },
  {
   "cell_type": "markdown",
   "metadata": {},
   "source": [
    "## 1.7 Correção de valores monetários"
   ]
  },
  {
   "cell_type": "markdown",
   "metadata": {},
   "source": [
    "### 1.7.1 Análise estatística básica"
   ]
  },
  {
   "cell_type": "code",
   "execution_count": 12,
   "metadata": {},
   "outputs": [
    {
     "name": "stdout",
     "output_type": "stream",
     "text": [
      "Estatísticas básicas de VALOR_REEMBOLSADO:\n",
      " count     93848.000000\n",
      "mean       1317.147702\n",
      "std        3007.744489\n",
      "min           0.010000\n",
      "25%         150.000000\n",
      "50%         392.870000\n",
      "75%        1469.155000\n",
      "max      120000.000000\n",
      "Name: VALOR_REEMBOLSADO, dtype: float64 \n",
      "\n"
     ]
    }
   ],
   "source": [
    "descricao = df_ceaps['VALOR_REEMBOLSADO'].describe()\n",
    "print(\"Estatísticas básicas de VALOR_REEMBOLSADO:\\n\", descricao, \"\\n\")\n",
    "#display(df_ceaps[df_ceaps['VALOR_REEMBOLSADO'] < 0])  # Confere se há valores negativos"
   ]
  },
  {
   "cell_type": "markdown",
   "metadata": {},
   "source": [
    "### 1.7.2 Identificar outliers"
   ]
  },
  {
   "cell_type": "code",
   "execution_count": 13,
   "metadata": {},
   "outputs": [
    {
     "data": {
      "text/html": [
       "<div>\n",
       "<style scoped>\n",
       "    .dataframe tbody tr th:only-of-type {\n",
       "        vertical-align: middle;\n",
       "    }\n",
       "\n",
       "    .dataframe tbody tr th {\n",
       "        vertical-align: top;\n",
       "    }\n",
       "\n",
       "    .dataframe thead th {\n",
       "        text-align: right;\n",
       "    }\n",
       "</style>\n",
       "<table border=\"1\" class=\"dataframe\">\n",
       "  <thead>\n",
       "    <tr style=\"text-align: right;\">\n",
       "      <th></th>\n",
       "      <th>count</th>\n",
       "      <th>mean</th>\n",
       "      <th>std</th>\n",
       "      <th>min</th>\n",
       "      <th>25%</th>\n",
       "      <th>50%</th>\n",
       "      <th>75%</th>\n",
       "      <th>max</th>\n",
       "    </tr>\n",
       "    <tr>\n",
       "      <th>TIPO_DESPESA</th>\n",
       "      <th></th>\n",
       "      <th></th>\n",
       "      <th></th>\n",
       "      <th></th>\n",
       "      <th></th>\n",
       "      <th></th>\n",
       "      <th></th>\n",
       "      <th></th>\n",
       "    </tr>\n",
       "  </thead>\n",
       "  <tbody>\n",
       "    <tr>\n",
       "      <th>Aluguel de imóveis para escritório político, compreendendo despesas concernentes a eles.</th>\n",
       "      <td>20248.0</td>\n",
       "      <td>1046.081178</td>\n",
       "      <td>1560.366122</td>\n",
       "      <td>0.02</td>\n",
       "      <td>172.91</td>\n",
       "      <td>381.735</td>\n",
       "      <td>1095.43</td>\n",
       "      <td>15000.00</td>\n",
       "    </tr>\n",
       "    <tr>\n",
       "      <th>Aquisição de material de consumo para uso no escritório político, inclusive aquisição ou locação de software, despesas postais, aquisição de publicações, locação de móveis e de equipamentos.</th>\n",
       "      <td>6768.0</td>\n",
       "      <td>690.750197</td>\n",
       "      <td>1379.383090</td>\n",
       "      <td>0.01</td>\n",
       "      <td>66.30</td>\n",
       "      <td>199.900</td>\n",
       "      <td>570.00</td>\n",
       "      <td>40000.00</td>\n",
       "    </tr>\n",
       "    <tr>\n",
       "      <th>Contratação de consultorias, assessorias, pesquisas, trabalhos técnicos e outros serviços de apoio ao exercício do mandato parlamentar</th>\n",
       "      <td>5056.0</td>\n",
       "      <td>5804.374840</td>\n",
       "      <td>8566.408199</td>\n",
       "      <td>3.56</td>\n",
       "      <td>800.00</td>\n",
       "      <td>2500.000</td>\n",
       "      <td>7500.00</td>\n",
       "      <td>120000.00</td>\n",
       "    </tr>\n",
       "    <tr>\n",
       "      <th>Divulgação da atividade parlamentar</th>\n",
       "      <td>5237.0</td>\n",
       "      <td>2957.428726</td>\n",
       "      <td>5154.072238</td>\n",
       "      <td>27.00</td>\n",
       "      <td>1000.00</td>\n",
       "      <td>1500.000</td>\n",
       "      <td>2950.00</td>\n",
       "      <td>103900.00</td>\n",
       "    </tr>\n",
       "    <tr>\n",
       "      <th>Locomoção, hospedagem, alimentação, combustíveis e lubrificantes</th>\n",
       "      <td>35665.0</td>\n",
       "      <td>656.183278</td>\n",
       "      <td>1840.321478</td>\n",
       "      <td>0.03</td>\n",
       "      <td>99.90</td>\n",
       "      <td>173.290</td>\n",
       "      <td>286.40</td>\n",
       "      <td>66730.00</td>\n",
       "    </tr>\n",
       "    <tr>\n",
       "      <th>Passagens aéreas, aquáticas e terrestres nacionais</th>\n",
       "      <td>20717.0</td>\n",
       "      <td>1409.834754</td>\n",
       "      <td>919.923201</td>\n",
       "      <td>0.01</td>\n",
       "      <td>735.53</td>\n",
       "      <td>1270.500</td>\n",
       "      <td>1851.89</td>\n",
       "      <td>10871.78</td>\n",
       "    </tr>\n",
       "    <tr>\n",
       "      <th>Serviços de Segurança Privada</th>\n",
       "      <td>157.0</td>\n",
       "      <td>1976.635860</td>\n",
       "      <td>4075.691955</td>\n",
       "      <td>6.57</td>\n",
       "      <td>231.45</td>\n",
       "      <td>440.240</td>\n",
       "      <td>1800.00</td>\n",
       "      <td>23986.02</td>\n",
       "    </tr>\n",
       "  </tbody>\n",
       "</table>\n",
       "</div>"
      ],
      "text/plain": [
       "                                                      count         mean  \\\n",
       "TIPO_DESPESA                                                               \n",
       "Aluguel de imóveis para escritório político, co...  20248.0  1046.081178   \n",
       "Aquisição de material de consumo para uso no es...   6768.0   690.750197   \n",
       "Contratação de consultorias, assessorias, pesqu...   5056.0  5804.374840   \n",
       "Divulgação da atividade parlamentar                  5237.0  2957.428726   \n",
       "Locomoção, hospedagem, alimentação, combustívei...  35665.0   656.183278   \n",
       "Passagens aéreas, aquáticas e terrestres nacionais  20717.0  1409.834754   \n",
       "Serviços de Segurança Privada                         157.0  1976.635860   \n",
       "\n",
       "                                                            std    min  \\\n",
       "TIPO_DESPESA                                                             \n",
       "Aluguel de imóveis para escritório político, co...  1560.366122   0.02   \n",
       "Aquisição de material de consumo para uso no es...  1379.383090   0.01   \n",
       "Contratação de consultorias, assessorias, pesqu...  8566.408199   3.56   \n",
       "Divulgação da atividade parlamentar                 5154.072238  27.00   \n",
       "Locomoção, hospedagem, alimentação, combustívei...  1840.321478   0.03   \n",
       "Passagens aéreas, aquáticas e terrestres nacionais   919.923201   0.01   \n",
       "Serviços de Segurança Privada                       4075.691955   6.57   \n",
       "\n",
       "                                                        25%       50%  \\\n",
       "TIPO_DESPESA                                                            \n",
       "Aluguel de imóveis para escritório político, co...   172.91   381.735   \n",
       "Aquisição de material de consumo para uso no es...    66.30   199.900   \n",
       "Contratação de consultorias, assessorias, pesqu...   800.00  2500.000   \n",
       "Divulgação da atividade parlamentar                 1000.00  1500.000   \n",
       "Locomoção, hospedagem, alimentação, combustívei...    99.90   173.290   \n",
       "Passagens aéreas, aquáticas e terrestres nacionais   735.53  1270.500   \n",
       "Serviços de Segurança Privada                        231.45   440.240   \n",
       "\n",
       "                                                        75%        max  \n",
       "TIPO_DESPESA                                                            \n",
       "Aluguel de imóveis para escritório político, co...  1095.43   15000.00  \n",
       "Aquisição de material de consumo para uso no es...   570.00   40000.00  \n",
       "Contratação de consultorias, assessorias, pesqu...  7500.00  120000.00  \n",
       "Divulgação da atividade parlamentar                 2950.00  103900.00  \n",
       "Locomoção, hospedagem, alimentação, combustívei...   286.40   66730.00  \n",
       "Passagens aéreas, aquáticas e terrestres nacionais  1851.89   10871.78  \n",
       "Serviços de Segurança Privada                       1800.00   23986.02  "
      ]
     },
     "execution_count": 13,
     "metadata": {},
     "output_type": "execute_result"
    }
   ],
   "source": [
    "df_ceaps.groupby('TIPO_DESPESA')['VALOR_REEMBOLSADO'].describe()  # Outliers entre tipo de despesa e valor reembolsado"
   ]
  },
  {
   "cell_type": "markdown",
   "metadata": {},
   "source": [
    "### 1.7.3 Remoção de outliers com Intervalo Interquartil (IQR)"
   ]
  },
  {
   "cell_type": "code",
   "execution_count": 14,
   "metadata": {},
   "outputs": [
    {
     "name": "stdout",
     "output_type": "stream",
     "text": [
      "Removendo outliers...\n",
      "Linhas antes: 93848\n",
      "Linhas depois: 85857\n",
      "Removidos: 7991 outliers.\n",
      "\n",
      "✅ Dados limpos e prontos para análise!\n",
      "\n"
     ]
    }
   ],
   "source": [
    "# Definir limites para outliers\n",
    "Q1 = df_ceaps['VALOR_REEMBOLSADO'].quantile(0.25)  # Primeiro quartil (25%)\n",
    "Q3 = df_ceaps['VALOR_REEMBOLSADO'].quantile(0.75)  # Terceiro quartil (75%)\n",
    "IQR = Q3 - Q1  # Intervalo interquartil\n",
    "\n",
    "# Definir os limites inferior e superior\n",
    "limite_inferior = Q1 - 1.5 * IQR\n",
    "limite_superior = Q3 + 1.5 * IQR\n",
    "\n",
    "# Filtrar os dados, removendo outliers\n",
    "df_ceaps_limpo = df_ceaps[\n",
    "    (df_ceaps['VALOR_REEMBOLSADO'] >= limite_inferior) & \n",
    "    (df_ceaps['VALOR_REEMBOLSADO'] <= limite_superior)\n",
    "]\n",
    "\n",
    "# Ver quantas linhas sobraram\n",
    "print(f\"Removendo outliers...\\nLinhas antes: {len(df_ceaps)}\\nLinhas depois: {len(df_ceaps_limpo)}\\nRemovidos: {len(df_ceaps) - len(df_ceaps_limpo)} outliers.\\n\")\n",
    "print(\"✅ Dados limpos e prontos para análise!\\n\")"
   ]
  },
  {
   "cell_type": "markdown",
   "metadata": {},
   "source": [
    "# 2 Exportar os dados limpos"
   ]
  },
  {
   "cell_type": "code",
   "execution_count": 15,
   "metadata": {},
   "outputs": [
    {
     "name": "stdout",
     "output_type": "stream",
     "text": [
      "Dados salvos na pasta 'data/processed'\n"
     ]
    }
   ],
   "source": [
    "# Salvar o DataFrame limpo em um arquivo pickle\n",
    "df_ceaps_limpo.to_pickle('data/processed/despesa_ceaps_2018_2022_limpo.pkl')\n",
    "print(\"Dados salvos na pasta 'data/processed'\")"
   ]
  },
  {
   "cell_type": "markdown",
   "metadata": {},
   "source": [
    "## Conclusão\n",
    "\n",
    "- No primeiro dia do desafio, realizamos a limpeza e preparação dos dados, removendo valores ausentes e ajustando os tipos de dados para garantir qualidade na análise.\n",
    "- Com os dados tratados, agora podemos partir para a **análise exploratória**, onde começaremos a investigar padrões e identificar insights interessantes.\n",
    "- A ideia é gerar visualizações para criar uma narrativa sobre os dados, respondendo perguntas e apresentando os resultados de maneira clara e impactante.\n",
    "\n",
    "🔜 **Próximos passos:**  \n",
    "A próxima etapa será a **análise exploratória** seguida da criação de gráficos e visualizações que nos ajudem a contar uma história a partir dos dados. Vamos focar em descobrir padrões e insights relevantes."
   ]
  }
 ],
 "metadata": {
  "kernelspec": {
   "display_name": "venv",
   "language": "python",
   "name": "python3"
  },
  "language_info": {
   "codemirror_mode": {
    "name": "ipython",
    "version": 3
   },
   "file_extension": ".py",
   "mimetype": "text/x-python",
   "name": "python",
   "nbconvert_exporter": "python",
   "pygments_lexer": "ipython3",
   "version": "3.11.4"
  }
 },
 "nbformat": 4,
 "nbformat_minor": 2
}
