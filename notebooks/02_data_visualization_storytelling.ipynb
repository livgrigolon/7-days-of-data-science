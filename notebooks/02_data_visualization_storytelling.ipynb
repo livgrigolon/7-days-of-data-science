{
 "cells": [
  {
   "cell_type": "markdown",
   "metadata": {},
   "source": [
    "# Dia 2: Análise de dados e Storytelling da CEAPS (2018-2022)\n",
    "\n",
    "Este notebook dá continuidade à análise dos dados da CEAPS (Cota para o Exercício da Atividade Parlamentar dos Senadores), cobrindo o período de 2018 a 2022. No notebook anterior, realizamos a limpeza e o pré-processamento dos dados. Agora, focaremos na análise exploratória, visualização e storytelling, buscando responder às seguintes perguntas e testar as hipóteses relacionadas aos gastos dos senadores.\n",
    "\n",
    "### Principais Hipóteses\n",
    "\n",
    "* **Variação nos gastos:**\n",
    "    * Espera-se que haja uma variação significativa nos gastos entre os senadores, influenciada por suas atividades parlamentares.\n",
    "\n",
    "* **Concentração em despesas específicas:**\n",
    "    * Acredita-se que a maior parte dos gastos esteja concentrada em tipos específicos de despesa, como divulgação da atividade parlamentar.\n",
    "\n",
    "* **Sazonalidade dos gastos:**\n",
    "    * Antecipa-se uma sazonalidade nos gastos, com picos em meses próximos a eleições ou períodos de maior atividade parlamentar.\n",
    "\n",
    "* **Influência de anos eleitorais:**\n",
    "    * Espera-se que os gastos aumentem em anos eleitorais, devido à maior necessidade de divulgação das atividades parlamentares.\n",
    "\n",
    "* **Padrões de Contratação de Fornecedores:**\n",
    "    * Acredita-se que alguns fornecedores sejam contratados com mais frequência, indicando padrões de compras recorrentes.\n",
    "\n",
    "* **Disparidade nos gastos totais:**\n",
    "    * Espera-se uma grande disparidade nos gastos totais entre os senadores, com alguns gastando significativamente mais do que outros.\n",
    "\n",
    "* **Outliers nos gastos:**\n",
    "    * Acredita-se que existam outliers nos gastos reembolsados, indicando senadores com valores muito acima da média.\n",
    "\n",
    "* **Variação nos gastos por tipo de despesa:**\n",
    "    * Espera-se que os senadores distribuam seus gastos entre os tipos de despesa de maneira diferente.\n",
    "\n",
    "* **Variação na média de reembolso por tipo de despesa:**\n",
    "    * Espera-se que alguns tipos de despesa tenham valores médios mais altos, como gastos com viagens ou publicidade."
   ]
  },
  {
   "cell_type": "markdown",
   "metadata": {},
   "source": [
    "# Importações"
   ]
  },
  {
   "cell_type": "markdown",
   "metadata": {},
   "source": [
    "## 0.1 Bibliotecas e módulos"
   ]
  },
  {
   "cell_type": "code",
   "execution_count": 82,
   "metadata": {},
   "outputs": [],
   "source": [
    "# Importa bibliotecas e módulos para análise e visualização de dados\n",
    "import pandas as pd\n",
    "import plotly.express as px\n",
    "import plotly.graph_objects as go\n",
    "import matplotlib.pyplot as plt\n",
    "import numpy as np\n",
    "import seaborn as sns\n",
    "from plotly.subplots import make_subplots"
   ]
  },
  {
   "cell_type": "markdown",
   "metadata": {},
   "source": [
    "## 0.2 Carregamento dos dados limpos"
   ]
  },
  {
   "cell_type": "code",
   "execution_count": 83,
   "metadata": {},
   "outputs": [
    {
     "data": {
      "text/html": [
       "<div>\n",
       "<style scoped>\n",
       "    .dataframe tbody tr th:only-of-type {\n",
       "        vertical-align: middle;\n",
       "    }\n",
       "\n",
       "    .dataframe tbody tr th {\n",
       "        vertical-align: top;\n",
       "    }\n",
       "\n",
       "    .dataframe thead th {\n",
       "        text-align: right;\n",
       "    }\n",
       "</style>\n",
       "<table border=\"1\" class=\"dataframe\">\n",
       "  <thead>\n",
       "    <tr style=\"text-align: right;\">\n",
       "      <th></th>\n",
       "      <th>ANO</th>\n",
       "      <th>MES</th>\n",
       "      <th>SENADOR</th>\n",
       "      <th>TIPO_DESPESA</th>\n",
       "      <th>CNPJ_CPF</th>\n",
       "      <th>FORNECEDOR</th>\n",
       "      <th>DOCUMENTO</th>\n",
       "      <th>DATA</th>\n",
       "      <th>DETALHAMENTO</th>\n",
       "      <th>VALOR_REEMBOLSADO</th>\n",
       "      <th>COD_DOCUMENTO</th>\n",
       "    </tr>\n",
       "  </thead>\n",
       "  <tbody>\n",
       "    <tr>\n",
       "      <th>1</th>\n",
       "      <td>2018</td>\n",
       "      <td>Janeiro</td>\n",
       "      <td>ACIR GURGACZ</td>\n",
       "      <td>Passagens aéreas, aquáticas e terrestres nacionais</td>\n",
       "      <td>63764211000110</td>\n",
       "      <td>transcontinental agencia de viagens</td>\n",
       "      <td>M2CJMM</td>\n",
       "      <td>2018-01-02</td>\n",
       "      <td>Companhia Aérea: AVIANCA, Localizador: M2CJMM. Passageiros: ACIR MARCOS GURGACZ (Matrícula 225736, PARLAMENTAR), Voo: 6109 - NVTGRU - 31/01/2018;</td>\n",
       "      <td>274.99</td>\n",
       "      <td>2088476</td>\n",
       "    </tr>\n",
       "    <tr>\n",
       "      <th>2</th>\n",
       "      <td>2018</td>\n",
       "      <td>Janeiro</td>\n",
       "      <td>ACIR GURGACZ</td>\n",
       "      <td>Passagens aéreas, aquáticas e terrestres nacionais</td>\n",
       "      <td>63764211000110</td>\n",
       "      <td>transcontinental agencia de viagens</td>\n",
       "      <td>SFEXYF</td>\n",
       "      <td>2018-01-02</td>\n",
       "      <td>Companhia Aérea: LATAM, Localizador: SFEXYF. Passageiros: ACIR MARCOS GURGACZ (Matrícula 225736, PARLAMENTAR), Voo: 3303 - NVTCGH - 15/01/2018; ACIR MARCOS GURGACZ (Matrícula 225736, PARLAMENTAR), Voo: 3594 - BSBPVH - 15/01/2018; ACIR MARCOS GURGACZ (Matrícula 225736, PARLAMENTAR), Voo: 3704 - CGHBSB - 15/01/2018;</td>\n",
       "      <td>1094.29</td>\n",
       "      <td>2088528</td>\n",
       "    </tr>\n",
       "    <tr>\n",
       "      <th>3</th>\n",
       "      <td>2018</td>\n",
       "      <td>Janeiro</td>\n",
       "      <td>ACIR GURGACZ</td>\n",
       "      <td>Passagens aéreas, aquáticas e terrestres nacionais</td>\n",
       "      <td>63764211000110</td>\n",
       "      <td>transcontinental agencia de viagens</td>\n",
       "      <td>V64HTR</td>\n",
       "      <td>2018-01-24</td>\n",
       "      <td>Companhia Aérea: AZUL, Localizador: V64HTR. Passageiros: ACIR MARCOS GURGACZ (Matrícula 225736, PARLAMENTAR), Voo: 2633 - BVHCGB - 25/01/2018; ACIR MARCOS GURGACZ (Matrícula 225736, PARLAMENTAR), Voo: 2515 - GRUNVT - 25/01/2018; ACIR MARCOS GURGACZ (Matrícula 225736, PARLAMENTAR), Voo: 2605 - CGBGRU - 25/01/2018;</td>\n",
       "      <td>1553.99</td>\n",
       "      <td>2088475</td>\n",
       "    </tr>\n",
       "    <tr>\n",
       "      <th>5</th>\n",
       "      <td>2018</td>\n",
       "      <td>Fevereiro</td>\n",
       "      <td>ACIR GURGACZ</td>\n",
       "      <td>Divulgação da atividade parlamentar</td>\n",
       "      <td>27170469000125</td>\n",
       "      <td>infiniti comunicacao</td>\n",
       "      <td>0019</td>\n",
       "      <td>2018-02-07</td>\n",
       "      <td>Despesa com divulgação da atividade parlamentar em rádio</td>\n",
       "      <td>1000.00</td>\n",
       "      <td>2088478</td>\n",
       "    </tr>\n",
       "    <tr>\n",
       "      <th>6</th>\n",
       "      <td>2018</td>\n",
       "      <td>Fevereiro</td>\n",
       "      <td>ACIR GURGACZ</td>\n",
       "      <td>Divulgação da atividade parlamentar</td>\n",
       "      <td>26320603000164</td>\n",
       "      <td>informanahora</td>\n",
       "      <td>00000005</td>\n",
       "      <td>2018-03-02</td>\n",
       "      <td>Despesa com divulgação da atividade parlamentar no site INFORMANAHORA.COM.BR</td>\n",
       "      <td>3000.00</td>\n",
       "      <td>2090387</td>\n",
       "    </tr>\n",
       "  </tbody>\n",
       "</table>\n",
       "</div>"
      ],
      "text/plain": [
       "    ANO        MES       SENADOR  \\\n",
       "1  2018    Janeiro  ACIR GURGACZ   \n",
       "2  2018    Janeiro  ACIR GURGACZ   \n",
       "3  2018    Janeiro  ACIR GURGACZ   \n",
       "5  2018  Fevereiro  ACIR GURGACZ   \n",
       "6  2018  Fevereiro  ACIR GURGACZ   \n",
       "\n",
       "                                         TIPO_DESPESA        CNPJ_CPF  \\\n",
       "1  Passagens aéreas, aquáticas e terrestres nacionais  63764211000110   \n",
       "2  Passagens aéreas, aquáticas e terrestres nacionais  63764211000110   \n",
       "3  Passagens aéreas, aquáticas e terrestres nacionais  63764211000110   \n",
       "5                 Divulgação da atividade parlamentar  27170469000125   \n",
       "6                 Divulgação da atividade parlamentar  26320603000164   \n",
       "\n",
       "                            FORNECEDOR DOCUMENTO       DATA  \\\n",
       "1  transcontinental agencia de viagens    M2CJMM 2018-01-02   \n",
       "2  transcontinental agencia de viagens    SFEXYF 2018-01-02   \n",
       "3  transcontinental agencia de viagens    V64HTR 2018-01-24   \n",
       "5                 infiniti comunicacao      0019 2018-02-07   \n",
       "6                        informanahora  00000005 2018-03-02   \n",
       "\n",
       "                                                                                                                                                                                                                                                                                                                  DETALHAMENTO  \\\n",
       "1                                                                                                                                                                            Companhia Aérea: AVIANCA, Localizador: M2CJMM. Passageiros: ACIR MARCOS GURGACZ (Matrícula 225736, PARLAMENTAR), Voo: 6109 - NVTGRU - 31/01/2018;   \n",
       "2  Companhia Aérea: LATAM, Localizador: SFEXYF. Passageiros: ACIR MARCOS GURGACZ (Matrícula 225736, PARLAMENTAR), Voo: 3303 - NVTCGH - 15/01/2018; ACIR MARCOS GURGACZ (Matrícula 225736, PARLAMENTAR), Voo: 3594 - BSBPVH - 15/01/2018; ACIR MARCOS GURGACZ (Matrícula 225736, PARLAMENTAR), Voo: 3704 - CGHBSB - 15/01/2018;   \n",
       "3   Companhia Aérea: AZUL, Localizador: V64HTR. Passageiros: ACIR MARCOS GURGACZ (Matrícula 225736, PARLAMENTAR), Voo: 2633 - BVHCGB - 25/01/2018; ACIR MARCOS GURGACZ (Matrícula 225736, PARLAMENTAR), Voo: 2515 - GRUNVT - 25/01/2018; ACIR MARCOS GURGACZ (Matrícula 225736, PARLAMENTAR), Voo: 2605 - CGBGRU - 25/01/2018;   \n",
       "5                                                                                                                                                                                                                                                                     Despesa com divulgação da atividade parlamentar em rádio   \n",
       "6                                                                                                                                                                                                                                                 Despesa com divulgação da atividade parlamentar no site INFORMANAHORA.COM.BR   \n",
       "\n",
       "   VALOR_REEMBOLSADO  COD_DOCUMENTO  \n",
       "1             274.99        2088476  \n",
       "2            1094.29        2088528  \n",
       "3            1553.99        2088475  \n",
       "5            1000.00        2088478  \n",
       "6            3000.00        2090387  "
      ]
     },
     "execution_count": 83,
     "metadata": {},
     "output_type": "execute_result"
    }
   ],
   "source": [
    "# Carrega os dados limpos do arquivo pickle gerado pelo 01_data_cleaning.ipynb e exibe as primeiras linhas\n",
    "df_ceaps_limpo = pd.read_pickle('/Users/liviagrigolon/Documents/GitHub/7-days-of-data-science/data/processed/despesa_ceaps_2018_2022_limpo.pkl')\n",
    "df_ceaps_limpo.head()"
   ]
  },
  {
   "cell_type": "markdown",
   "metadata": {},
   "source": [
    "# 1 Análise Exploratória de Dados (AED)"
   ]
  },
  {
   "cell_type": "markdown",
   "metadata": {},
   "source": [
    "## 1.1 Exploração inicial dos dados"
   ]
  },
  {
   "cell_type": "code",
   "execution_count": 84,
   "metadata": {},
   "outputs": [
    {
     "name": "stdout",
     "output_type": "stream",
     "text": [
      "<class 'pandas.core.frame.DataFrame'>\n",
      "Index: 85857 entries, 1 to 93847\n",
      "Data columns (total 11 columns):\n",
      " #   Column             Non-Null Count  Dtype         \n",
      "---  ------             --------------  -----         \n",
      " 0   ANO                85857 non-null  int64         \n",
      " 1   MES                85857 non-null  string        \n",
      " 2   SENADOR            85857 non-null  string        \n",
      " 3   TIPO_DESPESA       85857 non-null  string        \n",
      " 4   CNPJ_CPF           85857 non-null  string        \n",
      " 5   FORNECEDOR         85857 non-null  object        \n",
      " 6   DOCUMENTO          85857 non-null  string        \n",
      " 7   DATA               85852 non-null  datetime64[ns]\n",
      " 8   DETALHAMENTO       85857 non-null  string        \n",
      " 9   VALOR_REEMBOLSADO  85857 non-null  float64       \n",
      " 10  COD_DOCUMENTO      85857 non-null  int64         \n",
      "dtypes: datetime64[ns](1), float64(1), int64(2), object(1), string(6)\n",
      "memory usage: 7.9+ MB\n"
     ]
    }
   ],
   "source": [
    "# Verifica a estrutura do DataFrame\n",
    "df_ceaps_limpo.info()"
   ]
  },
  {
   "cell_type": "code",
   "execution_count": 85,
   "metadata": {},
   "outputs": [
    {
     "name": "stdout",
     "output_type": "stream",
     "text": [
      "Valores únicos para cada coluna:\n",
      "ANO                      5\n",
      "MES                     12\n",
      "SENADOR                171\n",
      "TIPO_DESPESA             7\n",
      "CNPJ_CPF              9188\n",
      "FORNECEDOR            9436\n",
      "DOCUMENTO            71234\n",
      "DATA                  1935\n",
      "DETALHAMENTO         29924\n",
      "VALOR_REEMBOLSADO    39440\n",
      "COD_DOCUMENTO        85857\n",
      "dtype: int64\n"
     ]
    }
   ],
   "source": [
    "# Contagem de valores únicos em colunas relevantes\n",
    "print(\"Valores únicos para cada coluna:\")\n",
    "print(df_ceaps_limpo.nunique())\n"
   ]
  },
  {
   "cell_type": "code",
   "execution_count": 86,
   "metadata": {},
   "outputs": [
    {
     "data": {
      "text/html": [
       "<div>\n",
       "<style scoped>\n",
       "    .dataframe tbody tr th:only-of-type {\n",
       "        vertical-align: middle;\n",
       "    }\n",
       "\n",
       "    .dataframe tbody tr th {\n",
       "        vertical-align: top;\n",
       "    }\n",
       "\n",
       "    .dataframe thead th {\n",
       "        text-align: right;\n",
       "    }\n",
       "</style>\n",
       "<table border=\"1\" class=\"dataframe\">\n",
       "  <thead>\n",
       "    <tr style=\"text-align: right;\">\n",
       "      <th></th>\n",
       "      <th>ANO</th>\n",
       "      <th>MES</th>\n",
       "      <th>SENADOR</th>\n",
       "      <th>TIPO_DESPESA</th>\n",
       "      <th>CNPJ_CPF</th>\n",
       "      <th>FORNECEDOR</th>\n",
       "      <th>DOCUMENTO</th>\n",
       "      <th>DATA</th>\n",
       "      <th>DETALHAMENTO</th>\n",
       "      <th>VALOR_REEMBOLSADO</th>\n",
       "      <th>COD_DOCUMENTO</th>\n",
       "    </tr>\n",
       "  </thead>\n",
       "  <tbody>\n",
       "    <tr>\n",
       "      <th>count</th>\n",
       "      <td>85857.000000</td>\n",
       "      <td>85857</td>\n",
       "      <td>85857</td>\n",
       "      <td>85857</td>\n",
       "      <td>85857</td>\n",
       "      <td>85857</td>\n",
       "      <td>85857</td>\n",
       "      <td>85852</td>\n",
       "      <td>85857</td>\n",
       "      <td>85857.000000</td>\n",
       "      <td>8.585700e+04</td>\n",
       "    </tr>\n",
       "    <tr>\n",
       "      <th>unique</th>\n",
       "      <td>NaN</td>\n",
       "      <td>12</td>\n",
       "      <td>171</td>\n",
       "      <td>7</td>\n",
       "      <td>9188</td>\n",
       "      <td>9436</td>\n",
       "      <td>71234</td>\n",
       "      <td>NaN</td>\n",
       "      <td>29924</td>\n",
       "      <td>NaN</td>\n",
       "      <td>NaN</td>\n",
       "    </tr>\n",
       "    <tr>\n",
       "      <th>top</th>\n",
       "      <td>NaN</td>\n",
       "      <td>Março</td>\n",
       "      <td>WELLINGTON FAGUNDES</td>\n",
       "      <td>Locomoção, hospedagem, alimentação, combustíveis e lubrificantes</td>\n",
       "      <td>16978175000108</td>\n",
       "      <td>adria viagens e turismo</td>\n",
       "      <td>Desconhecido</td>\n",
       "      <td>NaN</td>\n",
       "      <td>Não informado</td>\n",
       "      <td>NaN</td>\n",
       "      <td>NaN</td>\n",
       "    </tr>\n",
       "    <tr>\n",
       "      <th>freq</th>\n",
       "      <td>NaN</td>\n",
       "      <td>8176</td>\n",
       "      <td>2640</td>\n",
       "      <td>33816</td>\n",
       "      <td>6924</td>\n",
       "      <td>6402</td>\n",
       "      <td>3268</td>\n",
       "      <td>NaN</td>\n",
       "      <td>32635</td>\n",
       "      <td>NaN</td>\n",
       "      <td>NaN</td>\n",
       "    </tr>\n",
       "    <tr>\n",
       "      <th>mean</th>\n",
       "      <td>2019.754662</td>\n",
       "      <td>NaN</td>\n",
       "      <td>NaN</td>\n",
       "      <td>NaN</td>\n",
       "      <td>NaN</td>\n",
       "      <td>NaN</td>\n",
       "      <td>NaN</td>\n",
       "      <td>2020-03-28 18:46:33.719424</td>\n",
       "      <td>NaN</td>\n",
       "      <td>697.105911</td>\n",
       "      <td>2.139114e+06</td>\n",
       "    </tr>\n",
       "    <tr>\n",
       "      <th>min</th>\n",
       "      <td>2018.000000</td>\n",
       "      <td>NaN</td>\n",
       "      <td>NaN</td>\n",
       "      <td>NaN</td>\n",
       "      <td>NaN</td>\n",
       "      <td>NaN</td>\n",
       "      <td>NaN</td>\n",
       "      <td>1957-12-19 00:00:00</td>\n",
       "      <td>NaN</td>\n",
       "      <td>0.010000</td>\n",
       "      <td>2.085892e+06</td>\n",
       "    </tr>\n",
       "    <tr>\n",
       "      <th>25%</th>\n",
       "      <td>2018.000000</td>\n",
       "      <td>NaN</td>\n",
       "      <td>NaN</td>\n",
       "      <td>NaN</td>\n",
       "      <td>NaN</td>\n",
       "      <td>NaN</td>\n",
       "      <td>NaN</td>\n",
       "      <td>2018-11-30 00:00:00</td>\n",
       "      <td>NaN</td>\n",
       "      <td>136.000000</td>\n",
       "      <td>2.111940e+06</td>\n",
       "    </tr>\n",
       "    <tr>\n",
       "      <th>50%</th>\n",
       "      <td>2019.000000</td>\n",
       "      <td>NaN</td>\n",
       "      <td>NaN</td>\n",
       "      <td>NaN</td>\n",
       "      <td>NaN</td>\n",
       "      <td>NaN</td>\n",
       "      <td>NaN</td>\n",
       "      <td>2019-12-18 00:00:00</td>\n",
       "      <td>NaN</td>\n",
       "      <td>312.900000</td>\n",
       "      <td>2.139002e+06</td>\n",
       "    </tr>\n",
       "    <tr>\n",
       "      <th>75%</th>\n",
       "      <td>2021.000000</td>\n",
       "      <td>NaN</td>\n",
       "      <td>NaN</td>\n",
       "      <td>NaN</td>\n",
       "      <td>NaN</td>\n",
       "      <td>NaN</td>\n",
       "      <td>NaN</td>\n",
       "      <td>2021-08-11 00:00:00</td>\n",
       "      <td>NaN</td>\n",
       "      <td>1053.600000</td>\n",
       "      <td>2.165532e+06</td>\n",
       "    </tr>\n",
       "    <tr>\n",
       "      <th>max</th>\n",
       "      <td>2022.000000</td>\n",
       "      <td>NaN</td>\n",
       "      <td>NaN</td>\n",
       "      <td>NaN</td>\n",
       "      <td>NaN</td>\n",
       "      <td>NaN</td>\n",
       "      <td>NaN</td>\n",
       "      <td>2023-12-23 00:00:00</td>\n",
       "      <td>NaN</td>\n",
       "      <td>3444.530000</td>\n",
       "      <td>2.199784e+06</td>\n",
       "    </tr>\n",
       "    <tr>\n",
       "      <th>std</th>\n",
       "      <td>1.454787</td>\n",
       "      <td>NaN</td>\n",
       "      <td>NaN</td>\n",
       "      <td>NaN</td>\n",
       "      <td>NaN</td>\n",
       "      <td>NaN</td>\n",
       "      <td>NaN</td>\n",
       "      <td>NaN</td>\n",
       "      <td>NaN</td>\n",
       "      <td>784.005969</td>\n",
       "      <td>3.067097e+04</td>\n",
       "    </tr>\n",
       "  </tbody>\n",
       "</table>\n",
       "</div>"
      ],
      "text/plain": [
       "                 ANO    MES              SENADOR  \\\n",
       "count   85857.000000  85857                85857   \n",
       "unique           NaN     12                  171   \n",
       "top              NaN  Março  WELLINGTON FAGUNDES   \n",
       "freq             NaN   8176                 2640   \n",
       "mean     2019.754662    NaN                  NaN   \n",
       "min      2018.000000    NaN                  NaN   \n",
       "25%      2018.000000    NaN                  NaN   \n",
       "50%      2019.000000    NaN                  NaN   \n",
       "75%      2021.000000    NaN                  NaN   \n",
       "max      2022.000000    NaN                  NaN   \n",
       "std         1.454787    NaN                  NaN   \n",
       "\n",
       "                                                            TIPO_DESPESA  \\\n",
       "count                                                              85857   \n",
       "unique                                                                 7   \n",
       "top     Locomoção, hospedagem, alimentação, combustíveis e lubrificantes   \n",
       "freq                                                               33816   \n",
       "mean                                                                 NaN   \n",
       "min                                                                  NaN   \n",
       "25%                                                                  NaN   \n",
       "50%                                                                  NaN   \n",
       "75%                                                                  NaN   \n",
       "max                                                                  NaN   \n",
       "std                                                                  NaN   \n",
       "\n",
       "              CNPJ_CPF               FORNECEDOR     DOCUMENTO  \\\n",
       "count            85857                    85857         85857   \n",
       "unique            9188                     9436         71234   \n",
       "top     16978175000108  adria viagens e turismo  Desconhecido   \n",
       "freq              6924                     6402          3268   \n",
       "mean               NaN                      NaN           NaN   \n",
       "min                NaN                      NaN           NaN   \n",
       "25%                NaN                      NaN           NaN   \n",
       "50%                NaN                      NaN           NaN   \n",
       "75%                NaN                      NaN           NaN   \n",
       "max                NaN                      NaN           NaN   \n",
       "std                NaN                      NaN           NaN   \n",
       "\n",
       "                              DATA   DETALHAMENTO  VALOR_REEMBOLSADO  \\\n",
       "count                        85852          85857       85857.000000   \n",
       "unique                         NaN          29924                NaN   \n",
       "top                            NaN  Não informado                NaN   \n",
       "freq                           NaN          32635                NaN   \n",
       "mean    2020-03-28 18:46:33.719424            NaN         697.105911   \n",
       "min            1957-12-19 00:00:00            NaN           0.010000   \n",
       "25%            2018-11-30 00:00:00            NaN         136.000000   \n",
       "50%            2019-12-18 00:00:00            NaN         312.900000   \n",
       "75%            2021-08-11 00:00:00            NaN        1053.600000   \n",
       "max            2023-12-23 00:00:00            NaN        3444.530000   \n",
       "std                            NaN            NaN         784.005969   \n",
       "\n",
       "        COD_DOCUMENTO  \n",
       "count    8.585700e+04  \n",
       "unique            NaN  \n",
       "top               NaN  \n",
       "freq              NaN  \n",
       "mean     2.139114e+06  \n",
       "min      2.085892e+06  \n",
       "25%      2.111940e+06  \n",
       "50%      2.139002e+06  \n",
       "75%      2.165532e+06  \n",
       "max      2.199784e+06  \n",
       "std      3.067097e+04  "
      ]
     },
     "execution_count": 86,
     "metadata": {},
     "output_type": "execute_result"
    }
   ],
   "source": [
    "# Estatísticas descritivas para todas as variáveis\n",
    "df_ceaps_limpo.describe(include='all')"
   ]
  },
  {
   "cell_type": "markdown",
   "metadata": {},
   "source": [
    "# 2 Análise estatística e visualizações"
   ]
  },
  {
   "cell_type": "markdown",
   "metadata": {},
   "source": [
    "### 2.1 Senadores com maiores gastos\n",
    "  **Pergunta:** Quais foram os senadores que mais gastaram com reembolsos durante o período analisado?  \n",
    "  \n",
    "  **Hipótese:** Alguns senadores podem ter uma despesa significativamente maior do que outros, dependendo das atividades parlamentares que realizam."
   ]
  },
  {
   "cell_type": "code",
   "execution_count": 87,
   "metadata": {},
   "outputs": [
    {
     "name": "stdout",
     "output_type": "stream",
     "text": [
      "Senadores que mais declararam despesas:\n"
     ]
    },
    {
     "data": {
      "text/html": [
       "<div>\n",
       "<style scoped>\n",
       "    .dataframe tbody tr th:only-of-type {\n",
       "        vertical-align: middle;\n",
       "    }\n",
       "\n",
       "    .dataframe tbody tr th {\n",
       "        vertical-align: top;\n",
       "    }\n",
       "\n",
       "    .dataframe thead th {\n",
       "        text-align: right;\n",
       "    }\n",
       "</style>\n",
       "<table border=\"1\" class=\"dataframe\">\n",
       "  <thead>\n",
       "    <tr style=\"text-align: right;\">\n",
       "      <th></th>\n",
       "      <th>SENADOR</th>\n",
       "      <th>VALOR_REEMBOLSADO</th>\n",
       "    </tr>\n",
       "  </thead>\n",
       "  <tbody>\n",
       "    <tr>\n",
       "      <th>47</th>\n",
       "      <td>FERNANDO BEZERRA COELHO</td>\n",
       "      <td>1344952.67</td>\n",
       "    </tr>\n",
       "    <tr>\n",
       "      <th>142</th>\n",
       "      <td>ROMÁRIO</td>\n",
       "      <td>1204755.58</td>\n",
       "    </tr>\n",
       "    <tr>\n",
       "      <th>158</th>\n",
       "      <td>VENEZIANO VITAL DO RÊGO</td>\n",
       "      <td>1194847.98</td>\n",
       "    </tr>\n",
       "    <tr>\n",
       "      <th>127</th>\n",
       "      <td>RANDOLFE RODRIGUES</td>\n",
       "      <td>1109164.94</td>\n",
       "    </tr>\n",
       "    <tr>\n",
       "      <th>43</th>\n",
       "      <td>ELMANO FÉRRER</td>\n",
       "      <td>1058062.06</td>\n",
       "    </tr>\n",
       "    <tr>\n",
       "      <th>44</th>\n",
       "      <td>ESPERIDIÃO AMIN</td>\n",
       "      <td>1057596.06</td>\n",
       "    </tr>\n",
       "    <tr>\n",
       "      <th>154</th>\n",
       "      <td>TELMÁRIO MOTA</td>\n",
       "      <td>1046236.56</td>\n",
       "    </tr>\n",
       "    <tr>\n",
       "      <th>60</th>\n",
       "      <td>HUMBERTO COSTA</td>\n",
       "      <td>1023276.15</td>\n",
       "    </tr>\n",
       "    <tr>\n",
       "      <th>89</th>\n",
       "      <td>LUCAS BARRETO</td>\n",
       "      <td>1022095.24</td>\n",
       "    </tr>\n",
       "    <tr>\n",
       "      <th>163</th>\n",
       "      <td>WELLINGTON FAGUNDES</td>\n",
       "      <td>1019032.12</td>\n",
       "    </tr>\n",
       "  </tbody>\n",
       "</table>\n",
       "</div>"
      ],
      "text/plain": [
       "                     SENADOR  VALOR_REEMBOLSADO\n",
       "47   FERNANDO BEZERRA COELHO         1344952.67\n",
       "142                  ROMÁRIO         1204755.58\n",
       "158  VENEZIANO VITAL DO RÊGO         1194847.98\n",
       "127       RANDOLFE RODRIGUES         1109164.94\n",
       "43             ELMANO FÉRRER         1058062.06\n",
       "44           ESPERIDIÃO AMIN         1057596.06\n",
       "154            TELMÁRIO MOTA         1046236.56\n",
       "60            HUMBERTO COSTA         1023276.15\n",
       "89             LUCAS BARRETO         1022095.24\n",
       "163      WELLINGTON FAGUNDES         1019032.12"
      ]
     },
     "execution_count": 87,
     "metadata": {},
     "output_type": "execute_result"
    }
   ],
   "source": [
    "# Agrupar os dados por \"SENADOR\" e somar os valores de \"VALOR_REEMBOLSADO\"\n",
    "df_senador_gastos = df_ceaps_limpo.groupby('SENADOR')['VALOR_REEMBOLSADO'].sum().reset_index()\n",
    "\n",
    "# Ordenar os resultados de forma decrescente\n",
    "df_senador_gastos_sorted = df_senador_gastos.sort_values(by='VALOR_REEMBOLSADO', ascending=False)\n",
    "\n",
    "# Exibir os 10 senadores que mais gastaram\n",
    "print(\"Senadores que mais declararam despesas:\")\n",
    "df_senador_gastos_sorted.head(10)"
   ]
  },
  {
   "cell_type": "markdown",
   "metadata": {},
   "source": [
    "Ao analisarmos os dados, fica evidente que alguns senadores se destacam com gastos totais de reembolso consideravelmente superiores aos demais. Fernando Bezerra Coelho, por exemplo, lidera a lista com R$ 1.344.952,67, seguido por Romário e Veneziano Vital do Rêgo, ambos ultrapassando a marca de R$ 1.190.000. \n",
    "\n",
    "Essa disparidade nos gastos levanta questões cruciais: seriam esses valores reflexo de atividades parlamentares mais intensas, ou indicariam uma necessidade de recursos adicionais para suas funções? A distribuição dos recursos é equitativa entre os senadores, ou há disparidades que podem indicar privilégios ou desigualdades? A investigação mais aprofundada dos tipos de despesas e das atividades realizadas por esses senadores pode fornecer insights valiosos para compreendermos melhor essa variação."
   ]
  },
  {
   "cell_type": "markdown",
   "metadata": {},
   "source": [
    "### 2.2 Tipos de despesa mais frequentes\n",
    "   **Pergunta**: Quais tipos de despesa aparecem com mais frequência nos registros dos senadores?\n",
    "   \n",
    "   **Hipótese**: Certas categorias de despesa, como divulgação da atividade parlamentar e passagens aéreas, podem ser registradas com maior frequência, refletindo padrões operacionais comuns no uso da cota parlamentar."
   ]
  },
  {
   "cell_type": "code",
   "execution_count": 88,
   "metadata": {},
   "outputs": [
    {
     "data": {
      "text/html": [
       "<div>\n",
       "<style scoped>\n",
       "    .dataframe tbody tr th:only-of-type {\n",
       "        vertical-align: middle;\n",
       "    }\n",
       "\n",
       "    .dataframe tbody tr th {\n",
       "        vertical-align: top;\n",
       "    }\n",
       "\n",
       "    .dataframe thead th {\n",
       "        text-align: right;\n",
       "    }\n",
       "</style>\n",
       "<table border=\"1\" class=\"dataframe\">\n",
       "  <thead>\n",
       "    <tr style=\"text-align: right;\">\n",
       "      <th></th>\n",
       "      <th>Tipo de despesa</th>\n",
       "      <th>Ocorrência</th>\n",
       "      <th>Proporção (%)</th>\n",
       "    </tr>\n",
       "  </thead>\n",
       "  <tbody>\n",
       "    <tr>\n",
       "      <th>0</th>\n",
       "      <td>Locomoção, hospedagem, alimentação, combustíveis e lubrificantes</td>\n",
       "      <td>33816</td>\n",
       "      <td>39.39</td>\n",
       "    </tr>\n",
       "    <tr>\n",
       "      <th>1</th>\n",
       "      <td>Passagens aéreas, aquáticas e terrestres nacionais</td>\n",
       "      <td>20105</td>\n",
       "      <td>23.42</td>\n",
       "    </tr>\n",
       "    <tr>\n",
       "      <th>2</th>\n",
       "      <td>Aluguel de imóveis para escritório político, compreendendo despesas concernentes a eles.</td>\n",
       "      <td>18315</td>\n",
       "      <td>21.33</td>\n",
       "    </tr>\n",
       "    <tr>\n",
       "      <th>3</th>\n",
       "      <td>Aquisição de material de consumo para uso no escritório político, inclusive aquisição ou locação de software, despesas postais, aquisição de publicações, locação de móveis e de equipamentos.</td>\n",
       "      <td>6432</td>\n",
       "      <td>7.49</td>\n",
       "    </tr>\n",
       "    <tr>\n",
       "      <th>4</th>\n",
       "      <td>Divulgação da atividade parlamentar</td>\n",
       "      <td>4230</td>\n",
       "      <td>4.93</td>\n",
       "    </tr>\n",
       "    <tr>\n",
       "      <th>5</th>\n",
       "      <td>Contratação de consultorias, assessorias, pesquisas, trabalhos técnicos e outros serviços de apoio ao exercício do mandato parlamentar</td>\n",
       "      <td>2830</td>\n",
       "      <td>3.3</td>\n",
       "    </tr>\n",
       "    <tr>\n",
       "      <th>6</th>\n",
       "      <td>Serviços de Segurança Privada</td>\n",
       "      <td>129</td>\n",
       "      <td>0.15</td>\n",
       "    </tr>\n",
       "  </tbody>\n",
       "</table>\n",
       "</div>"
      ],
      "text/plain": [
       "                                                                                                                                                                                   Tipo de despesa  \\\n",
       "0                                                                                                                                 Locomoção, hospedagem, alimentação, combustíveis e lubrificantes   \n",
       "1                                                                                                                                               Passagens aéreas, aquáticas e terrestres nacionais   \n",
       "2                                                                                                         Aluguel de imóveis para escritório político, compreendendo despesas concernentes a eles.   \n",
       "3  Aquisição de material de consumo para uso no escritório político, inclusive aquisição ou locação de software, despesas postais, aquisição de publicações, locação de móveis e de equipamentos.    \n",
       "4                                                                                                                                                              Divulgação da atividade parlamentar   \n",
       "5                                                           Contratação de consultorias, assessorias, pesquisas, trabalhos técnicos e outros serviços de apoio ao exercício do mandato parlamentar   \n",
       "6                                                                                                                                                                    Serviços de Segurança Privada   \n",
       "\n",
       "   Ocorrência  Proporção (%)  \n",
       "0       33816          39.39  \n",
       "1       20105          23.42  \n",
       "2       18315          21.33  \n",
       "3        6432           7.49  \n",
       "4        4230           4.93  \n",
       "5        2830            3.3  \n",
       "6         129           0.15  "
      ]
     },
     "metadata": {},
     "output_type": "display_data"
    }
   ],
   "source": [
    "# Criar uma tabela com os tipos de despesas, contagens e porcentagens\n",
    "tabela_categorias = df_ceaps_limpo[\"TIPO_DESPESA\"].value_counts(normalize=True).reset_index()\n",
    "tabela_categorias.columns = [\"Tipo de despesa\", \"Proporção\"]\n",
    "tabela_categorias[\"Ocorrência\"] = df_ceaps_limpo[\"TIPO_DESPESA\"].value_counts().values\n",
    "tabela_categorias[\"Proporção (%)\"] = (tabela_categorias[\"Proporção\"] * 100).round(2)\n",
    "\n",
    "# Reorganizar colunas para melhor visualização\n",
    "tabela_categorias = tabela_categorias[[\"Tipo de despesa\", \"Ocorrência\", \"Proporção (%)\"]]\n",
    "\n",
    "# Exibir a tabela\n",
    "pd.options.display.max_colwidth = None  # Mostra o texto completo na tabela\n",
    "display(tabela_categorias)\n"
   ]
  },
  {
   "cell_type": "markdown",
   "metadata": {},
   "source": [
    "A distribuição dos tipos de despesa revela que 'Locomoção, hospedagem, alimentação, combustíveis e lubrificantes' e 'Passagens aéreas, aquáticas e terrestres nacionais' são as categorias predominantes. Isso indica que uma parte significativa dos recursos parlamentares é destinada a despesas com deslocamento e manutenção das atividades externas dos senadores."
   ]
  },
  {
   "cell_type": "markdown",
   "metadata": {},
   "source": [
    "### 2.3 Distribuição mensal de gastos\n",
    "   **Pergunta:** Como as despesas dos senadores variam ao longo dos meses de cada ano?  \n",
    "   **Hipótese:** Pode haver uma sazonalidade nos gastos, com meses de maior gasto, como aqueles próximos às eleições ou períodos de maior atividade parlamentar."
   ]
  },
  {
   "cell_type": "code",
   "execution_count": 89,
   "metadata": {},
   "outputs": [
    {
     "data": {
      "application/vnd.plotly.v1+json": {
       "config": {
        "plotlyServerURL": "https://plot.ly"
       },
       "data": [
        {
         "hovertemplate": "Mês: %{x}<br>Reembolso: R$%{y:,.2f}<br>Ano: %{legendgroup}",
         "legendgroup": "2018",
         "line": {
          "color": "rgb(127, 60, 141)",
          "dash": "solid",
          "width": 3
         },
         "marker": {
          "size": 8,
          "symbol": "circle"
         },
         "mode": "lines+markers",
         "name": "2018",
         "orientation": "v",
         "showlegend": true,
         "type": "scatter",
         "x": [
          "Janeiro",
          "Fevereiro",
          "Março",
          "Abril",
          "Maio",
          "Junho",
          "Julho",
          "Agosto",
          "Setembro",
          "Outubro",
          "Novembro",
          "Dezembro"
         ],
         "xaxis": "x",
         "y": {
          "bdata": "zczMTCrUKEFxPQoXbgcxQQrXozAIwzRBuB6F6+0wNUE9CtdjDAg1QUjhepSzpTJBw/Uo3Ea0MUGF61E4VDgvQT0K1yMWsiRBUrgexYJzMUFSuB5FrS4zQaRwPYq6xS9B",
          "dtype": "f8"
         },
         "yaxis": "y"
        },
        {
         "hovertemplate": "Mês: %{x}<br>Reembolso: R$%{y:,.2f}<br>Ano: %{legendgroup}",
         "legendgroup": "2019",
         "line": {
          "color": "rgb(17, 165, 121)",
          "dash": "solid",
          "width": 3
         },
         "marker": {
          "size": 8,
          "symbol": "circle"
         },
         "mode": "lines+markers",
         "name": "2019",
         "orientation": "v",
         "showlegend": true,
         "type": "scatter",
         "x": [
          "Janeiro",
          "Fevereiro",
          "Março",
          "Abril",
          "Maio",
          "Junho",
          "Julho",
          "Agosto",
          "Setembro",
          "Outubro",
          "Novembro",
          "Dezembro"
         ],
         "xaxis": "x",
         "y": {
          "bdata": "PQrXo8ORJUGF61E4i+wtQRSuR+G8My5BmpmZmSj8MEFSuB6FtOgzQeF6FK6sETNBuB6Fa+8TL0HNzMwMAn8zQWZmZmbiJzNBZmZmpptMNUGkcD3KrdcxQexRuJ5vvyxB",
          "dtype": "f8"
         },
         "yaxis": "y"
        },
        {
         "hovertemplate": "Mês: %{x}<br>Reembolso: R$%{y:,.2f}<br>Ano: %{legendgroup}",
         "legendgroup": "2020",
         "line": {
          "color": "rgb(57, 105, 172)",
          "dash": "solid",
          "width": 3
         },
         "marker": {
          "size": 8,
          "symbol": "circle"
         },
         "mode": "lines+markers",
         "name": "2020",
         "orientation": "v",
         "showlegend": true,
         "type": "scatter",
         "x": [
          "Janeiro",
          "Fevereiro",
          "Março",
          "Abril",
          "Maio",
          "Junho",
          "Julho",
          "Agosto",
          "Setembro",
          "Outubro",
          "Novembro",
          "Dezembro"
         ],
         "xaxis": "x",
         "y": {
          "bdata": "cT0K1xpkI0GkcD3KQckwQdejcD3+PC1BKVyPws+UHEEUrkfhCasdQZqZmZmtkR5BAAAAAEdeIUH2KFyPfaYiQfYoXI9tayZBH4XrURJVJ0EpXI9CU4cmQUjhehTW6ClB",
          "dtype": "f8"
         },
         "yaxis": "y"
        },
        {
         "hovertemplate": "Mês: %{x}<br>Reembolso: R$%{y:,.2f}<br>Ano: %{legendgroup}",
         "legendgroup": "2021",
         "line": {
          "color": "rgb(242, 183, 1)",
          "dash": "solid",
          "width": 3
         },
         "marker": {
          "size": 8,
          "symbol": "circle"
         },
         "mode": "lines+markers",
         "name": "2021",
         "orientation": "v",
         "showlegend": true,
         "type": "scatter",
         "x": [
          "Janeiro",
          "Fevereiro",
          "Março",
          "Abril",
          "Maio",
          "Junho",
          "Julho",
          "Agosto",
          "Setembro",
          "Outubro",
          "Novembro",
          "Dezembro"
         ],
         "xaxis": "x",
         "y": {
          "bdata": "CtejcHePI0GamZkZGfIoQRWuR2F6EyZBj8L1KNe1JkG4HoXrJFosQXsUrkct8yxB9ihcjwWWLkEAAABAebk0QQrXo7D0nDJBH4XrEcx6MkH2KFyPOe0yQa5H4fromi9B",
          "dtype": "f8"
         },
         "yaxis": "y"
        },
        {
         "hovertemplate": "Mês: %{x}<br>Reembolso: R$%{y:,.2f}<br>Ano: %{legendgroup}",
         "legendgroup": "2022",
         "line": {
          "color": "rgb(231, 63, 116)",
          "dash": "solid",
          "width": 3
         },
         "marker": {
          "size": 8,
          "symbol": "circle"
         },
         "mode": "lines+markers",
         "name": "2022",
         "orientation": "v",
         "showlegend": true,
         "type": "scatter",
         "x": [
          "Janeiro",
          "Fevereiro",
          "Março",
          "Abril",
          "Maio",
          "Junho",
          "Julho",
          "Agosto",
          "Setembro",
          "Outubro",
          "Novembro",
          "Dezembro"
         ],
         "xaxis": "x",
         "y": {
          "bdata": "KVyPwk0dJUEAAACAUH8wQXE9CtctFzZBMzMzc8x2MkE9CtejWu4zQXsUrgfdJDFB61G4nilmL0HD9Sjc0/EtQY/C9aihWiVBhetROId1LEEAAADAWyAxQXE9ClfUGS1B",
          "dtype": "f8"
         },
         "yaxis": "y"
        }
       ],
       "layout": {
        "font": {
         "family": "Arial, sans-serif",
         "size": 14
        },
        "legend": {
         "orientation": "h",
         "title": {
          "text": "Ano"
         },
         "tracegroupgap": 0,
         "x": 0.5,
         "xanchor": "center",
         "y": -0.4,
         "yanchor": "top"
        },
        "margin": {
         "b": 70,
         "l": 50,
         "r": 50,
         "t": 50
        },
        "plot_bgcolor": "rgba(0,0,0,0)",
        "template": {
         "data": {
          "bar": [
           {
            "error_x": {
             "color": "#2a3f5f"
            },
            "error_y": {
             "color": "#2a3f5f"
            },
            "marker": {
             "line": {
              "color": "white",
              "width": 0.5
             },
             "pattern": {
              "fillmode": "overlay",
              "size": 10,
              "solidity": 0.2
             }
            },
            "type": "bar"
           }
          ],
          "barpolar": [
           {
            "marker": {
             "line": {
              "color": "white",
              "width": 0.5
             },
             "pattern": {
              "fillmode": "overlay",
              "size": 10,
              "solidity": 0.2
             }
            },
            "type": "barpolar"
           }
          ],
          "carpet": [
           {
            "aaxis": {
             "endlinecolor": "#2a3f5f",
             "gridcolor": "#C8D4E3",
             "linecolor": "#C8D4E3",
             "minorgridcolor": "#C8D4E3",
             "startlinecolor": "#2a3f5f"
            },
            "baxis": {
             "endlinecolor": "#2a3f5f",
             "gridcolor": "#C8D4E3",
             "linecolor": "#C8D4E3",
             "minorgridcolor": "#C8D4E3",
             "startlinecolor": "#2a3f5f"
            },
            "type": "carpet"
           }
          ],
          "choropleth": [
           {
            "colorbar": {
             "outlinewidth": 0,
             "ticks": ""
            },
            "type": "choropleth"
           }
          ],
          "contour": [
           {
            "colorbar": {
             "outlinewidth": 0,
             "ticks": ""
            },
            "colorscale": [
             [
              0,
              "#0d0887"
             ],
             [
              0.1111111111111111,
              "#46039f"
             ],
             [
              0.2222222222222222,
              "#7201a8"
             ],
             [
              0.3333333333333333,
              "#9c179e"
             ],
             [
              0.4444444444444444,
              "#bd3786"
             ],
             [
              0.5555555555555556,
              "#d8576b"
             ],
             [
              0.6666666666666666,
              "#ed7953"
             ],
             [
              0.7777777777777778,
              "#fb9f3a"
             ],
             [
              0.8888888888888888,
              "#fdca26"
             ],
             [
              1,
              "#f0f921"
             ]
            ],
            "type": "contour"
           }
          ],
          "contourcarpet": [
           {
            "colorbar": {
             "outlinewidth": 0,
             "ticks": ""
            },
            "type": "contourcarpet"
           }
          ],
          "heatmap": [
           {
            "colorbar": {
             "outlinewidth": 0,
             "ticks": ""
            },
            "colorscale": [
             [
              0,
              "#0d0887"
             ],
             [
              0.1111111111111111,
              "#46039f"
             ],
             [
              0.2222222222222222,
              "#7201a8"
             ],
             [
              0.3333333333333333,
              "#9c179e"
             ],
             [
              0.4444444444444444,
              "#bd3786"
             ],
             [
              0.5555555555555556,
              "#d8576b"
             ],
             [
              0.6666666666666666,
              "#ed7953"
             ],
             [
              0.7777777777777778,
              "#fb9f3a"
             ],
             [
              0.8888888888888888,
              "#fdca26"
             ],
             [
              1,
              "#f0f921"
             ]
            ],
            "type": "heatmap"
           }
          ],
          "histogram": [
           {
            "marker": {
             "pattern": {
              "fillmode": "overlay",
              "size": 10,
              "solidity": 0.2
             }
            },
            "type": "histogram"
           }
          ],
          "histogram2d": [
           {
            "colorbar": {
             "outlinewidth": 0,
             "ticks": ""
            },
            "colorscale": [
             [
              0,
              "#0d0887"
             ],
             [
              0.1111111111111111,
              "#46039f"
             ],
             [
              0.2222222222222222,
              "#7201a8"
             ],
             [
              0.3333333333333333,
              "#9c179e"
             ],
             [
              0.4444444444444444,
              "#bd3786"
             ],
             [
              0.5555555555555556,
              "#d8576b"
             ],
             [
              0.6666666666666666,
              "#ed7953"
             ],
             [
              0.7777777777777778,
              "#fb9f3a"
             ],
             [
              0.8888888888888888,
              "#fdca26"
             ],
             [
              1,
              "#f0f921"
             ]
            ],
            "type": "histogram2d"
           }
          ],
          "histogram2dcontour": [
           {
            "colorbar": {
             "outlinewidth": 0,
             "ticks": ""
            },
            "colorscale": [
             [
              0,
              "#0d0887"
             ],
             [
              0.1111111111111111,
              "#46039f"
             ],
             [
              0.2222222222222222,
              "#7201a8"
             ],
             [
              0.3333333333333333,
              "#9c179e"
             ],
             [
              0.4444444444444444,
              "#bd3786"
             ],
             [
              0.5555555555555556,
              "#d8576b"
             ],
             [
              0.6666666666666666,
              "#ed7953"
             ],
             [
              0.7777777777777778,
              "#fb9f3a"
             ],
             [
              0.8888888888888888,
              "#fdca26"
             ],
             [
              1,
              "#f0f921"
             ]
            ],
            "type": "histogram2dcontour"
           }
          ],
          "mesh3d": [
           {
            "colorbar": {
             "outlinewidth": 0,
             "ticks": ""
            },
            "type": "mesh3d"
           }
          ],
          "parcoords": [
           {
            "line": {
             "colorbar": {
              "outlinewidth": 0,
              "ticks": ""
             }
            },
            "type": "parcoords"
           }
          ],
          "pie": [
           {
            "automargin": true,
            "type": "pie"
           }
          ],
          "scatter": [
           {
            "fillpattern": {
             "fillmode": "overlay",
             "size": 10,
             "solidity": 0.2
            },
            "type": "scatter"
           }
          ],
          "scatter3d": [
           {
            "line": {
             "colorbar": {
              "outlinewidth": 0,
              "ticks": ""
             }
            },
            "marker": {
             "colorbar": {
              "outlinewidth": 0,
              "ticks": ""
             }
            },
            "type": "scatter3d"
           }
          ],
          "scattercarpet": [
           {
            "marker": {
             "colorbar": {
              "outlinewidth": 0,
              "ticks": ""
             }
            },
            "type": "scattercarpet"
           }
          ],
          "scattergeo": [
           {
            "marker": {
             "colorbar": {
              "outlinewidth": 0,
              "ticks": ""
             }
            },
            "type": "scattergeo"
           }
          ],
          "scattergl": [
           {
            "marker": {
             "colorbar": {
              "outlinewidth": 0,
              "ticks": ""
             }
            },
            "type": "scattergl"
           }
          ],
          "scattermap": [
           {
            "marker": {
             "colorbar": {
              "outlinewidth": 0,
              "ticks": ""
             }
            },
            "type": "scattermap"
           }
          ],
          "scattermapbox": [
           {
            "marker": {
             "colorbar": {
              "outlinewidth": 0,
              "ticks": ""
             }
            },
            "type": "scattermapbox"
           }
          ],
          "scatterpolar": [
           {
            "marker": {
             "colorbar": {
              "outlinewidth": 0,
              "ticks": ""
             }
            },
            "type": "scatterpolar"
           }
          ],
          "scatterpolargl": [
           {
            "marker": {
             "colorbar": {
              "outlinewidth": 0,
              "ticks": ""
             }
            },
            "type": "scatterpolargl"
           }
          ],
          "scatterternary": [
           {
            "marker": {
             "colorbar": {
              "outlinewidth": 0,
              "ticks": ""
             }
            },
            "type": "scatterternary"
           }
          ],
          "surface": [
           {
            "colorbar": {
             "outlinewidth": 0,
             "ticks": ""
            },
            "colorscale": [
             [
              0,
              "#0d0887"
             ],
             [
              0.1111111111111111,
              "#46039f"
             ],
             [
              0.2222222222222222,
              "#7201a8"
             ],
             [
              0.3333333333333333,
              "#9c179e"
             ],
             [
              0.4444444444444444,
              "#bd3786"
             ],
             [
              0.5555555555555556,
              "#d8576b"
             ],
             [
              0.6666666666666666,
              "#ed7953"
             ],
             [
              0.7777777777777778,
              "#fb9f3a"
             ],
             [
              0.8888888888888888,
              "#fdca26"
             ],
             [
              1,
              "#f0f921"
             ]
            ],
            "type": "surface"
           }
          ],
          "table": [
           {
            "cells": {
             "fill": {
              "color": "#EBF0F8"
             },
             "line": {
              "color": "white"
             }
            },
            "header": {
             "fill": {
              "color": "#C8D4E3"
             },
             "line": {
              "color": "white"
             }
            },
            "type": "table"
           }
          ]
         },
         "layout": {
          "annotationdefaults": {
           "arrowcolor": "#2a3f5f",
           "arrowhead": 0,
           "arrowwidth": 1
          },
          "autotypenumbers": "strict",
          "coloraxis": {
           "colorbar": {
            "outlinewidth": 0,
            "ticks": ""
           }
          },
          "colorscale": {
           "diverging": [
            [
             0,
             "#8e0152"
            ],
            [
             0.1,
             "#c51b7d"
            ],
            [
             0.2,
             "#de77ae"
            ],
            [
             0.3,
             "#f1b6da"
            ],
            [
             0.4,
             "#fde0ef"
            ],
            [
             0.5,
             "#f7f7f7"
            ],
            [
             0.6,
             "#e6f5d0"
            ],
            [
             0.7,
             "#b8e186"
            ],
            [
             0.8,
             "#7fbc41"
            ],
            [
             0.9,
             "#4d9221"
            ],
            [
             1,
             "#276419"
            ]
           ],
           "sequential": [
            [
             0,
             "#0d0887"
            ],
            [
             0.1111111111111111,
             "#46039f"
            ],
            [
             0.2222222222222222,
             "#7201a8"
            ],
            [
             0.3333333333333333,
             "#9c179e"
            ],
            [
             0.4444444444444444,
             "#bd3786"
            ],
            [
             0.5555555555555556,
             "#d8576b"
            ],
            [
             0.6666666666666666,
             "#ed7953"
            ],
            [
             0.7777777777777778,
             "#fb9f3a"
            ],
            [
             0.8888888888888888,
             "#fdca26"
            ],
            [
             1,
             "#f0f921"
            ]
           ],
           "sequentialminus": [
            [
             0,
             "#0d0887"
            ],
            [
             0.1111111111111111,
             "#46039f"
            ],
            [
             0.2222222222222222,
             "#7201a8"
            ],
            [
             0.3333333333333333,
             "#9c179e"
            ],
            [
             0.4444444444444444,
             "#bd3786"
            ],
            [
             0.5555555555555556,
             "#d8576b"
            ],
            [
             0.6666666666666666,
             "#ed7953"
            ],
            [
             0.7777777777777778,
             "#fb9f3a"
            ],
            [
             0.8888888888888888,
             "#fdca26"
            ],
            [
             1,
             "#f0f921"
            ]
           ]
          },
          "colorway": [
           "#636efa",
           "#EF553B",
           "#00cc96",
           "#ab63fa",
           "#FFA15A",
           "#19d3f3",
           "#FF6692",
           "#B6E880",
           "#FF97FF",
           "#FECB52"
          ],
          "font": {
           "color": "#2a3f5f"
          },
          "geo": {
           "bgcolor": "white",
           "lakecolor": "white",
           "landcolor": "white",
           "showlakes": true,
           "showland": true,
           "subunitcolor": "#C8D4E3"
          },
          "hoverlabel": {
           "align": "left"
          },
          "hovermode": "closest",
          "mapbox": {
           "style": "light"
          },
          "paper_bgcolor": "white",
          "plot_bgcolor": "white",
          "polar": {
           "angularaxis": {
            "gridcolor": "#EBF0F8",
            "linecolor": "#EBF0F8",
            "ticks": ""
           },
           "bgcolor": "white",
           "radialaxis": {
            "gridcolor": "#EBF0F8",
            "linecolor": "#EBF0F8",
            "ticks": ""
           }
          },
          "scene": {
           "xaxis": {
            "backgroundcolor": "white",
            "gridcolor": "#DFE8F3",
            "gridwidth": 2,
            "linecolor": "#EBF0F8",
            "showbackground": true,
            "ticks": "",
            "zerolinecolor": "#EBF0F8"
           },
           "yaxis": {
            "backgroundcolor": "white",
            "gridcolor": "#DFE8F3",
            "gridwidth": 2,
            "linecolor": "#EBF0F8",
            "showbackground": true,
            "ticks": "",
            "zerolinecolor": "#EBF0F8"
           },
           "zaxis": {
            "backgroundcolor": "white",
            "gridcolor": "#DFE8F3",
            "gridwidth": 2,
            "linecolor": "#EBF0F8",
            "showbackground": true,
            "ticks": "",
            "zerolinecolor": "#EBF0F8"
           }
          },
          "shapedefaults": {
           "line": {
            "color": "#2a3f5f"
           }
          },
          "ternary": {
           "aaxis": {
            "gridcolor": "#DFE8F3",
            "linecolor": "#A2B1C6",
            "ticks": ""
           },
           "baxis": {
            "gridcolor": "#DFE8F3",
            "linecolor": "#A2B1C6",
            "ticks": ""
           },
           "bgcolor": "white",
           "caxis": {
            "gridcolor": "#DFE8F3",
            "linecolor": "#A2B1C6",
            "ticks": ""
           }
          },
          "title": {
           "x": 0.05
          },
          "xaxis": {
           "automargin": true,
           "gridcolor": "#EBF0F8",
           "linecolor": "#EBF0F8",
           "ticks": "",
           "title": {
            "standoff": 15
           },
           "zerolinecolor": "#EBF0F8",
           "zerolinewidth": 2
          },
          "yaxis": {
           "automargin": true,
           "gridcolor": "#EBF0F8",
           "linecolor": "#EBF0F8",
           "ticks": "",
           "title": {
            "standoff": 15
           },
           "zerolinecolor": "#EBF0F8",
           "zerolinewidth": 2
          }
         }
        },
        "title": {
         "font": {
          "family": "Arial, sans-serif",
          "size": 18
         },
         "text": "Evolução das despesas dos senadores por mês",
         "x": 0.5
        },
        "xaxis": {
         "anchor": "y",
         "domain": [
          0,
          1
         ],
         "gridcolor": "lightgrey",
         "showgrid": true,
         "title": {
          "standoff": 10,
          "text": "Mês"
         }
        },
        "yaxis": {
         "anchor": "x",
         "domain": [
          0,
          1
         ],
         "gridcolor": "lightgrey",
         "showgrid": true,
         "title": {
          "text": "Total reembolsado (R$)"
         }
        }
       }
      }
     },
     "metadata": {},
     "output_type": "display_data"
    }
   ],
   "source": [
    "# Agrupar os dados por ANO e MES, somando os valores reembolsados\n",
    "df_mensal = df_ceaps_limpo.groupby(['ANO', 'MES'])['VALOR_REEMBOLSADO'].sum().reset_index()\n",
    "\n",
    "# Converter 'MES' para categórico com a ordem correta dos meses\n",
    "meses_ordem = ['Janeiro', 'Fevereiro', 'Março', 'Abril', 'Maio', 'Junho', 'Julho', 'Agosto', 'Setembro', 'Outubro', 'Novembro', 'Dezembro']\n",
    "df_mensal['MES'] = pd.Categorical(df_mensal['MES'], categories=meses_ordem, ordered=True)\n",
    "\n",
    "# Converter 'ANO' para categórico com a ordem correta dos anos\n",
    "anos_ordem = sorted(df_mensal['ANO'].unique())\n",
    "df_mensal['ANO'] = pd.Categorical(df_mensal['ANO'], categories=anos_ordem, ordered=True)\n",
    "\n",
    "# Ordenar o DataFrame pelas novas colunas categóricas\n",
    "df_mensal = df_mensal.sort_values(['ANO', 'MES'])\n",
    "\n",
    "fig = px.line(\n",
    "    df_mensal, \n",
    "    x='MES', \n",
    "    y='VALOR_REEMBOLSADO', \n",
    "    color='ANO', \n",
    "    title=\"Evolução das despesas dos senadores por mês\",\n",
    "    markers=True,\n",
    "    labels={'VALOR_REEMBOLSADO': 'Total Reembolsado (R$)', 'MES': 'Mês'},\n",
    "    color_discrete_sequence=px.colors.qualitative.Bold  # Paleta Dark24 para diferenciar anos\n",
    ")\n",
    "\n",
    "# Ajustar layout para manter um padrão\n",
    "fig.update_layout(\n",
    "    title=dict(text=\"Evolução das despesas dos senadores por mês\", x=0.5, font=dict(size=18, family=\"Arial, sans-serif\")),\n",
    "    xaxis=dict(title=\"Mês\", showgrid=True, gridcolor=\"lightgrey\", title_standoff=10),  # Adiciona espaço abaixo do título do eixo X\n",
    "    yaxis=dict(title=\"Total reembolsado (R$)\", showgrid=True, gridcolor=\"lightgrey\"),\n",
    "    template=\"plotly_white\",\n",
    "    font=dict(family=\"Arial, sans-serif\", size=14),\n",
    "    legend=dict(title=\"Ano\", orientation=\"h\", yanchor=\"top\", y=-0.4, xanchor=\"center\", x=0.5),  # Move a legenda mais para baixo\n",
    "    margin=dict(l=50, r=50, t=50, b=70),  # Aumenta a margem inferior para evitar sobreposição\n",
    "    plot_bgcolor=\"rgba(0,0,0,0)\",\n",
    ")\n",
    "\n",
    "# Ajustar espessura da linha e marcadores para combinar com o outro gráfico\n",
    "fig.update_traces(\n",
    "    line=dict(width=3),\n",
    "    marker=dict(size=8, symbol=\"circle\"),\n",
    "    hovertemplate=\"Mês: %{x}<br>Reembolso: R$%{y:,.2f}<br>Ano: %{legendgroup}\"\n",
    ")\n",
    "\n",
    "fig.show()"
   ]
  },
  {
   "cell_type": "markdown",
   "metadata": {},
   "source": [
    "- Sazonalidade nos gastos: Há variações anuais nos gastos, com quedas nos meses de janeiro e fevereiro (recesso parlamentar) e aumentos entre março e agosto, refletindo o retorno das atividades legislativas. O final do ano apresenta flutuações, com picos em anos eleitorais.\n",
    "- Efeito dos anos eleitorais (2018 e 2022): Gastos elevados, especialmente em outubro, sugerem aumento de despesas com divulgação e atividades relacionadas às campanhas.\n",
    "- Impacto da Pandemia (2020): Redução acentuada dos gastos em abril e maio, possivelmente devido à limitação de viagens e eventos.\n",
    "- Fatores externos e internos: Além da sazonalidade, decisões individuais dos senadores, mudanças na legislação e eventos políticos influenciam a dinâmica dos gastos.\n",
    "\n",
    "A análise demonstra que os padrões de despesas parlamentares são afetados por múltiplos fatores, exigindo uma abordagem contextual para interpretação dos dados."
   ]
  },
  {
   "cell_type": "markdown",
   "metadata": {},
   "source": [
    "### 2.4 Comparação anual de gastos\n",
    "   **Pergunta:** Houve um aumento ou diminuição nos gastos dos senadores ao longo dos anos?  \n",
    "   \n",
    "   **Hipótese:** Os gastos podem aumentar em anos eleitorais devido a uma maior necessidade de divulgação das atividades parlamentares."
   ]
  },
  {
   "cell_type": "code",
   "execution_count": 90,
   "metadata": {},
   "outputs": [
    {
     "data": {
      "application/vnd.plotly.v1+json": {
       "config": {
        "plotlyServerURL": "https://plot.ly"
       },
       "data": [
        {
         "hovertemplate": "Ano: %{x}<br>Reembolso: R$%{y:,.2f}",
         "legendgroup": "",
         "line": {
          "color": "#8B008B",
          "dash": "solid",
          "shape": "spline",
          "width": 3
         },
         "marker": {
          "color": "#636EFA",
          "size": 8,
          "symbol": "circle"
         },
         "mode": "lines+markers",
         "name": "",
         "orientation": "v",
         "showlegend": false,
         "type": "scatter",
         "x": {
          "bdata": "4gfjB+QH5QfmBw==",
          "dtype": "i2"
         },
         "xaxis": "x",
         "y": {
          "bdata": "16NwVTjoaUEpXI+ijZBpQY/C9eAcDWBB9ihcn2CkZkHhehROEP5nQQ==",
          "dtype": "f8"
         },
         "yaxis": "y"
        }
       ],
       "layout": {
        "font": {
         "family": "Arial, sans-serif",
         "size": 14
        },
        "hovermode": "x unified",
        "legend": {
         "tracegroupgap": 0
        },
        "margin": {
         "b": 50,
         "l": 50,
         "r": 50,
         "t": 50
        },
        "plot_bgcolor": "rgba(0,0,0,0)",
        "template": {
         "data": {
          "bar": [
           {
            "error_x": {
             "color": "#2a3f5f"
            },
            "error_y": {
             "color": "#2a3f5f"
            },
            "marker": {
             "line": {
              "color": "white",
              "width": 0.5
             },
             "pattern": {
              "fillmode": "overlay",
              "size": 10,
              "solidity": 0.2
             }
            },
            "type": "bar"
           }
          ],
          "barpolar": [
           {
            "marker": {
             "line": {
              "color": "white",
              "width": 0.5
             },
             "pattern": {
              "fillmode": "overlay",
              "size": 10,
              "solidity": 0.2
             }
            },
            "type": "barpolar"
           }
          ],
          "carpet": [
           {
            "aaxis": {
             "endlinecolor": "#2a3f5f",
             "gridcolor": "#C8D4E3",
             "linecolor": "#C8D4E3",
             "minorgridcolor": "#C8D4E3",
             "startlinecolor": "#2a3f5f"
            },
            "baxis": {
             "endlinecolor": "#2a3f5f",
             "gridcolor": "#C8D4E3",
             "linecolor": "#C8D4E3",
             "minorgridcolor": "#C8D4E3",
             "startlinecolor": "#2a3f5f"
            },
            "type": "carpet"
           }
          ],
          "choropleth": [
           {
            "colorbar": {
             "outlinewidth": 0,
             "ticks": ""
            },
            "type": "choropleth"
           }
          ],
          "contour": [
           {
            "colorbar": {
             "outlinewidth": 0,
             "ticks": ""
            },
            "colorscale": [
             [
              0,
              "#0d0887"
             ],
             [
              0.1111111111111111,
              "#46039f"
             ],
             [
              0.2222222222222222,
              "#7201a8"
             ],
             [
              0.3333333333333333,
              "#9c179e"
             ],
             [
              0.4444444444444444,
              "#bd3786"
             ],
             [
              0.5555555555555556,
              "#d8576b"
             ],
             [
              0.6666666666666666,
              "#ed7953"
             ],
             [
              0.7777777777777778,
              "#fb9f3a"
             ],
             [
              0.8888888888888888,
              "#fdca26"
             ],
             [
              1,
              "#f0f921"
             ]
            ],
            "type": "contour"
           }
          ],
          "contourcarpet": [
           {
            "colorbar": {
             "outlinewidth": 0,
             "ticks": ""
            },
            "type": "contourcarpet"
           }
          ],
          "heatmap": [
           {
            "colorbar": {
             "outlinewidth": 0,
             "ticks": ""
            },
            "colorscale": [
             [
              0,
              "#0d0887"
             ],
             [
              0.1111111111111111,
              "#46039f"
             ],
             [
              0.2222222222222222,
              "#7201a8"
             ],
             [
              0.3333333333333333,
              "#9c179e"
             ],
             [
              0.4444444444444444,
              "#bd3786"
             ],
             [
              0.5555555555555556,
              "#d8576b"
             ],
             [
              0.6666666666666666,
              "#ed7953"
             ],
             [
              0.7777777777777778,
              "#fb9f3a"
             ],
             [
              0.8888888888888888,
              "#fdca26"
             ],
             [
              1,
              "#f0f921"
             ]
            ],
            "type": "heatmap"
           }
          ],
          "histogram": [
           {
            "marker": {
             "pattern": {
              "fillmode": "overlay",
              "size": 10,
              "solidity": 0.2
             }
            },
            "type": "histogram"
           }
          ],
          "histogram2d": [
           {
            "colorbar": {
             "outlinewidth": 0,
             "ticks": ""
            },
            "colorscale": [
             [
              0,
              "#0d0887"
             ],
             [
              0.1111111111111111,
              "#46039f"
             ],
             [
              0.2222222222222222,
              "#7201a8"
             ],
             [
              0.3333333333333333,
              "#9c179e"
             ],
             [
              0.4444444444444444,
              "#bd3786"
             ],
             [
              0.5555555555555556,
              "#d8576b"
             ],
             [
              0.6666666666666666,
              "#ed7953"
             ],
             [
              0.7777777777777778,
              "#fb9f3a"
             ],
             [
              0.8888888888888888,
              "#fdca26"
             ],
             [
              1,
              "#f0f921"
             ]
            ],
            "type": "histogram2d"
           }
          ],
          "histogram2dcontour": [
           {
            "colorbar": {
             "outlinewidth": 0,
             "ticks": ""
            },
            "colorscale": [
             [
              0,
              "#0d0887"
             ],
             [
              0.1111111111111111,
              "#46039f"
             ],
             [
              0.2222222222222222,
              "#7201a8"
             ],
             [
              0.3333333333333333,
              "#9c179e"
             ],
             [
              0.4444444444444444,
              "#bd3786"
             ],
             [
              0.5555555555555556,
              "#d8576b"
             ],
             [
              0.6666666666666666,
              "#ed7953"
             ],
             [
              0.7777777777777778,
              "#fb9f3a"
             ],
             [
              0.8888888888888888,
              "#fdca26"
             ],
             [
              1,
              "#f0f921"
             ]
            ],
            "type": "histogram2dcontour"
           }
          ],
          "mesh3d": [
           {
            "colorbar": {
             "outlinewidth": 0,
             "ticks": ""
            },
            "type": "mesh3d"
           }
          ],
          "parcoords": [
           {
            "line": {
             "colorbar": {
              "outlinewidth": 0,
              "ticks": ""
             }
            },
            "type": "parcoords"
           }
          ],
          "pie": [
           {
            "automargin": true,
            "type": "pie"
           }
          ],
          "scatter": [
           {
            "fillpattern": {
             "fillmode": "overlay",
             "size": 10,
             "solidity": 0.2
            },
            "type": "scatter"
           }
          ],
          "scatter3d": [
           {
            "line": {
             "colorbar": {
              "outlinewidth": 0,
              "ticks": ""
             }
            },
            "marker": {
             "colorbar": {
              "outlinewidth": 0,
              "ticks": ""
             }
            },
            "type": "scatter3d"
           }
          ],
          "scattercarpet": [
           {
            "marker": {
             "colorbar": {
              "outlinewidth": 0,
              "ticks": ""
             }
            },
            "type": "scattercarpet"
           }
          ],
          "scattergeo": [
           {
            "marker": {
             "colorbar": {
              "outlinewidth": 0,
              "ticks": ""
             }
            },
            "type": "scattergeo"
           }
          ],
          "scattergl": [
           {
            "marker": {
             "colorbar": {
              "outlinewidth": 0,
              "ticks": ""
             }
            },
            "type": "scattergl"
           }
          ],
          "scattermap": [
           {
            "marker": {
             "colorbar": {
              "outlinewidth": 0,
              "ticks": ""
             }
            },
            "type": "scattermap"
           }
          ],
          "scattermapbox": [
           {
            "marker": {
             "colorbar": {
              "outlinewidth": 0,
              "ticks": ""
             }
            },
            "type": "scattermapbox"
           }
          ],
          "scatterpolar": [
           {
            "marker": {
             "colorbar": {
              "outlinewidth": 0,
              "ticks": ""
             }
            },
            "type": "scatterpolar"
           }
          ],
          "scatterpolargl": [
           {
            "marker": {
             "colorbar": {
              "outlinewidth": 0,
              "ticks": ""
             }
            },
            "type": "scatterpolargl"
           }
          ],
          "scatterternary": [
           {
            "marker": {
             "colorbar": {
              "outlinewidth": 0,
              "ticks": ""
             }
            },
            "type": "scatterternary"
           }
          ],
          "surface": [
           {
            "colorbar": {
             "outlinewidth": 0,
             "ticks": ""
            },
            "colorscale": [
             [
              0,
              "#0d0887"
             ],
             [
              0.1111111111111111,
              "#46039f"
             ],
             [
              0.2222222222222222,
              "#7201a8"
             ],
             [
              0.3333333333333333,
              "#9c179e"
             ],
             [
              0.4444444444444444,
              "#bd3786"
             ],
             [
              0.5555555555555556,
              "#d8576b"
             ],
             [
              0.6666666666666666,
              "#ed7953"
             ],
             [
              0.7777777777777778,
              "#fb9f3a"
             ],
             [
              0.8888888888888888,
              "#fdca26"
             ],
             [
              1,
              "#f0f921"
             ]
            ],
            "type": "surface"
           }
          ],
          "table": [
           {
            "cells": {
             "fill": {
              "color": "#EBF0F8"
             },
             "line": {
              "color": "white"
             }
            },
            "header": {
             "fill": {
              "color": "#C8D4E3"
             },
             "line": {
              "color": "white"
             }
            },
            "type": "table"
           }
          ]
         },
         "layout": {
          "annotationdefaults": {
           "arrowcolor": "#2a3f5f",
           "arrowhead": 0,
           "arrowwidth": 1
          },
          "autotypenumbers": "strict",
          "coloraxis": {
           "colorbar": {
            "outlinewidth": 0,
            "ticks": ""
           }
          },
          "colorscale": {
           "diverging": [
            [
             0,
             "#8e0152"
            ],
            [
             0.1,
             "#c51b7d"
            ],
            [
             0.2,
             "#de77ae"
            ],
            [
             0.3,
             "#f1b6da"
            ],
            [
             0.4,
             "#fde0ef"
            ],
            [
             0.5,
             "#f7f7f7"
            ],
            [
             0.6,
             "#e6f5d0"
            ],
            [
             0.7,
             "#b8e186"
            ],
            [
             0.8,
             "#7fbc41"
            ],
            [
             0.9,
             "#4d9221"
            ],
            [
             1,
             "#276419"
            ]
           ],
           "sequential": [
            [
             0,
             "#0d0887"
            ],
            [
             0.1111111111111111,
             "#46039f"
            ],
            [
             0.2222222222222222,
             "#7201a8"
            ],
            [
             0.3333333333333333,
             "#9c179e"
            ],
            [
             0.4444444444444444,
             "#bd3786"
            ],
            [
             0.5555555555555556,
             "#d8576b"
            ],
            [
             0.6666666666666666,
             "#ed7953"
            ],
            [
             0.7777777777777778,
             "#fb9f3a"
            ],
            [
             0.8888888888888888,
             "#fdca26"
            ],
            [
             1,
             "#f0f921"
            ]
           ],
           "sequentialminus": [
            [
             0,
             "#0d0887"
            ],
            [
             0.1111111111111111,
             "#46039f"
            ],
            [
             0.2222222222222222,
             "#7201a8"
            ],
            [
             0.3333333333333333,
             "#9c179e"
            ],
            [
             0.4444444444444444,
             "#bd3786"
            ],
            [
             0.5555555555555556,
             "#d8576b"
            ],
            [
             0.6666666666666666,
             "#ed7953"
            ],
            [
             0.7777777777777778,
             "#fb9f3a"
            ],
            [
             0.8888888888888888,
             "#fdca26"
            ],
            [
             1,
             "#f0f921"
            ]
           ]
          },
          "colorway": [
           "#636efa",
           "#EF553B",
           "#00cc96",
           "#ab63fa",
           "#FFA15A",
           "#19d3f3",
           "#FF6692",
           "#B6E880",
           "#FF97FF",
           "#FECB52"
          ],
          "font": {
           "color": "#2a3f5f"
          },
          "geo": {
           "bgcolor": "white",
           "lakecolor": "white",
           "landcolor": "white",
           "showlakes": true,
           "showland": true,
           "subunitcolor": "#C8D4E3"
          },
          "hoverlabel": {
           "align": "left"
          },
          "hovermode": "closest",
          "mapbox": {
           "style": "light"
          },
          "paper_bgcolor": "white",
          "plot_bgcolor": "white",
          "polar": {
           "angularaxis": {
            "gridcolor": "#EBF0F8",
            "linecolor": "#EBF0F8",
            "ticks": ""
           },
           "bgcolor": "white",
           "radialaxis": {
            "gridcolor": "#EBF0F8",
            "linecolor": "#EBF0F8",
            "ticks": ""
           }
          },
          "scene": {
           "xaxis": {
            "backgroundcolor": "white",
            "gridcolor": "#DFE8F3",
            "gridwidth": 2,
            "linecolor": "#EBF0F8",
            "showbackground": true,
            "ticks": "",
            "zerolinecolor": "#EBF0F8"
           },
           "yaxis": {
            "backgroundcolor": "white",
            "gridcolor": "#DFE8F3",
            "gridwidth": 2,
            "linecolor": "#EBF0F8",
            "showbackground": true,
            "ticks": "",
            "zerolinecolor": "#EBF0F8"
           },
           "zaxis": {
            "backgroundcolor": "white",
            "gridcolor": "#DFE8F3",
            "gridwidth": 2,
            "linecolor": "#EBF0F8",
            "showbackground": true,
            "ticks": "",
            "zerolinecolor": "#EBF0F8"
           }
          },
          "shapedefaults": {
           "line": {
            "color": "#2a3f5f"
           }
          },
          "ternary": {
           "aaxis": {
            "gridcolor": "#DFE8F3",
            "linecolor": "#A2B1C6",
            "ticks": ""
           },
           "baxis": {
            "gridcolor": "#DFE8F3",
            "linecolor": "#A2B1C6",
            "ticks": ""
           },
           "bgcolor": "white",
           "caxis": {
            "gridcolor": "#DFE8F3",
            "linecolor": "#A2B1C6",
            "ticks": ""
           }
          },
          "title": {
           "x": 0.05
          },
          "xaxis": {
           "automargin": true,
           "gridcolor": "#EBF0F8",
           "linecolor": "#EBF0F8",
           "ticks": "",
           "title": {
            "standoff": 15
           },
           "zerolinecolor": "#EBF0F8",
           "zerolinewidth": 2
          },
          "yaxis": {
           "automargin": true,
           "gridcolor": "#EBF0F8",
           "linecolor": "#EBF0F8",
           "ticks": "",
           "title": {
            "standoff": 15
           },
           "zerolinecolor": "#EBF0F8",
           "zerolinewidth": 2
          }
         }
        },
        "title": {
         "font": {
          "family": "Arial, sans-serif",
          "size": 18
         },
         "text": "Evolução dos gastos dos senadores por ano",
         "x": 0.5
        },
        "xaxis": {
         "anchor": "y",
         "domain": [
          0,
          1
         ],
         "gridcolor": "lightgrey",
         "showgrid": true,
         "title": {
          "text": "Ano"
         }
        },
        "yaxis": {
         "anchor": "x",
         "domain": [
          0,
          1
         ],
         "gridcolor": "lightgrey",
         "showgrid": true,
         "title": {
          "text": "Total reembolsado (R$)"
         }
        }
       }
      }
     },
     "metadata": {},
     "output_type": "display_data"
    }
   ],
   "source": [
    "# Agrupar os gastos por ano e somar os valores reembolsados\n",
    "df_anos = df_ceaps_limpo.groupby(\"ANO\")[\"VALOR_REEMBOLSADO\"].sum().reset_index()\n",
    "\n",
    "# Ordenar os anos para garantir a sequência correta no gráfico\n",
    "df_anos = df_anos.sort_values(\"ANO\")\n",
    "\n",
    "fig = px.line(df_anos, x=\"ANO\", y=\"VALOR_REEMBOLSADO\", markers=True, \n",
    "              title=\"Evolução dos Gastos dos Senadores por Ano\",\n",
    "              line_shape=\"spline\",\n",
    "              color_discrete_sequence=[\"#8B008B\"]\n",
    ")\n",
    "\n",
    "# Melhorar o layout do gráfico\n",
    "fig.update_layout(\n",
    "    title=dict(text=\"Evolução dos gastos dos senadores por ano\", x=0.5, font=dict(size=18, family=\"Arial, sans-serif\")),\n",
    "    xaxis_title=\"Ano\",\n",
    "    yaxis_title=\"Total reembolsado (R$)\",\n",
    "    template=\"plotly_white\",\n",
    "    font=dict(family=\"Arial, sans-serif\", size=14),\n",
    "    margin=dict(l=50, r=50, t=50, b=50),\n",
    "    hovermode=\"x unified\",\n",
    "    plot_bgcolor=\"rgba(0,0,0,0)\",\n",
    "    xaxis=dict(showgrid=True, gridcolor=\"lightgrey\"),\n",
    "    yaxis=dict(showgrid=True, gridcolor=\"lightgrey\"),\n",
    ")\n",
    "\n",
    "# Adicionar rótulos e estilizar linha e marcadores\n",
    "fig.update_traces(\n",
    "    line=dict(width=3),\n",
    "    marker=dict(size=8, symbol=\"circle\", color=\"#636EFA\"),  \n",
    "    hovertemplate=\"Ano: %{x}<br>Reembolso: R$%{y:,.2f}\"\n",
    ")\n",
    "\n",
    "fig.show()\n"
   ]
  },
  {
   "cell_type": "code",
   "execution_count": 91,
   "metadata": {},
   "outputs": [
    {
     "name": "stdout",
     "output_type": "stream",
     "text": [
      "    ANO  VALOR_REEMBOLSADO  VARIACAO_%\n",
      "0  2018        13582786.67         NaN\n",
      "1  2019        13403245.08   -1.321832\n",
      "2  2020         8415463.03  -37.213242\n",
      "3  2021        11870980.98   41.061531\n",
      "4  2022        12578946.44    5.963833\n"
     ]
    }
   ],
   "source": [
    "# Calcula a variação percentual ano a ano no valor reembolsado\n",
    "df_anos[\"VARIACAO_%\"] = df_anos[\"VALOR_REEMBOLSADO\"].pct_change() * 100\n",
    "print(df_anos)"
   ]
  },
  {
   "cell_type": "markdown",
   "metadata": {},
   "source": [
    "Os dados mostram uma variação significativa nos gastos reembolsados ao longo dos anos. Em 2020, houve uma queda expressiva de 37,21%, possivelmente devido às restrições da pandemia, que reduziram deslocamentos e eventos presenciais. No ano seguinte, 2021, os gastos voltaram a crescer 41,06%, sugerindo uma retomada das atividades parlamentares. Em 2022, ano eleitoral, houve um aumento mais moderado de 5,96%, o que pode indicar um impacto menor da eleição nos gastos em comparação com outros fatores."
   ]
  },
  {
   "cell_type": "markdown",
   "metadata": {},
   "source": [
    "### 2.5 Fornecedores com mais transações\n",
    "   **Pergunta:** Quais fornecedores foram mais contratados pelos senadores para reembolsar despesas?  \n",
    "   \n",
    "   **Hipótese:** Alguns fornecedores podem ser contratados com mais frequência, o que pode indicar padrões de compras recorrentes."
   ]
  },
  {
   "cell_type": "code",
   "execution_count": 92,
   "metadata": {},
   "outputs": [
    {
     "data": {
      "application/vnd.plotly.v1+json": {
       "config": {
        "plotlyServerURL": "https://plot.ly"
       },
       "data": [
        {
         "branchvalues": "total",
         "customdata": {
          "bdata": "AAAAAAACuUAAAAAAABCjQAAAAAAAuJNAAAAAAADwi0AAAAAAABCLQA==",
          "dtype": "f8",
          "shape": "5, 1"
         },
         "domain": {
          "x": [
           0,
           1
          ],
          "y": [
           0,
           1
          ]
         },
         "hovertemplate": "labels=%{label}<br>Frequência_sum=%{value}<br>parent=%{parent}<br>id=%{id}<br>Frequência=%{color}<extra></extra>",
         "ids": [
          "adria viagens e turismo",
          "latam",
          "gol",
          "telefonica brasil",
          "claro"
         ],
         "labels": [
          "adria viagens e turismo",
          "latam",
          "gol",
          "telefonica brasil",
          "claro"
         ],
         "marker": {
          "coloraxis": "coloraxis",
          "colors": {
           "bdata": "AAAAAAACuUAAAAAAABCjQAAAAAAAuJNAAAAAAADwi0AAAAAAABCLQA==",
           "dtype": "f8"
          }
         },
         "name": "",
         "parents": [
          "",
          "",
          "",
          "",
          ""
         ],
         "type": "treemap",
         "values": {
          "bdata": "AAAAAAACuUAAAAAAABCjQAAAAAAAuJNAAAAAAADwi0AAAAAAABCLQA==",
          "dtype": "f8"
         }
        }
       ],
       "layout": {
        "coloraxis": {
         "colorbar": {
          "title": {
           "text": "Frequência"
          }
         },
         "colorscale": [
          [
           0,
           "rgb(230, 240, 240)"
          ],
          [
           0.09090909090909091,
           "rgb(191, 221, 229)"
          ],
          [
           0.18181818181818182,
           "rgb(156, 201, 226)"
          ],
          [
           0.2727272727272727,
           "rgb(129, 180, 227)"
          ],
          [
           0.36363636363636365,
           "rgb(115, 154, 228)"
          ],
          [
           0.45454545454545453,
           "rgb(117, 127, 221)"
          ],
          [
           0.5454545454545454,
           "rgb(120, 100, 202)"
          ],
          [
           0.6363636363636364,
           "rgb(119, 74, 175)"
          ],
          [
           0.7272727272727273,
           "rgb(113, 50, 141)"
          ],
          [
           0.8181818181818182,
           "rgb(100, 31, 104)"
          ],
          [
           0.9090909090909091,
           "rgb(80, 20, 66)"
          ],
          [
           1,
           "rgb(54, 14, 36)"
          ]
         ]
        },
        "font": {
         "family": "Arial, sans-serif",
         "size": 14
        },
        "legend": {
         "tracegroupgap": 0
        },
        "margin": {
         "b": 20,
         "l": 20,
         "r": 20,
         "t": 50
        },
        "template": {
         "data": {
          "bar": [
           {
            "error_x": {
             "color": "#2a3f5f"
            },
            "error_y": {
             "color": "#2a3f5f"
            },
            "marker": {
             "line": {
              "color": "white",
              "width": 0.5
             },
             "pattern": {
              "fillmode": "overlay",
              "size": 10,
              "solidity": 0.2
             }
            },
            "type": "bar"
           }
          ],
          "barpolar": [
           {
            "marker": {
             "line": {
              "color": "white",
              "width": 0.5
             },
             "pattern": {
              "fillmode": "overlay",
              "size": 10,
              "solidity": 0.2
             }
            },
            "type": "barpolar"
           }
          ],
          "carpet": [
           {
            "aaxis": {
             "endlinecolor": "#2a3f5f",
             "gridcolor": "#C8D4E3",
             "linecolor": "#C8D4E3",
             "minorgridcolor": "#C8D4E3",
             "startlinecolor": "#2a3f5f"
            },
            "baxis": {
             "endlinecolor": "#2a3f5f",
             "gridcolor": "#C8D4E3",
             "linecolor": "#C8D4E3",
             "minorgridcolor": "#C8D4E3",
             "startlinecolor": "#2a3f5f"
            },
            "type": "carpet"
           }
          ],
          "choropleth": [
           {
            "colorbar": {
             "outlinewidth": 0,
             "ticks": ""
            },
            "type": "choropleth"
           }
          ],
          "contour": [
           {
            "colorbar": {
             "outlinewidth": 0,
             "ticks": ""
            },
            "colorscale": [
             [
              0,
              "#0d0887"
             ],
             [
              0.1111111111111111,
              "#46039f"
             ],
             [
              0.2222222222222222,
              "#7201a8"
             ],
             [
              0.3333333333333333,
              "#9c179e"
             ],
             [
              0.4444444444444444,
              "#bd3786"
             ],
             [
              0.5555555555555556,
              "#d8576b"
             ],
             [
              0.6666666666666666,
              "#ed7953"
             ],
             [
              0.7777777777777778,
              "#fb9f3a"
             ],
             [
              0.8888888888888888,
              "#fdca26"
             ],
             [
              1,
              "#f0f921"
             ]
            ],
            "type": "contour"
           }
          ],
          "contourcarpet": [
           {
            "colorbar": {
             "outlinewidth": 0,
             "ticks": ""
            },
            "type": "contourcarpet"
           }
          ],
          "heatmap": [
           {
            "colorbar": {
             "outlinewidth": 0,
             "ticks": ""
            },
            "colorscale": [
             [
              0,
              "#0d0887"
             ],
             [
              0.1111111111111111,
              "#46039f"
             ],
             [
              0.2222222222222222,
              "#7201a8"
             ],
             [
              0.3333333333333333,
              "#9c179e"
             ],
             [
              0.4444444444444444,
              "#bd3786"
             ],
             [
              0.5555555555555556,
              "#d8576b"
             ],
             [
              0.6666666666666666,
              "#ed7953"
             ],
             [
              0.7777777777777778,
              "#fb9f3a"
             ],
             [
              0.8888888888888888,
              "#fdca26"
             ],
             [
              1,
              "#f0f921"
             ]
            ],
            "type": "heatmap"
           }
          ],
          "histogram": [
           {
            "marker": {
             "pattern": {
              "fillmode": "overlay",
              "size": 10,
              "solidity": 0.2
             }
            },
            "type": "histogram"
           }
          ],
          "histogram2d": [
           {
            "colorbar": {
             "outlinewidth": 0,
             "ticks": ""
            },
            "colorscale": [
             [
              0,
              "#0d0887"
             ],
             [
              0.1111111111111111,
              "#46039f"
             ],
             [
              0.2222222222222222,
              "#7201a8"
             ],
             [
              0.3333333333333333,
              "#9c179e"
             ],
             [
              0.4444444444444444,
              "#bd3786"
             ],
             [
              0.5555555555555556,
              "#d8576b"
             ],
             [
              0.6666666666666666,
              "#ed7953"
             ],
             [
              0.7777777777777778,
              "#fb9f3a"
             ],
             [
              0.8888888888888888,
              "#fdca26"
             ],
             [
              1,
              "#f0f921"
             ]
            ],
            "type": "histogram2d"
           }
          ],
          "histogram2dcontour": [
           {
            "colorbar": {
             "outlinewidth": 0,
             "ticks": ""
            },
            "colorscale": [
             [
              0,
              "#0d0887"
             ],
             [
              0.1111111111111111,
              "#46039f"
             ],
             [
              0.2222222222222222,
              "#7201a8"
             ],
             [
              0.3333333333333333,
              "#9c179e"
             ],
             [
              0.4444444444444444,
              "#bd3786"
             ],
             [
              0.5555555555555556,
              "#d8576b"
             ],
             [
              0.6666666666666666,
              "#ed7953"
             ],
             [
              0.7777777777777778,
              "#fb9f3a"
             ],
             [
              0.8888888888888888,
              "#fdca26"
             ],
             [
              1,
              "#f0f921"
             ]
            ],
            "type": "histogram2dcontour"
           }
          ],
          "mesh3d": [
           {
            "colorbar": {
             "outlinewidth": 0,
             "ticks": ""
            },
            "type": "mesh3d"
           }
          ],
          "parcoords": [
           {
            "line": {
             "colorbar": {
              "outlinewidth": 0,
              "ticks": ""
             }
            },
            "type": "parcoords"
           }
          ],
          "pie": [
           {
            "automargin": true,
            "type": "pie"
           }
          ],
          "scatter": [
           {
            "fillpattern": {
             "fillmode": "overlay",
             "size": 10,
             "solidity": 0.2
            },
            "type": "scatter"
           }
          ],
          "scatter3d": [
           {
            "line": {
             "colorbar": {
              "outlinewidth": 0,
              "ticks": ""
             }
            },
            "marker": {
             "colorbar": {
              "outlinewidth": 0,
              "ticks": ""
             }
            },
            "type": "scatter3d"
           }
          ],
          "scattercarpet": [
           {
            "marker": {
             "colorbar": {
              "outlinewidth": 0,
              "ticks": ""
             }
            },
            "type": "scattercarpet"
           }
          ],
          "scattergeo": [
           {
            "marker": {
             "colorbar": {
              "outlinewidth": 0,
              "ticks": ""
             }
            },
            "type": "scattergeo"
           }
          ],
          "scattergl": [
           {
            "marker": {
             "colorbar": {
              "outlinewidth": 0,
              "ticks": ""
             }
            },
            "type": "scattergl"
           }
          ],
          "scattermap": [
           {
            "marker": {
             "colorbar": {
              "outlinewidth": 0,
              "ticks": ""
             }
            },
            "type": "scattermap"
           }
          ],
          "scattermapbox": [
           {
            "marker": {
             "colorbar": {
              "outlinewidth": 0,
              "ticks": ""
             }
            },
            "type": "scattermapbox"
           }
          ],
          "scatterpolar": [
           {
            "marker": {
             "colorbar": {
              "outlinewidth": 0,
              "ticks": ""
             }
            },
            "type": "scatterpolar"
           }
          ],
          "scatterpolargl": [
           {
            "marker": {
             "colorbar": {
              "outlinewidth": 0,
              "ticks": ""
             }
            },
            "type": "scatterpolargl"
           }
          ],
          "scatterternary": [
           {
            "marker": {
             "colorbar": {
              "outlinewidth": 0,
              "ticks": ""
             }
            },
            "type": "scatterternary"
           }
          ],
          "surface": [
           {
            "colorbar": {
             "outlinewidth": 0,
             "ticks": ""
            },
            "colorscale": [
             [
              0,
              "#0d0887"
             ],
             [
              0.1111111111111111,
              "#46039f"
             ],
             [
              0.2222222222222222,
              "#7201a8"
             ],
             [
              0.3333333333333333,
              "#9c179e"
             ],
             [
              0.4444444444444444,
              "#bd3786"
             ],
             [
              0.5555555555555556,
              "#d8576b"
             ],
             [
              0.6666666666666666,
              "#ed7953"
             ],
             [
              0.7777777777777778,
              "#fb9f3a"
             ],
             [
              0.8888888888888888,
              "#fdca26"
             ],
             [
              1,
              "#f0f921"
             ]
            ],
            "type": "surface"
           }
          ],
          "table": [
           {
            "cells": {
             "fill": {
              "color": "#EBF0F8"
             },
             "line": {
              "color": "white"
             }
            },
            "header": {
             "fill": {
              "color": "#C8D4E3"
             },
             "line": {
              "color": "white"
             }
            },
            "type": "table"
           }
          ]
         },
         "layout": {
          "annotationdefaults": {
           "arrowcolor": "#2a3f5f",
           "arrowhead": 0,
           "arrowwidth": 1
          },
          "autotypenumbers": "strict",
          "coloraxis": {
           "colorbar": {
            "outlinewidth": 0,
            "ticks": ""
           }
          },
          "colorscale": {
           "diverging": [
            [
             0,
             "#8e0152"
            ],
            [
             0.1,
             "#c51b7d"
            ],
            [
             0.2,
             "#de77ae"
            ],
            [
             0.3,
             "#f1b6da"
            ],
            [
             0.4,
             "#fde0ef"
            ],
            [
             0.5,
             "#f7f7f7"
            ],
            [
             0.6,
             "#e6f5d0"
            ],
            [
             0.7,
             "#b8e186"
            ],
            [
             0.8,
             "#7fbc41"
            ],
            [
             0.9,
             "#4d9221"
            ],
            [
             1,
             "#276419"
            ]
           ],
           "sequential": [
            [
             0,
             "#0d0887"
            ],
            [
             0.1111111111111111,
             "#46039f"
            ],
            [
             0.2222222222222222,
             "#7201a8"
            ],
            [
             0.3333333333333333,
             "#9c179e"
            ],
            [
             0.4444444444444444,
             "#bd3786"
            ],
            [
             0.5555555555555556,
             "#d8576b"
            ],
            [
             0.6666666666666666,
             "#ed7953"
            ],
            [
             0.7777777777777778,
             "#fb9f3a"
            ],
            [
             0.8888888888888888,
             "#fdca26"
            ],
            [
             1,
             "#f0f921"
            ]
           ],
           "sequentialminus": [
            [
             0,
             "#0d0887"
            ],
            [
             0.1111111111111111,
             "#46039f"
            ],
            [
             0.2222222222222222,
             "#7201a8"
            ],
            [
             0.3333333333333333,
             "#9c179e"
            ],
            [
             0.4444444444444444,
             "#bd3786"
            ],
            [
             0.5555555555555556,
             "#d8576b"
            ],
            [
             0.6666666666666666,
             "#ed7953"
            ],
            [
             0.7777777777777778,
             "#fb9f3a"
            ],
            [
             0.8888888888888888,
             "#fdca26"
            ],
            [
             1,
             "#f0f921"
            ]
           ]
          },
          "colorway": [
           "#636efa",
           "#EF553B",
           "#00cc96",
           "#ab63fa",
           "#FFA15A",
           "#19d3f3",
           "#FF6692",
           "#B6E880",
           "#FF97FF",
           "#FECB52"
          ],
          "font": {
           "color": "#2a3f5f"
          },
          "geo": {
           "bgcolor": "white",
           "lakecolor": "white",
           "landcolor": "white",
           "showlakes": true,
           "showland": true,
           "subunitcolor": "#C8D4E3"
          },
          "hoverlabel": {
           "align": "left"
          },
          "hovermode": "closest",
          "mapbox": {
           "style": "light"
          },
          "paper_bgcolor": "white",
          "plot_bgcolor": "white",
          "polar": {
           "angularaxis": {
            "gridcolor": "#EBF0F8",
            "linecolor": "#EBF0F8",
            "ticks": ""
           },
           "bgcolor": "white",
           "radialaxis": {
            "gridcolor": "#EBF0F8",
            "linecolor": "#EBF0F8",
            "ticks": ""
           }
          },
          "scene": {
           "xaxis": {
            "backgroundcolor": "white",
            "gridcolor": "#DFE8F3",
            "gridwidth": 2,
            "linecolor": "#EBF0F8",
            "showbackground": true,
            "ticks": "",
            "zerolinecolor": "#EBF0F8"
           },
           "yaxis": {
            "backgroundcolor": "white",
            "gridcolor": "#DFE8F3",
            "gridwidth": 2,
            "linecolor": "#EBF0F8",
            "showbackground": true,
            "ticks": "",
            "zerolinecolor": "#EBF0F8"
           },
           "zaxis": {
            "backgroundcolor": "white",
            "gridcolor": "#DFE8F3",
            "gridwidth": 2,
            "linecolor": "#EBF0F8",
            "showbackground": true,
            "ticks": "",
            "zerolinecolor": "#EBF0F8"
           }
          },
          "shapedefaults": {
           "line": {
            "color": "#2a3f5f"
           }
          },
          "ternary": {
           "aaxis": {
            "gridcolor": "#DFE8F3",
            "linecolor": "#A2B1C6",
            "ticks": ""
           },
           "baxis": {
            "gridcolor": "#DFE8F3",
            "linecolor": "#A2B1C6",
            "ticks": ""
           },
           "bgcolor": "white",
           "caxis": {
            "gridcolor": "#DFE8F3",
            "linecolor": "#A2B1C6",
            "ticks": ""
           }
          },
          "title": {
           "x": 0.05
          },
          "xaxis": {
           "automargin": true,
           "gridcolor": "#EBF0F8",
           "linecolor": "#EBF0F8",
           "ticks": "",
           "title": {
            "standoff": 15
           },
           "zerolinecolor": "#EBF0F8",
           "zerolinewidth": 2
          },
          "yaxis": {
           "automargin": true,
           "gridcolor": "#EBF0F8",
           "linecolor": "#EBF0F8",
           "ticks": "",
           "title": {
            "standoff": 15
           },
           "zerolinecolor": "#EBF0F8",
           "zerolinewidth": 2
          }
         }
        },
        "title": {
         "font": {
          "family": "Arial, sans-serif",
          "size": 18
         },
         "text": "Top 5 fornecedores mais frequentes",
         "x": 0.5
        }
       }
      }
     },
     "metadata": {},
     "output_type": "display_data"
    }
   ],
   "source": [
    "# Contar a frequência de cada fornecedor\n",
    "df_fornecedores = df_ceaps_limpo[\"FORNECEDOR\"].value_counts().reset_index()\n",
    "df_fornecedores.columns = [\"FORNECEDOR\", \"Frequência\"]\n",
    "\n",
    "# Identificar os fornecedores mais contratados\n",
    "top_fornecedores = df_fornecedores.head(5)\n",
    "\n",
    "# Criar gráfico de Treemap com melhorias visuais\n",
    "fig = px.treemap(\n",
    "    top_fornecedores,\n",
    "    path=[\"FORNECEDOR\"],  # Apenas um nível de hierarquia\n",
    "    values=\"Frequência\",\n",
    "    title=\"Top 5 Fornecedores Mais Frequentes\",\n",
    "    color=\"Frequência\",\n",
    "    color_continuous_scale=px.colors.sequential.dense,  # Paleta sequencial mais harmônica\n",
    ")\n",
    "\n",
    "# Ajustar layout para manter o padrão visual\n",
    "fig.update_layout(\n",
    "    template=\"plotly_white\",\n",
    "    title=dict(text=\"Top 5 fornecedores mais frequentes\", x=0.5, font=dict(size=18, family=\"Arial, sans-serif\")),\n",
    "    font=dict(family=\"Arial, sans-serif\", size=14),\n",
    "    margin=dict(l=20, r=20, t=50, b=20),\n",
    "    coloraxis_colorbar=dict(title=\"Frequência\"),\n",
    ")\n",
    "\n",
    "fig.show()"
   ]
  },
  {
   "cell_type": "markdown",
   "metadata": {},
   "source": [
    "A análise dos fornecedores mais frequentes mostra que a Adria Viagens e Turismo é a empresa mais contratada pelos senadores (6.402 reembolsos), seguida por companhias aéreas como LATAM (2.440) e GOL (1.262). Empresas de telecomunicações, como Telefônica Brasil (894) e Claro (866), também estão entre as principais.\n",
    "\n",
    "- Gastos com viagens dominam: O alto número de reembolsos para agências e companhias aéreas reforça que deslocamentos são uma das principais despesas parlamentares.\n",
    "- Serviços de telecomunicações são recorrentes: Custos com telefonia e internet são constantes entre os senadores.\n",
    "- Padrões previsíveis de consumo: A concentração de gastos em poucos fornecedores pode indicar contratos contínuos ou preferências institucionais, facilitando análises futuras sobre otimização de custos."
   ]
  },
  {
   "cell_type": "markdown",
   "metadata": {},
   "source": [
    "### 2.6 Frequência dos detalhamentos de despesas\n",
    "   **Pergunta:** Quais são os detalhamentos de despesa mais recorrentes nos reembolsos parlamentares?\n",
    "\n",
    "   **Hipótese:** Muitos reembolsos podem não ter um detalhamento específico informado, indicando possíveis lacunas na transparência do uso dos recursos."
   ]
  },
  {
   "cell_type": "code",
   "execution_count": 93,
   "metadata": {},
   "outputs": [
    {
     "data": {
      "text/html": [
       "<div>\n",
       "<style scoped>\n",
       "    .dataframe tbody tr th:only-of-type {\n",
       "        vertical-align: middle;\n",
       "    }\n",
       "\n",
       "    .dataframe tbody tr th {\n",
       "        vertical-align: top;\n",
       "    }\n",
       "\n",
       "    .dataframe thead th {\n",
       "        text-align: right;\n",
       "    }\n",
       "</style>\n",
       "<table border=\"1\" class=\"dataframe\">\n",
       "  <thead>\n",
       "    <tr style=\"text-align: right;\">\n",
       "      <th></th>\n",
       "      <th>Detalhamento</th>\n",
       "      <th>Ocorrência</th>\n",
       "      <th>Proporção (%)</th>\n",
       "    </tr>\n",
       "  </thead>\n",
       "  <tbody>\n",
       "    <tr>\n",
       "      <th>0</th>\n",
       "      <td>Não informado</td>\n",
       "      <td>32635</td>\n",
       "      <td>38.01</td>\n",
       "    </tr>\n",
       "    <tr>\n",
       "      <th>1</th>\n",
       "      <td>Aquisição de combustível para veículos utilizados na atividade parlamentar.</td>\n",
       "      <td>1541</td>\n",
       "      <td>1.79</td>\n",
       "    </tr>\n",
       "    <tr>\n",
       "      <th>2</th>\n",
       "      <td>DESPESA COM COMBUSTÍVEL EM VEÍCULOS UTILIZADOS NA ATIVIDADE PARLAMENTAR.</td>\n",
       "      <td>1484</td>\n",
       "      <td>1.73</td>\n",
       "    </tr>\n",
       "    <tr>\n",
       "      <th>3</th>\n",
       "      <td>Serviço de táxi utilizado durante as atividades parlamentares.</td>\n",
       "      <td>805</td>\n",
       "      <td>0.94</td>\n",
       "    </tr>\n",
       "    <tr>\n",
       "      <th>4</th>\n",
       "      <td>DESPESA COM ALIMENTAÇÃO.</td>\n",
       "      <td>614</td>\n",
       "      <td>0.72</td>\n",
       "    </tr>\n",
       "    <tr>\n",
       "      <th>5</th>\n",
       "      <td>Senador José Serra - Aquisição de combustível para veículo utilizado na atividade parlamentar.</td>\n",
       "      <td>577</td>\n",
       "      <td>0.67</td>\n",
       "    </tr>\n",
       "    <tr>\n",
       "      <th>6</th>\n",
       "      <td>Despesa com divulgação da atividade parlamentar</td>\n",
       "      <td>450</td>\n",
       "      <td>0.52</td>\n",
       "    </tr>\n",
       "    <tr>\n",
       "      <th>7</th>\n",
       "      <td>Despesa com combustível para veículo utilizado durante a atividade parlamentar.</td>\n",
       "      <td>446</td>\n",
       "      <td>0.52</td>\n",
       "    </tr>\n",
       "    <tr>\n",
       "      <th>8</th>\n",
       "      <td>Despesa com aquisição de combustível para veículo utilizado na atividade parlamentar</td>\n",
       "      <td>376</td>\n",
       "      <td>0.44</td>\n",
       "    </tr>\n",
       "    <tr>\n",
       "      <th>9</th>\n",
       "      <td>DESPESA COM COMBUSTÍVEL QUE SERVE O SENADOR EDUARDO GOMES EM SUAS ATIVIDADES PARLAMENTARES.</td>\n",
       "      <td>282</td>\n",
       "      <td>0.33</td>\n",
       "    </tr>\n",
       "  </tbody>\n",
       "</table>\n",
       "</div>"
      ],
      "text/plain": [
       "                                                                                     Detalhamento  \\\n",
       "0                                                                                   Não informado   \n",
       "1                     Aquisição de combustível para veículos utilizados na atividade parlamentar.   \n",
       "2                        DESPESA COM COMBUSTÍVEL EM VEÍCULOS UTILIZADOS NA ATIVIDADE PARLAMENTAR.   \n",
       "3                                  Serviço de táxi utilizado durante as atividades parlamentares.   \n",
       "4                                                                        DESPESA COM ALIMENTAÇÃO.   \n",
       "5  Senador José Serra - Aquisição de combustível para veículo utilizado na atividade parlamentar.   \n",
       "6                                                 Despesa com divulgação da atividade parlamentar   \n",
       "7                 Despesa com combustível para veículo utilizado durante a atividade parlamentar.   \n",
       "8            Despesa com aquisição de combustível para veículo utilizado na atividade parlamentar   \n",
       "9     DESPESA COM COMBUSTÍVEL QUE SERVE O SENADOR EDUARDO GOMES EM SUAS ATIVIDADES PARLAMENTARES.   \n",
       "\n",
       "   Ocorrência  Proporção (%)  \n",
       "0       32635          38.01  \n",
       "1        1541           1.79  \n",
       "2        1484           1.73  \n",
       "3         805           0.94  \n",
       "4         614           0.72  \n",
       "5         577           0.67  \n",
       "6         450           0.52  \n",
       "7         446           0.52  \n",
       "8         376           0.44  \n",
       "9         282           0.33  "
      ]
     },
     "metadata": {},
     "output_type": "display_data"
    }
   ],
   "source": [
    "# Criar uma tabela com os detalhamentos mais frequentes\n",
    "tabela_detalhamentos = df_ceaps_limpo[\"DETALHAMENTO\"].value_counts(normalize=True).reset_index()\n",
    "tabela_detalhamentos.columns = [\"Detalhamento\", \"Proporção\"]\n",
    "tabela_detalhamentos[\"Ocorrência\"] = df_ceaps_limpo[\"DETALHAMENTO\"].value_counts().values\n",
    "tabela_detalhamentos[\"Proporção (%)\"] = (tabela_detalhamentos[\"Proporção\"] * 100).round(2)\n",
    "\n",
    "# Reorganizar colunas para melhor visualização\n",
    "tabela_detalhamentos = tabela_detalhamentos[[\"Detalhamento\", \"Ocorrência\", \"Proporção (%)\"]]\n",
    "\n",
    "# Exibir os 10 principais detalhamentos\n",
    "pd.options.display.max_colwidth = None  # Mostra o texto completo na tabela\n",
    "display(tabela_detalhamentos.head(10))"
   ]
  },
  {
   "cell_type": "markdown",
   "metadata": {},
   "source": [
    "#### 2.6.1 Gastos sem detalhamento específico"
   ]
  },
  {
   "cell_type": "code",
   "execution_count": 94,
   "metadata": {},
   "outputs": [
    {
     "name": "stdout",
     "output_type": "stream",
     "text": [
      "Os 10 senadores com maior volume de reembolsos na categoria 'Não informado' são:\n",
      "SENADOR\n",
      "CARLOS VIANA               750863.28\n",
      "ZENAIDE MAIA               729683.98\n",
      "TELMÁRIO MOTA              697450.02\n",
      "VENEZIANO VITAL DO RÊGO    614603.69\n",
      "LUCAS BARRETO              610430.46\n",
      "DANIELLA RIBEIRO           608463.51\n",
      "ESPERIDIÃO AMIN            575819.82\n",
      "ROGÉRIO CARVALHO           504575.72\n",
      "ROMÁRIO                    495050.55\n",
      "JEAN PAUL PRATES           470736.00\n",
      "Name: VALOR_REEMBOLSADO, dtype: float64\n"
     ]
    }
   ],
   "source": [
    "# Filtrar apenas as despesas da categoria \"Não informado\"\n",
    "nao_informado = df_ceaps_limpo[df_ceaps_limpo[\"DETALHAMENTO\"] == \"Não informado\"]\n",
    "\n",
    "# Agrupar por parlamentar e somar os gastos\n",
    "gastos_nao_informado = nao_informado.groupby(\"SENADOR\")[\"VALOR_REEMBOLSADO\"].sum().sort_values(ascending=False)\n",
    "\n",
    "# Exibir os 10 parlamentares que mais gastaram nessa categoria\n",
    "print(\"Os 10 senadores com maior volume de reembolsos na categoria 'Não informado' são:\")\n",
    "print(gastos_nao_informado.head(10))"
   ]
  },
  {
   "cell_type": "markdown",
   "metadata": {},
   "source": [
    "A análise das despesas por detalhamento revela que a categoria \"Não informado\" concentra a maior parte dos gastos, totalizando R$ 18.372.506,60, o que compromete a transparência e dificulta a avaliação detalhada. Entre as categorias especificadas, os maiores valores estão relacionados à divulgação da atividade parlamentar e combustíveis.\n",
    "\n",
    "Além disso, alguns senadores concentram altos valores na categoria \"Não informado\", com reembolsos entre R$ 470.736,00 e R$ 750.863,28, levantando questões sobre a transparência desses gastos.\n",
    "\n",
    "- O alto percentual de despesas sem detalhamento pode indicar falhas na prestação de contas.\n",
    "- A categorização dos gastos apresenta inconsistências, como múltiplas categorias para despesas similares.\n",
    "- Entre as despesas informadas, há um grande investimento em divulgação e combustíveis.\n",
    "\n",
    "Recomenda-se um maior rigor no detalhamento dos reembolsos para garantir maior transparência e facilitar a fiscalização."
   ]
  },
  {
   "cell_type": "markdown",
   "metadata": {},
   "source": [
    "### 2.7 Valor médio de reembolso por senador\n",
    "   **Pergunta:** Qual é a média de valores reembolsados por senador?  \n",
    "   \n",
    "   **Hipótese:** Alguns senadores podem estar recebendo um valor muito abaixo ou acima da média, o que pode ser interessante de investigar."
   ]
  },
  {
   "cell_type": "code",
   "execution_count": 95,
   "metadata": {},
   "outputs": [
    {
     "name": "stdout",
     "output_type": "stream",
     "text": [
      "Os 10 senadores com maior média de reembolso são:\n",
      "\n",
      "SENADOR\n",
      "NEY SUASSUNA            2212.391000\n",
      "FABIO GARCIA            2130.713043\n",
      "RAFAEL TENÓRIO          2004.297209\n",
      "OMAR AZIZ               1967.724074\n",
      "SAMUEL ARAUJO           1927.725000\n",
      "ELIZIANE GAMA           1915.311993\n",
      "EDISON LOBÃO            1913.325185\n",
      "VIRGINIO DE CARVALHO    1906.853333\n",
      "EDUARDO VELLOSO         1846.051429\n",
      "DRA. EUDÓCIA            1844.546562\n",
      "Name: VALOR_REEMBOLSADO, dtype: float64\n"
     ]
    }
   ],
   "source": [
    "# Calcular a média de valor reembolsado por senador\n",
    "media_reembolso_senador = df_ceaps_limpo.groupby(\"SENADOR\")[\"VALOR_REEMBOLSADO\"].mean().sort_values(ascending=False)\n",
    "\n",
    "# Exibir os 10 senadores com maior média de reembolso\n",
    "print(\"Os 10 senadores com maior média de reembolso são:\\n\")\n",
    "print(media_reembolso_senador.head(10))"
   ]
  },
  {
   "cell_type": "markdown",
   "metadata": {},
   "source": [
    "A média de reembolso por senador varia consideravelmente, com Ney Suassuna liderando (R$ 2.212,39), seguido por Fábio Garcia (R$ 2.130,71) e Rafael Tenório (R$ 2.004,30). Essa diferença pode estar relacionada ao tipo de despesa, frequência dos pedidos ou diferentes padrões de gastos.\n",
    "\n",
    "- Há grande variação entre os senadores, indicando perfis distintos de reembolsos.\n",
    "- Despesas de maior valor, como passagens e publicidade, podem influenciar a média.\n",
    "- Alguns parlamentares podem acumular ou parcelar gastos antes da solicitação.\n",
    "U\n",
    "ma análise mais aprofundada, cruzando esses dados com categorias de despesa e frequência de pedidos, pode esclarecer melhor essas diferenças."
   ]
  },
  {
   "cell_type": "markdown",
   "metadata": {},
   "source": [
    "### 2.8 Gastos em anos eleitorais\n",
    "   **Pergunta:** Os gastos com \"Divulgação da Atividade Parlamentar\" aumentam durante os anos eleitorais?  \n",
    "   \n",
    "   **Hipótese:** Durante os anos de eleição, pode haver mais reembolsos relacionados a divulgação."
   ]
  },
  {
   "cell_type": "code",
   "execution_count": 96,
   "metadata": {},
   "outputs": [
    {
     "data": {
      "application/vnd.plotly.v1+json": {
       "config": {
        "plotlyServerURL": "https://plot.ly"
       },
       "data": [
        {
         "hovertemplate": "Ano: %{x}<br>Reembolso: R$%{y:,.2f}",
         "legendgroup": "",
         "line": {
          "color": "#8B008B",
          "dash": "solid",
          "width": 3
         },
         "marker": {
          "color": "#8B008B",
          "size": 8,
          "symbol": "circle"
         },
         "mode": "lines+markers",
         "name": "",
         "orientation": "v",
         "showlegend": false,
         "type": "scatter",
         "x": {
          "bdata": "4gfjB+QH5QfmBw==",
          "dtype": "i2"
         },
         "xaxis": "x",
         "y": {
          "bdata": "rkfh+naeKkHD9ShcqsQsQY/C9ai63zNBj8L1KP9HN0EfhesR388wQQ==",
          "dtype": "f8"
         },
         "yaxis": "y"
        }
       ],
       "layout": {
        "font": {
         "family": "Arial, sans-serif",
         "size": 14
        },
        "hovermode": "x unified",
        "legend": {
         "tracegroupgap": 0
        },
        "margin": {
         "b": 50,
         "l": 50,
         "r": 30,
         "t": 50
        },
        "plot_bgcolor": "rgba(0,0,0,0)",
        "template": {
         "data": {
          "bar": [
           {
            "error_x": {
             "color": "#2a3f5f"
            },
            "error_y": {
             "color": "#2a3f5f"
            },
            "marker": {
             "line": {
              "color": "white",
              "width": 0.5
             },
             "pattern": {
              "fillmode": "overlay",
              "size": 10,
              "solidity": 0.2
             }
            },
            "type": "bar"
           }
          ],
          "barpolar": [
           {
            "marker": {
             "line": {
              "color": "white",
              "width": 0.5
             },
             "pattern": {
              "fillmode": "overlay",
              "size": 10,
              "solidity": 0.2
             }
            },
            "type": "barpolar"
           }
          ],
          "carpet": [
           {
            "aaxis": {
             "endlinecolor": "#2a3f5f",
             "gridcolor": "#C8D4E3",
             "linecolor": "#C8D4E3",
             "minorgridcolor": "#C8D4E3",
             "startlinecolor": "#2a3f5f"
            },
            "baxis": {
             "endlinecolor": "#2a3f5f",
             "gridcolor": "#C8D4E3",
             "linecolor": "#C8D4E3",
             "minorgridcolor": "#C8D4E3",
             "startlinecolor": "#2a3f5f"
            },
            "type": "carpet"
           }
          ],
          "choropleth": [
           {
            "colorbar": {
             "outlinewidth": 0,
             "ticks": ""
            },
            "type": "choropleth"
           }
          ],
          "contour": [
           {
            "colorbar": {
             "outlinewidth": 0,
             "ticks": ""
            },
            "colorscale": [
             [
              0,
              "#0d0887"
             ],
             [
              0.1111111111111111,
              "#46039f"
             ],
             [
              0.2222222222222222,
              "#7201a8"
             ],
             [
              0.3333333333333333,
              "#9c179e"
             ],
             [
              0.4444444444444444,
              "#bd3786"
             ],
             [
              0.5555555555555556,
              "#d8576b"
             ],
             [
              0.6666666666666666,
              "#ed7953"
             ],
             [
              0.7777777777777778,
              "#fb9f3a"
             ],
             [
              0.8888888888888888,
              "#fdca26"
             ],
             [
              1,
              "#f0f921"
             ]
            ],
            "type": "contour"
           }
          ],
          "contourcarpet": [
           {
            "colorbar": {
             "outlinewidth": 0,
             "ticks": ""
            },
            "type": "contourcarpet"
           }
          ],
          "heatmap": [
           {
            "colorbar": {
             "outlinewidth": 0,
             "ticks": ""
            },
            "colorscale": [
             [
              0,
              "#0d0887"
             ],
             [
              0.1111111111111111,
              "#46039f"
             ],
             [
              0.2222222222222222,
              "#7201a8"
             ],
             [
              0.3333333333333333,
              "#9c179e"
             ],
             [
              0.4444444444444444,
              "#bd3786"
             ],
             [
              0.5555555555555556,
              "#d8576b"
             ],
             [
              0.6666666666666666,
              "#ed7953"
             ],
             [
              0.7777777777777778,
              "#fb9f3a"
             ],
             [
              0.8888888888888888,
              "#fdca26"
             ],
             [
              1,
              "#f0f921"
             ]
            ],
            "type": "heatmap"
           }
          ],
          "histogram": [
           {
            "marker": {
             "pattern": {
              "fillmode": "overlay",
              "size": 10,
              "solidity": 0.2
             }
            },
            "type": "histogram"
           }
          ],
          "histogram2d": [
           {
            "colorbar": {
             "outlinewidth": 0,
             "ticks": ""
            },
            "colorscale": [
             [
              0,
              "#0d0887"
             ],
             [
              0.1111111111111111,
              "#46039f"
             ],
             [
              0.2222222222222222,
              "#7201a8"
             ],
             [
              0.3333333333333333,
              "#9c179e"
             ],
             [
              0.4444444444444444,
              "#bd3786"
             ],
             [
              0.5555555555555556,
              "#d8576b"
             ],
             [
              0.6666666666666666,
              "#ed7953"
             ],
             [
              0.7777777777777778,
              "#fb9f3a"
             ],
             [
              0.8888888888888888,
              "#fdca26"
             ],
             [
              1,
              "#f0f921"
             ]
            ],
            "type": "histogram2d"
           }
          ],
          "histogram2dcontour": [
           {
            "colorbar": {
             "outlinewidth": 0,
             "ticks": ""
            },
            "colorscale": [
             [
              0,
              "#0d0887"
             ],
             [
              0.1111111111111111,
              "#46039f"
             ],
             [
              0.2222222222222222,
              "#7201a8"
             ],
             [
              0.3333333333333333,
              "#9c179e"
             ],
             [
              0.4444444444444444,
              "#bd3786"
             ],
             [
              0.5555555555555556,
              "#d8576b"
             ],
             [
              0.6666666666666666,
              "#ed7953"
             ],
             [
              0.7777777777777778,
              "#fb9f3a"
             ],
             [
              0.8888888888888888,
              "#fdca26"
             ],
             [
              1,
              "#f0f921"
             ]
            ],
            "type": "histogram2dcontour"
           }
          ],
          "mesh3d": [
           {
            "colorbar": {
             "outlinewidth": 0,
             "ticks": ""
            },
            "type": "mesh3d"
           }
          ],
          "parcoords": [
           {
            "line": {
             "colorbar": {
              "outlinewidth": 0,
              "ticks": ""
             }
            },
            "type": "parcoords"
           }
          ],
          "pie": [
           {
            "automargin": true,
            "type": "pie"
           }
          ],
          "scatter": [
           {
            "fillpattern": {
             "fillmode": "overlay",
             "size": 10,
             "solidity": 0.2
            },
            "type": "scatter"
           }
          ],
          "scatter3d": [
           {
            "line": {
             "colorbar": {
              "outlinewidth": 0,
              "ticks": ""
             }
            },
            "marker": {
             "colorbar": {
              "outlinewidth": 0,
              "ticks": ""
             }
            },
            "type": "scatter3d"
           }
          ],
          "scattercarpet": [
           {
            "marker": {
             "colorbar": {
              "outlinewidth": 0,
              "ticks": ""
             }
            },
            "type": "scattercarpet"
           }
          ],
          "scattergeo": [
           {
            "marker": {
             "colorbar": {
              "outlinewidth": 0,
              "ticks": ""
             }
            },
            "type": "scattergeo"
           }
          ],
          "scattergl": [
           {
            "marker": {
             "colorbar": {
              "outlinewidth": 0,
              "ticks": ""
             }
            },
            "type": "scattergl"
           }
          ],
          "scattermap": [
           {
            "marker": {
             "colorbar": {
              "outlinewidth": 0,
              "ticks": ""
             }
            },
            "type": "scattermap"
           }
          ],
          "scattermapbox": [
           {
            "marker": {
             "colorbar": {
              "outlinewidth": 0,
              "ticks": ""
             }
            },
            "type": "scattermapbox"
           }
          ],
          "scatterpolar": [
           {
            "marker": {
             "colorbar": {
              "outlinewidth": 0,
              "ticks": ""
             }
            },
            "type": "scatterpolar"
           }
          ],
          "scatterpolargl": [
           {
            "marker": {
             "colorbar": {
              "outlinewidth": 0,
              "ticks": ""
             }
            },
            "type": "scatterpolargl"
           }
          ],
          "scatterternary": [
           {
            "marker": {
             "colorbar": {
              "outlinewidth": 0,
              "ticks": ""
             }
            },
            "type": "scatterternary"
           }
          ],
          "surface": [
           {
            "colorbar": {
             "outlinewidth": 0,
             "ticks": ""
            },
            "colorscale": [
             [
              0,
              "#0d0887"
             ],
             [
              0.1111111111111111,
              "#46039f"
             ],
             [
              0.2222222222222222,
              "#7201a8"
             ],
             [
              0.3333333333333333,
              "#9c179e"
             ],
             [
              0.4444444444444444,
              "#bd3786"
             ],
             [
              0.5555555555555556,
              "#d8576b"
             ],
             [
              0.6666666666666666,
              "#ed7953"
             ],
             [
              0.7777777777777778,
              "#fb9f3a"
             ],
             [
              0.8888888888888888,
              "#fdca26"
             ],
             [
              1,
              "#f0f921"
             ]
            ],
            "type": "surface"
           }
          ],
          "table": [
           {
            "cells": {
             "fill": {
              "color": "#EBF0F8"
             },
             "line": {
              "color": "white"
             }
            },
            "header": {
             "fill": {
              "color": "#C8D4E3"
             },
             "line": {
              "color": "white"
             }
            },
            "type": "table"
           }
          ]
         },
         "layout": {
          "annotationdefaults": {
           "arrowcolor": "#2a3f5f",
           "arrowhead": 0,
           "arrowwidth": 1
          },
          "autotypenumbers": "strict",
          "coloraxis": {
           "colorbar": {
            "outlinewidth": 0,
            "ticks": ""
           }
          },
          "colorscale": {
           "diverging": [
            [
             0,
             "#8e0152"
            ],
            [
             0.1,
             "#c51b7d"
            ],
            [
             0.2,
             "#de77ae"
            ],
            [
             0.3,
             "#f1b6da"
            ],
            [
             0.4,
             "#fde0ef"
            ],
            [
             0.5,
             "#f7f7f7"
            ],
            [
             0.6,
             "#e6f5d0"
            ],
            [
             0.7,
             "#b8e186"
            ],
            [
             0.8,
             "#7fbc41"
            ],
            [
             0.9,
             "#4d9221"
            ],
            [
             1,
             "#276419"
            ]
           ],
           "sequential": [
            [
             0,
             "#0d0887"
            ],
            [
             0.1111111111111111,
             "#46039f"
            ],
            [
             0.2222222222222222,
             "#7201a8"
            ],
            [
             0.3333333333333333,
             "#9c179e"
            ],
            [
             0.4444444444444444,
             "#bd3786"
            ],
            [
             0.5555555555555556,
             "#d8576b"
            ],
            [
             0.6666666666666666,
             "#ed7953"
            ],
            [
             0.7777777777777778,
             "#fb9f3a"
            ],
            [
             0.8888888888888888,
             "#fdca26"
            ],
            [
             1,
             "#f0f921"
            ]
           ],
           "sequentialminus": [
            [
             0,
             "#0d0887"
            ],
            [
             0.1111111111111111,
             "#46039f"
            ],
            [
             0.2222222222222222,
             "#7201a8"
            ],
            [
             0.3333333333333333,
             "#9c179e"
            ],
            [
             0.4444444444444444,
             "#bd3786"
            ],
            [
             0.5555555555555556,
             "#d8576b"
            ],
            [
             0.6666666666666666,
             "#ed7953"
            ],
            [
             0.7777777777777778,
             "#fb9f3a"
            ],
            [
             0.8888888888888888,
             "#fdca26"
            ],
            [
             1,
             "#f0f921"
            ]
           ]
          },
          "colorway": [
           "#636efa",
           "#EF553B",
           "#00cc96",
           "#ab63fa",
           "#FFA15A",
           "#19d3f3",
           "#FF6692",
           "#B6E880",
           "#FF97FF",
           "#FECB52"
          ],
          "font": {
           "color": "#2a3f5f"
          },
          "geo": {
           "bgcolor": "white",
           "lakecolor": "white",
           "landcolor": "white",
           "showlakes": true,
           "showland": true,
           "subunitcolor": "#C8D4E3"
          },
          "hoverlabel": {
           "align": "left"
          },
          "hovermode": "closest",
          "mapbox": {
           "style": "light"
          },
          "paper_bgcolor": "white",
          "plot_bgcolor": "white",
          "polar": {
           "angularaxis": {
            "gridcolor": "#EBF0F8",
            "linecolor": "#EBF0F8",
            "ticks": ""
           },
           "bgcolor": "white",
           "radialaxis": {
            "gridcolor": "#EBF0F8",
            "linecolor": "#EBF0F8",
            "ticks": ""
           }
          },
          "scene": {
           "xaxis": {
            "backgroundcolor": "white",
            "gridcolor": "#DFE8F3",
            "gridwidth": 2,
            "linecolor": "#EBF0F8",
            "showbackground": true,
            "ticks": "",
            "zerolinecolor": "#EBF0F8"
           },
           "yaxis": {
            "backgroundcolor": "white",
            "gridcolor": "#DFE8F3",
            "gridwidth": 2,
            "linecolor": "#EBF0F8",
            "showbackground": true,
            "ticks": "",
            "zerolinecolor": "#EBF0F8"
           },
           "zaxis": {
            "backgroundcolor": "white",
            "gridcolor": "#DFE8F3",
            "gridwidth": 2,
            "linecolor": "#EBF0F8",
            "showbackground": true,
            "ticks": "",
            "zerolinecolor": "#EBF0F8"
           }
          },
          "shapedefaults": {
           "line": {
            "color": "#2a3f5f"
           }
          },
          "ternary": {
           "aaxis": {
            "gridcolor": "#DFE8F3",
            "linecolor": "#A2B1C6",
            "ticks": ""
           },
           "baxis": {
            "gridcolor": "#DFE8F3",
            "linecolor": "#A2B1C6",
            "ticks": ""
           },
           "bgcolor": "white",
           "caxis": {
            "gridcolor": "#DFE8F3",
            "linecolor": "#A2B1C6",
            "ticks": ""
           }
          },
          "title": {
           "x": 0.05
          },
          "xaxis": {
           "automargin": true,
           "gridcolor": "#EBF0F8",
           "linecolor": "#EBF0F8",
           "ticks": "",
           "title": {
            "standoff": 15
           },
           "zerolinecolor": "#EBF0F8",
           "zerolinewidth": 2
          },
          "yaxis": {
           "automargin": true,
           "gridcolor": "#EBF0F8",
           "linecolor": "#EBF0F8",
           "ticks": "",
           "title": {
            "standoff": 15
           },
           "zerolinecolor": "#EBF0F8",
           "zerolinewidth": 2
          }
         }
        },
        "title": {
         "font": {
          "family": "Arial, sans-serif",
          "size": 18
         },
         "text": "Evolução dos gastos com divulgação da atividade parlamentar",
         "x": 0.5
        },
        "xaxis": {
         "anchor": "y",
         "domain": [
          0,
          1
         ],
         "dtick": 1,
         "gridcolor": "lightgrey",
         "showgrid": true,
         "tick0": 2018,
         "tickmode": "linear",
         "title": {
          "text": "Ano"
         }
        },
        "yaxis": {
         "anchor": "x",
         "domain": [
          0,
          1
         ],
         "gridcolor": "lightgrey",
         "showgrid": true,
         "tickformat": ".2f",
         "title": {
          "text": "Total reembolsado (R$)"
         }
        }
       }
      }
     },
     "metadata": {},
     "output_type": "display_data"
    }
   ],
   "source": [
    "# Filtrar apenas os gastos com \"Divulgação da Atividade Parlamentar\"\n",
    "df_divulgacao = df_ceaps_limpo[df_ceaps_limpo[\"TIPO_DESPESA\"].str.contains(\"Divulgação\", case=False, na=False)]\n",
    "\n",
    "# Agrupar por ano e somar os gastos\n",
    "gastos_divulgacao_por_ano = df_divulgacao.groupby(\"ANO\")[\"VALOR_REEMBOLSADO\"].sum().reset_index()\n",
    "\n",
    "# Criar o gráfico de linha\n",
    "fig = px.line(\n",
    "    gastos_divulgacao_por_ano,\n",
    "    x=\"ANO\",\n",
    "    y=\"VALOR_REEMBOLSADO\",\n",
    "    markers=True,\n",
    "    title=\"Evolução dos gastos com divulgação da atividade parlamentar\",\n",
    ")\n",
    "\n",
    "# Melhorar a estética do gráfico\n",
    "fig.update_layout(\n",
    "    xaxis_title=\"Ano\",\n",
    "    yaxis_title=\"Total reembolsado (R$)\",\n",
    "    template=\"plotly_white\",\n",
    "    title_x=0.5,  # Centralizar título\n",
    "    font=dict(family=\"Arial, sans-serif\", size=14),  # Fonte padrão\n",
    "    title_font=dict(size=18, family=\"Arial, sans-serif\"),\n",
    "    yaxis=dict(tickformat=\".2f\", showgrid=True, gridcolor=\"lightgrey\"),  # Melhorar formatação e grade\n",
    "    xaxis=dict(\n",
    "        tickmode=\"linear\",\n",
    "        tick0=min(gastos_divulgacao_por_ano[\"ANO\"]),\n",
    "        dtick=1,\n",
    "        showgrid=True,\n",
    "        gridcolor=\"lightgrey\"\n",
    "    ),\n",
    "    margin=dict(l=50, r=30, t=50, b=50),\n",
    "    hovermode=\"x unified\",\n",
    "    plot_bgcolor=\"rgba(0,0,0,0)\",  # Fundo transparente\n",
    ")\n",
    "\n",
    "# Ajustar traços e marcadores\n",
    "fig.update_traces(\n",
    "    line=dict(color=\"#8B008B\", width=3),\n",
    "    marker=dict(size=8, symbol=\"circle\", color=\"#8B008B\"),\n",
    "    hovertemplate=\"Ano: %{x}<br>Reembolso: R$%{y:,.2f}\"\n",
    ")\n",
    "\n",
    "fig.show()"
   ]
  },
  {
   "cell_type": "markdown",
   "metadata": {},
   "source": [
    "Diferente do esperado, os gastos com Divulgação da Atividade Parlamentar não aumentam necessariamente em anos eleitorais. Embora 2022 tenha registrado um valor considerável (R$ 1,1 milhão), o maior gasto ocorreu em 2021 (R$ 1,52 milhão), um ano não eleitoral. Da mesma forma, 2019 e 2020 também tiveram despesas superiores às de 2018.\n",
    "\n",
    "Isso sugere que os parlamentares mantêm um padrão constante de investimento em divulgação, independentemente do calendário eleitoral. O crescimento contínuo entre 2019 e 2021 pode estar relacionado a outros fatores externos, como mudanças nas estratégias de comunicação, novas regulamentações ou até o impacto da pandemia na necessidade de comunicação digital.\n",
    "\n",
    "Seria interessante analisar quais senadores concentram os maiores gastos e se há mudanças na destinação dos valores entre anos eleitorais e não eleitorais. Além disso, investigar se há picos de gastos em períodos específicos do ano pode fornecer mais insights sobre essa dinâmica."
   ]
  },
  {
   "cell_type": "markdown",
   "metadata": {},
   "source": [
    "### 2.9 Comparação de gastos entre senadores\n",
    "   **Pergunta:** Qual a distribuição dos gastos totais entre os senadores? Alguns senadores gastam muito, enquanto outros gastam pouco?  \n",
    "   \n",
    "   **Hipótese:** Pode haver uma grande disparidade nos gastos, com alguns senadores gastando significativamente mais do que outros."
   ]
  },
  {
   "cell_type": "code",
   "execution_count": 97,
   "metadata": {},
   "outputs": [
    {
     "data": {
      "image/png": "[encoded data removed]",
      "text/plain": [
       "<Figure size 1200x500 with 1 Axes>"
      ]
     },
     "metadata": {},
     "output_type": "display_data"
    }
   ],
   "source": [
    "# Agrupar os dados por senador e calcular o total de gastos\n",
    "gastos_totais = df_ceaps_limpo.groupby(\"SENADOR\")[\"VALOR_REEMBOLSADO\"].sum().values\n",
    "\n",
    "# Calculando estatísticas\n",
    "media = np.mean(gastos_totais)\n",
    "mediana = np.median(gastos_totais)\n",
    "minimo = np.min(gastos_totais)\n",
    "maximo = np.max(gastos_totais)\n",
    "\n",
    "# Criando o boxplot com melhorias visuais\n",
    "plt.figure(figsize=(12, 5))\n",
    "sns.boxplot(x=gastos_totais, color=\"#8B008B\", width=0.4, fliersize=4, linewidth=2)\n",
    "\n",
    "# Adicionando linhas para média e mediana\n",
    "plt.axvline(media, color=\"red\", linestyle=\"--\", linewidth=2, label=f\"Média: R$ {media:,.2f}\")\n",
    "plt.axvline(mediana, color=\"green\", linestyle=\"--\", linewidth=2, label=f\"Mediana: R$ {mediana:,.2f}\")\n",
    "\n",
    "# Adicionando textos para mínimo e máximo\n",
    "plt.text(minimo, 0.13, f\"Min: R$ {minimo:,.2f}\", color=\"black\", fontsize=10, verticalalignment=\"center\")\n",
    "plt.text(maximo, 0.13, f\"Max: R$ {maximo:,.2f}\", color=\"black\", fontsize=10, horizontalalignment=\"right\", verticalalignment=\"center\")\n",
    "\n",
    "# Melhorando os rótulos\n",
    "plt.title(\"Distribuição dos gastos totais reembolsados por Senador\", fontsize=14, fontweight=\"normal\", color=\"#333333\")\n",
    "plt.xlabel(\"Total de gastos por Senador (R$)\", fontsize=12, color=\"#555555\")\n",
    "plt.yticks([])\n",
    "plt.legend(fontsize=10, loc=\"upper right\", frameon=False)\n",
    "\n",
    "# Adicionando grid apenas no eixo X para manter o padrão\n",
    "plt.grid(axis=\"x\", linestyle=\"--\", alpha=0.5)\n",
    "\n",
    "plt.show()"
   ]
  },
  {
   "cell_type": "markdown",
   "metadata": {},
   "source": [
    "#### 2.9.1 Identificação de outliers"
   ]
  },
  {
   "cell_type": "code",
   "execution_count": 98,
   "metadata": {},
   "outputs": [
    {
     "data": {
      "text/html": [
       "<div>\n",
       "<style scoped>\n",
       "    .dataframe tbody tr th:only-of-type {\n",
       "        vertical-align: middle;\n",
       "    }\n",
       "\n",
       "    .dataframe tbody tr th {\n",
       "        vertical-align: top;\n",
       "    }\n",
       "\n",
       "    .dataframe thead th {\n",
       "        text-align: right;\n",
       "    }\n",
       "</style>\n",
       "<table border=\"1\" class=\"dataframe\">\n",
       "  <thead>\n",
       "    <tr style=\"text-align: right;\">\n",
       "      <th></th>\n",
       "      <th>Senador (Menos Gasto)</th>\n",
       "      <th>Gasto Total (R$)</th>\n",
       "      <th>Senador (Mais Gasto)</th>\n",
       "      <th>Gasto Total (R$)</th>\n",
       "    </tr>\n",
       "  </thead>\n",
       "  <tbody>\n",
       "    <tr>\n",
       "      <th>0</th>\n",
       "      <td>BLAIRO MAGGI</td>\n",
       "      <td>1543.95</td>\n",
       "      <td>ELMANO FÉRRER</td>\n",
       "      <td>1058062.06</td>\n",
       "    </tr>\n",
       "    <tr>\n",
       "      <th>1</th>\n",
       "      <td>NAILDE PANTA</td>\n",
       "      <td>1650.62</td>\n",
       "      <td>RANDOLFE RODRIGUES</td>\n",
       "      <td>1109164.94</td>\n",
       "    </tr>\n",
       "    <tr>\n",
       "      <th>2</th>\n",
       "      <td>VIRGINIO DE CARVALHO</td>\n",
       "      <td>5720.56</td>\n",
       "      <td>VENEZIANO VITAL DO RÊGO</td>\n",
       "      <td>1194847.98</td>\n",
       "    </tr>\n",
       "    <tr>\n",
       "      <th>3</th>\n",
       "      <td>SIQUEIRA CAMPOS</td>\n",
       "      <td>5926.99</td>\n",
       "      <td>ROMÁRIO</td>\n",
       "      <td>1204755.58</td>\n",
       "    </tr>\n",
       "    <tr>\n",
       "      <th>4</th>\n",
       "      <td>SAMUEL ARAUJO</td>\n",
       "      <td>7710.90</td>\n",
       "      <td>FERNANDO BEZERRA COELHO</td>\n",
       "      <td>1344952.67</td>\n",
       "    </tr>\n",
       "  </tbody>\n",
       "</table>\n",
       "</div>"
      ],
      "text/plain": [
       "  Senador (Menos Gasto)  Gasto Total (R$)     Senador (Mais Gasto)  \\\n",
       "0          BLAIRO MAGGI           1543.95            ELMANO FÉRRER   \n",
       "1          NAILDE PANTA           1650.62       RANDOLFE RODRIGUES   \n",
       "2  VIRGINIO DE CARVALHO           5720.56  VENEZIANO VITAL DO RÊGO   \n",
       "3       SIQUEIRA CAMPOS           5926.99                  ROMÁRIO   \n",
       "4         SAMUEL ARAUJO           7710.90  FERNANDO BEZERRA COELHO   \n",
       "\n",
       "   Gasto Total (R$)  \n",
       "0        1058062.06  \n",
       "1        1109164.94  \n",
       "2        1194847.98  \n",
       "3        1204755.58  \n",
       "4        1344952.67  "
      ]
     },
     "execution_count": 98,
     "metadata": {},
     "output_type": "execute_result"
    }
   ],
   "source": [
    "# Ordenando os senadores pelo total reembolsado\n",
    "df_gastos_por_senador = df_ceaps_limpo.groupby(\"SENADOR\")[\"VALOR_REEMBOLSADO\"].sum().reset_index()\n",
    "\n",
    "# Ordenando do menor para o maior\n",
    "df_gastos_ordenado = df_gastos_por_senador.sort_values(by=\"VALOR_REEMBOLSADO\")\n",
    "\n",
    "# Selecionando os 5 menores e os 5 maiores gastos\n",
    "menores_gastos = df_gastos_ordenado.head(5).reset_index(drop=True)\n",
    "maiores_gastos = df_gastos_ordenado.tail(5).reset_index(drop=True)\n",
    "\n",
    "# Concatenando lado a lado\n",
    "df_top_bottom = pd.concat([menores_gastos, maiores_gastos], axis=1)\n",
    "\n",
    "# Renomeando as colunas para facilitar a leitura\n",
    "df_top_bottom.columns = [\"Senador (Menos Gasto)\", \"Gasto Total (R$)\", \"Senador (Mais Gasto)\", \"Gasto Total (R$)\"]\n",
    "\n",
    "# Exibir a tabela formatada\n",
    "df_top_bottom\n"
   ]
  },
  {
   "cell_type": "markdown",
   "metadata": {},
   "source": [
    "O boxplot confirma a hipótese de que há uma grande disparidade nos gastos totais reembolsados entre os senadores. A presença de um outlier notável de R$ 1.344.952,67 (Fernando Bezerra Coelho) e a distribuição assimétrica dos dados indicam que alguns senadores gastam significativamente mais do que outros. \n",
    "\n",
    "A diferença entre a média (R$ 350.008,32) e a mediana (R$ 228.868,63) indica que a média é influenciada por valores extremos. O valor mínimo de R$ 1.543,95 destaca a grande variação nos gastos.\n",
    "\n",
    "A análise detalhada dos tipos de despesas e das atividades realizadas pelos senadores com maiores gastos pode fornecer insights adicionais sobre os fatores que influenciam essa disparidade."
   ]
  },
  {
   "cell_type": "markdown",
   "metadata": {},
   "source": [
    "\n",
    "### 3.10 Média de valor reembolsado por tipo de despesa\n",
    "   **Pergunta:** Qual é a média de reembolso por tipo de despesa?  \n",
    "   \n",
    "   **Hipótese:** Alguns tipos de despesa podem ter valores médios mais altos, como gastos com viagens ou publicidade."
   ]
  },
  {
   "cell_type": "code",
   "execution_count": 99,
   "metadata": {},
   "outputs": [
    {
     "name": "stderr",
     "output_type": "stream",
     "text": [
      "/var/folders/tb/3rkysv496vs8fxvth4bytgs40000gn/T/ipykernel_91322/59488173.py:11: FutureWarning:\n",
      "\n",
      "\n",
      "\n",
      "Passing `palette` without assigning `hue` is deprecated and will be removed in v0.14.0. Assign the `y` variable to `hue` and set `legend=False` for the same effect.\n",
      "\n",
      "\n"
     ]
    },
    {
     "data": {
      "image/png": "[encoded data removed]",
      "text/plain": [
       "<Figure size 1200x800 with 1 Axes>"
      ]
     },
     "metadata": {},
     "output_type": "display_data"
    }
   ],
   "source": [
    "# Agrupar os dados por \"TIPO_DESPESA\" e calcular a média de \"VALOR_REEMBOLSADO\"\n",
    "df_media_por_tipo = df_ceaps_limpo.groupby(\"TIPO_DESPESA\")[\"VALOR_REEMBOLSADO\"].mean().reset_index()\n",
    "\n",
    "# Ordenar do maior para o menor valor de reembolso\n",
    "df_media_por_tipo = df_media_por_tipo.sort_values(by=\"VALOR_REEMBOLSADO\", ascending=False)\n",
    "\n",
    "# Criar o gráfico de barras\n",
    "plt.figure(figsize=(12, 8))\n",
    "colors = sns.color_palette(\"dark:#8B008B\", n_colors=len(df_media_por_tipo))\n",
    "\n",
    "sns.barplot(\n",
    "    data=df_media_por_tipo, \n",
    "    x=\"VALOR_REEMBOLSADO\", \n",
    "    y=\"TIPO_DESPESA\", \n",
    "    palette=colors\n",
    ")\n",
    "\n",
    "# Melhorar os rótulos\n",
    "plt.xlabel(\"Média de reembolso (R$)\", fontsize=14, fontweight=\"bold\")\n",
    "plt.ylabel(\"Tipo de despesa\", fontsize=14, fontweight=\"bold\")\n",
    "plt.title(\"Média de valor reembolsado por tipo de despesa\", fontsize=18, fontweight=\"bold\", color=\"#333333\")\n",
    "\n",
    "plt.show()"
   ]
  },
  {
   "cell_type": "markdown",
   "metadata": {},
   "source": [
    "Os maiores reembolsos médios estão em divulgação parlamentar, passagens e consultorias, indicando que senadores priorizam comunicação, deslocamento e assessoria. Já despesas operacionais e de locomoção têm os menores valores médios, sugerindo um controle maior nesses gastos."
   ]
  },
  {
   "cell_type": "markdown",
   "metadata": {},
   "source": [
    "## 1.3 Identificação de padrões e insights"
   ]
  },
  {
   "cell_type": "markdown",
   "metadata": {},
   "source": [
    "A análise dos dados da CEAPS entre 2018 e 2022 permitiu identificar padrões relevantes e responder às hipóteses inicialmente propostas. Os resultados demonstram que os gastos parlamentares apresentam variações significativas entre senadores, com uma concentração expressiva em determinadas categorias de despesa e influência direta de fatores externos.\n",
    "\n",
    "- Diferenças no uso da cota e perfis de gastos  \n",
    "    -  Os dados mostram uma grande disparidade nos valores reembolsados pelos senadores. Enquanto alguns fazem uso moderado da cota, outros apresentam despesas significativamente superiores. Essa variação sugere diferentes estratégias na alocação dos recursos, refletindo prioridades individuais e abordagens distintas na gestão dos mandatos.  \n",
    "- Principais categorias de despesa e concentração de gastos  \n",
    "    -  Os reembolsos estão fortemente concentrados em poucas categorias, com destaque para divulgação da atividade parlamentar. Esse padrão reforça a importância da comunicação política e indica que os parlamentares investem consideravelmente em visibilidade. Outras despesas expressivas incluem transporte e assessoria técnica.  \n",
    "- Influência do período eleitoral nos gastos  \n",
    "    - Embora a análise não tenha identificado uma sazonalidade uniforme ao longo dos anos, observou-se um aumento expressivo nos gastos durante anos eleitorais, especialmente em categorias como publicidade. Esse comportamento sugere uma possível correlação entre o calendário político e a intensificação do uso da cota.  \n",
    "- Padrões de fornecedores e contratos recorrentes  \n",
    "    - Um pequeno grupo de fornecedores recebe uma parcela significativa dos reembolsos, indicando uma tendência de contratos recorrentes. Isso pode estar relacionado tanto à confiança em determinados prestadores de serviço quanto à pouca diversificação nas contratações.  \n",
    "- Identificação de outliers e gastos atípicos  \n",
    "    - Alguns senadores se destacam por apresentar gastos muito acima da média, caracterizando-se como outliers. Esse achado reforça a necessidade de uma análise mais detalhada sobre a justificativa dessas despesas, especialmente nas categorias de maior variação.  \n",
    "- Valor médio reembolsado por tipo de despesa  \n",
    "    - Os dados indicam que despesas como publicidade e viagens possuem valores médios de reembolso significativamente superiores às demais. Esse comportamento sugere que esses gastos são considerados estratégicos pelos parlamentares, seja para fortalecer a comunicação com o eleitorado ou para custear deslocamentos necessários ao mandato.  \n"
   ]
  },
  {
   "cell_type": "markdown",
   "metadata": {},
   "source": [
    "## Conclusão"
   ]
  },
  {
   "cell_type": "markdown",
   "metadata": {},
   "source": [
    "- Nesta etapa da análise, exploramos os padrões de gastos parlamentares e sua relação com fatores externos. Identificamos que os gastos apresentam grande variação entre senadores, com forte concentração em determinadas categorias e impacto direto do calendário eleitoral. \n",
    "- Além disso, detectamos outliers e padrões recorrentes na contratação de fornecedores, o que pode indicar tendências importantes na alocação dos recursos públicos. \n",
    "- Esses achados fornecem uma base sólida para futuras investigações e para o aprimoramento da transparência na gestão dos gastos parlamentares.\n",
    "\n",
    "🔜 **Próximos passos:**  \n",
    "A próxima etapa do projeto será a **previsão dos gastos parlamentares para os próximos meses**, utilizando técnicas de **forecasting**. Até o momento, analisamos os dados de forma descritiva para entender o comportamento passado dos gastos. Agora, avançaremos para a etapa de predição, aplicando modelos estatísticos e de aprendizado de máquina para estimar tendências futuras.\n",
    "\n",
    "Com isso, daremos um passo além da análise descritiva e exploratória, utilizando técnicas de ciência de dados para antecipar cenários futuros e apoiar a tomada de decisão baseada em dados."
   ]
  }
 ],
 "metadata": {
  "kernelspec": {
   "display_name": "venv",
   "language": "python",
   "name": "python3"
  },
  "language_info": {
   "codemirror_mode": {
    "name": "ipython",
    "version": 3
   },
   "file_extension": ".py",
   "mimetype": "text/x-python",
   "name": "python",
   "nbconvert_exporter": "python",
   "pygments_lexer": "ipython3",
   "version": "3.11.4"
  }
 },
 "nbformat": 4,
 "nbformat_minor": 2
}
